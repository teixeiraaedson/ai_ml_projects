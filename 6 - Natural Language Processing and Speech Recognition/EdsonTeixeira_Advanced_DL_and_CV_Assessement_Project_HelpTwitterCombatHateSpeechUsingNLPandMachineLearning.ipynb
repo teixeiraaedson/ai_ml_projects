{
 "cells": [
  {
   "cell_type": "markdown",
   "id": "e97f75f8",
   "metadata": {
    "papermill": {
     "duration": 0.076026,
     "end_time": "2021-08-24T16:50:25.797269",
     "exception": false,
     "start_time": "2021-08-24T16:50:25.721243",
     "status": "completed"
    },
    "tags": []
   },
   "source": [
    "# PG AI - Advanced Deep Learning and Computer Vision\n",
    "# Assessement Project: Help Twitter Combat Hate Speech Using NLP and Machine Learning\n",
    "\n",
    "#### DESCRIPTION\n",
    "\n",
    "Using NLP and ML, make a model to identify hate speech (racist or sexist tweets) in Twitter.\n",
    "\n",
    "#### Problem Statement:  \n",
    "Twitter is the biggest platform where anybody and everybody can have their views heard. Some of these voices spread hate and negativity. Twitter is wary of its platform being used as a medium  to spread hate. \n",
    "You are a data scientist at Twitter, and you will help Twitter in identifying the tweets with hate speech and removing them from the platform. You will use NLP techniques, perform specific cleanup for tweets data, and make a robust model.\n",
    "\n",
    "#### Domain: Social Media\n",
    "\n",
    "Analysis to be done: Clean up tweets and build a classification model by using NLP techniques, cleanup specific for tweets data, regularization and hyperparameter tuning using stratified k-fold and cross validation to get the best model.\n",
    "\n",
    "#### Content: \n",
    "id: identifier number of the tweet\n",
    "Label: 0 (non-hate) /1 (hate)\n",
    "Tweet: the text in the tweet\n",
    "\n",
    "#### Tasks: \n",
    "\n",
    "1. Load the tweets file using read_csv function from Pandas package. \n",
    "2. Get the tweets into a list for easy text cleanup and manipulation.\n",
    "3. To cleanup: \n",
    "    1. Normalize the casing.\n",
    "    2. Using regular expressions, remove user handles. These begin with '@’.\n",
    "    3. Using regular expressions, remove URLs.\n",
    "    4. Using TweetTokenizer from NLTK, tokenize the tweets into individual terms.\n",
    "    5. Remove stop words.\n",
    "    6. Remove redundant terms like ‘amp’, ‘rt’, etc.\n",
    "    7. Remove ‘#’ symbols from the tweet while retaining the term.\n",
    "4. Extra cleanup by removing terms with a length of 1.\n",
    "5. Check out the top terms in the tweets:\n",
    "    1. First, get all the tokenized terms into one large list.\n",
    "    2. Use the counter and find the 10 most common terms.\n",
    "6. Data formatting for predictive modeling:\n",
    "    1. Join the tokens back to form strings. This will be required for the vectorizers.\n",
    "    2. Assign x and y.\n",
    "    3. Perform train_test_split using sklearn.\n",
    "7. We’ll use TF-IDF values for the terms as a feature to get into a vector space model.\n",
    "    1. Import TF-IDF  vectorizer from sklearn.\n",
    "    2. Instantiate with a maximum of 5000 terms in your vocabulary.\n",
    "    3. Fit and apply on the train set.\n",
    "    4. Apply on the test set.\n",
    "8. Model building: Ordinary Logistic Regression\n",
    "    1. Instantiate Logistic Regression from sklearn with default parameters.\n",
    "    2. Fit into  the train data.\n",
    "    3. Make predictions for the train and the test set.\n",
    "9. Model evaluation: Accuracy, recall, and f_1 score.\n",
    "    1. Report the accuracy on the train set.\n",
    "    2. Report the recall on the train set: decent, high, or low.\n",
    "    3. Get the f1 score on the train set.\n",
    "10. Looks like you need to adjust the class imbalance, as the model seems to focus on the 0s.\n",
    "    1. Adjust the appropriate class in the LogisticRegression model.\n",
    "11. Train again with the adjustment and evaluate.\n",
    "    1. Train the model on the train set.\n",
    "    2. Evaluate the predictions on the train set: accuracy, recall, and f_1 score.\n",
    "12. Regularization and Hyperparameter tuning:\n",
    "    1. Import GridSearch and StratifiedKFold because of class imbalance.\n",
    "    2. Provide the parameter grid to choose for ‘C’ and ‘penalty’ parameters.\n",
    "    3. Use a balanced class weight while instantiating the logistic regression.\n",
    "13. Find the parameters with the best recall in cross-validation.\n",
    "    1. Choose ‘recall’ as the metric for scoring.\n",
    "    2. Choose a stratified 4 fold cross-validation scheme.\n",
    "    3. Fit into  the train set.\n",
    "14. What are the best parameters?\n",
    "15. Predict and evaluate using the best estimator.\n",
    "    1. Use the best estimator from the grid search to make predictions on the test set.\n",
    "    2. What is the recall on the test set for the toxic comments?\n",
    "    3. What is the f_1 score?\n",
    "\n",
    "\n",
    "\n",
    "By Edson Teixeira<br>\n",
    "teixeiraedson252@gmail.com <br>\n",
    "November 25th 2021"
   ]
  },
  {
   "cell_type": "markdown",
   "id": "1bc63c24",
   "metadata": {
    "papermill": {
     "duration": 0.070088,
     "end_time": "2021-08-24T16:50:26.087829",
     "exception": false,
     "start_time": "2021-08-24T16:50:26.017741",
     "status": "completed"
    },
    "tags": []
   },
   "source": [
    "<a id='1'></a>\n",
    "## _Import Libraries and Load Data_"
   ]
  },
  {
   "cell_type": "code",
   "execution_count": 1,
   "id": "1cffc8e0",
   "metadata": {
    "papermill": {
     "duration": 1.948799,
     "end_time": "2021-08-24T16:50:28.106535",
     "exception": false,
     "start_time": "2021-08-24T16:50:26.157736",
     "status": "completed"
    },
    "tags": []
   },
   "outputs": [],
   "source": [
    "#general packages for data manipulation\n",
    "import os\n",
    "import pandas as pd\n",
    "import numpy as np\n",
    "#visualizations\n",
    "import matplotlib.pyplot as plt\n",
    "import seaborn as sns\n",
    "%matplotlib inline\n",
    "#consistent sized plot \n",
    "from pylab import rcParams\n",
    "rcParams['figure.figsize']=12,5\n",
    "rcParams['axes.labelsize']=12\n",
    "rcParams['xtick.labelsize']=12\n",
    "rcParams['ytick.labelsize']=12\n",
    "#handle the warnings in the code\n",
    "import warnings\n",
    "warnings.filterwarnings(action='ignore',category=DeprecationWarning)\n",
    "warnings.filterwarnings(action='ignore',category=FutureWarning)\n",
    "#text preprocessing libraries\n",
    "import nltk\n",
    "from nltk.corpus import stopwords\n",
    "from nltk.tokenize import word_tokenize\n",
    "from nltk.tokenize import sent_tokenize\n",
    "from nltk.tokenize import WordPunctTokenizer\n",
    "from nltk.tokenize import TweetTokenizer\n",
    "from nltk.stem import WordNetLemmatizer\n",
    "from nltk.stem import PorterStemmer\n",
    "#import texthero\n",
    "#import texthero as hero\n",
    "#regular expressions\n",
    "import re\n",
    "#display pandas dataframe columns \n",
    "pd.options.display.max_columns = None"
   ]
  },
  {
   "cell_type": "code",
   "execution_count": 2,
   "id": "b680d566",
   "metadata": {
    "papermill": {
     "duration": 0.467438,
     "end_time": "2021-08-24T16:50:28.644587",
     "exception": false,
     "start_time": "2021-08-24T16:50:28.177149",
     "status": "completed"
    },
    "tags": []
   },
   "outputs": [
    {
     "data": {
      "text/html": [
       "<div>\n",
       "<style scoped>\n",
       "    .dataframe tbody tr th:only-of-type {\n",
       "        vertical-align: middle;\n",
       "    }\n",
       "\n",
       "    .dataframe tbody tr th {\n",
       "        vertical-align: top;\n",
       "    }\n",
       "\n",
       "    .dataframe thead th {\n",
       "        text-align: right;\n",
       "    }\n",
       "</style>\n",
       "<table border=\"1\" class=\"dataframe\">\n",
       "  <thead>\n",
       "    <tr style=\"text-align: right;\">\n",
       "      <th></th>\n",
       "      <th>id</th>\n",
       "      <th>label</th>\n",
       "      <th>tweet</th>\n",
       "    </tr>\n",
       "  </thead>\n",
       "  <tbody>\n",
       "    <tr>\n",
       "      <th>0</th>\n",
       "      <td>1</td>\n",
       "      <td>0</td>\n",
       "      <td>@user when a father is dysfunctional and is s...</td>\n",
       "    </tr>\n",
       "    <tr>\n",
       "      <th>1</th>\n",
       "      <td>2</td>\n",
       "      <td>0</td>\n",
       "      <td>@user @user thanks for #lyft credit i can't us...</td>\n",
       "    </tr>\n",
       "    <tr>\n",
       "      <th>2</th>\n",
       "      <td>3</td>\n",
       "      <td>0</td>\n",
       "      <td>bihday your majesty</td>\n",
       "    </tr>\n",
       "    <tr>\n",
       "      <th>3</th>\n",
       "      <td>4</td>\n",
       "      <td>0</td>\n",
       "      <td>#model   i love u take with u all the time in ...</td>\n",
       "    </tr>\n",
       "    <tr>\n",
       "      <th>4</th>\n",
       "      <td>5</td>\n",
       "      <td>0</td>\n",
       "      <td>factsguide: society now    #motivation</td>\n",
       "    </tr>\n",
       "  </tbody>\n",
       "</table>\n",
       "</div>"
      ],
      "text/plain": [
       "   id  label                                              tweet\n",
       "0   1      0   @user when a father is dysfunctional and is s...\n",
       "1   2      0  @user @user thanks for #lyft credit i can't us...\n",
       "2   3      0                                bihday your majesty\n",
       "3   4      0  #model   i love u take with u all the time in ...\n",
       "4   5      0             factsguide: society now    #motivation"
      ]
     },
     "execution_count": 2,
     "metadata": {},
     "output_type": "execute_result"
    }
   ],
   "source": [
    "#load the csv file as a pandas dataframe\n",
    "#ISO-8859-1\n",
    "tweet = pd.read_csv('TwitterHate.csv',delimiter=',',engine='python',encoding='utf-8-sig')\n",
    "tweet.head()"
   ]
  },
  {
   "cell_type": "code",
   "execution_count": 3,
   "id": "5c255a2a",
   "metadata": {
    "papermill": {
     "duration": 0.081404,
     "end_time": "2021-08-24T16:50:28.798244",
     "exception": false,
     "start_time": "2021-08-24T16:50:28.716840",
     "status": "completed"
    },
    "tags": []
   },
   "outputs": [],
   "source": [
    "#get rid of the identifier number of the tweet\n",
    "tweet.drop('id',axis=1,inplace=True)"
   ]
  },
  {
   "cell_type": "code",
   "execution_count": 4,
   "id": "968ed00b",
   "metadata": {
    "papermill": {
     "duration": 0.083744,
     "end_time": "2021-08-24T16:50:28.953009",
     "exception": false,
     "start_time": "2021-08-24T16:50:28.869265",
     "status": "completed"
    },
    "tags": []
   },
   "outputs": [
    {
     "name": "stdout",
     "output_type": "stream",
     "text": [
      "25982\n"
     ]
    },
    {
     "data": {
      "text/plain": [
       "\"life's a beach... what are you gonna do about it?! #liveit #oceanside #oregon #vacation   \""
      ]
     },
     "execution_count": 4,
     "metadata": {},
     "output_type": "execute_result"
    }
   ],
   "source": [
    "#view one of the tweets randomly \n",
    "random = np.random.randint(0,len(tweet))\n",
    "print(random)\n",
    "tweet.iloc[random]['tweet']"
   ]
  },
  {
   "cell_type": "code",
   "execution_count": 5,
   "id": "69dbcfce",
   "metadata": {
    "papermill": {
     "duration": 0.079343,
     "end_time": "2021-08-24T16:50:29.103754",
     "exception": false,
     "start_time": "2021-08-24T16:50:29.024411",
     "status": "completed"
    },
    "tags": []
   },
   "outputs": [],
   "source": [
    "#create a copy of the original data to work with \n",
    "df = tweet.copy()"
   ]
  },
  {
   "cell_type": "markdown",
   "id": "d9b74000",
   "metadata": {
    "papermill": {
     "duration": 0.071889,
     "end_time": "2021-08-24T16:50:29.247115",
     "exception": false,
     "start_time": "2021-08-24T16:50:29.175226",
     "status": "completed"
    },
    "tags": []
   },
   "source": [
    "<a id='2'></a>\n",
    "## _Text Cleaning_"
   ]
  },
  {
   "cell_type": "markdown",
   "id": "444b8541",
   "metadata": {
    "papermill": {
     "duration": 0.071195,
     "end_time": "2021-08-24T16:50:29.390199",
     "exception": false,
     "start_time": "2021-08-24T16:50:29.319004",
     "status": "completed"
    },
    "tags": []
   },
   "source": [
    "<a name='2-1'></a>\n",
    "### _Handle Diacritics using text normalization_"
   ]
  },
  {
   "cell_type": "code",
   "execution_count": 6,
   "id": "17a068ea",
   "metadata": {
    "papermill": {
     "duration": 0.079718,
     "end_time": "2021-08-24T16:50:29.541009",
     "exception": false,
     "start_time": "2021-08-24T16:50:29.461291",
     "status": "completed"
    },
    "tags": []
   },
   "outputs": [],
   "source": [
    "def simplify(text):\n",
    "    '''Function to handle the diacritics in the text'''\n",
    "    import unicodedata\n",
    "    try:\n",
    "        text = unicode(text, 'utf-8')\n",
    "    except NameError:\n",
    "        pass\n",
    "    text = unicodedata.normalize('NFD', text).encode('ascii', 'ignore').decode(\"utf-8\")\n",
    "    return str(text)"
   ]
  },
  {
   "cell_type": "code",
   "execution_count": 7,
   "id": "d2ebc822",
   "metadata": {
    "papermill": {
     "duration": 0.166055,
     "end_time": "2021-08-24T16:50:29.778338",
     "exception": false,
     "start_time": "2021-08-24T16:50:29.612283",
     "status": "completed"
    },
    "tags": []
   },
   "outputs": [],
   "source": [
    "df['tweet'] = df['tweet'].apply(simplify)"
   ]
  },
  {
   "cell_type": "markdown",
   "id": "519f3871",
   "metadata": {
    "papermill": {
     "duration": 0.071945,
     "end_time": "2021-08-24T16:50:29.921408",
     "exception": false,
     "start_time": "2021-08-24T16:50:29.849463",
     "status": "completed"
    },
    "tags": []
   },
   "source": [
    "<a id='2-2'></a>\n",
    "### _Remove user handles_"
   ]
  },
  {
   "cell_type": "code",
   "execution_count": 8,
   "id": "c5ce7330",
   "metadata": {
    "papermill": {
     "duration": 0.081481,
     "end_time": "2021-08-24T16:50:30.074144",
     "exception": false,
     "start_time": "2021-08-24T16:50:29.992663",
     "status": "completed"
    },
    "tags": []
   },
   "outputs": [
    {
     "data": {
      "text/plain": [
       "['@user1', '@user2', '@username3']"
      ]
     },
     "execution_count": 8,
     "metadata": {},
     "output_type": "execute_result"
    }
   ],
   "source": [
    "#test on a sample string\n",
    "sample = \"and @user1 i would like you to discuss with @user2 and then with @username3\"\n",
    "pattern = re.compile(r'@\\w+')\n",
    "re.findall(pattern,sample)"
   ]
  },
  {
   "cell_type": "code",
   "execution_count": 9,
   "id": "6976375a",
   "metadata": {
    "papermill": {
     "duration": 0.151455,
     "end_time": "2021-08-24T16:50:30.296868",
     "exception": false,
     "start_time": "2021-08-24T16:50:30.145413",
     "status": "completed"
    },
    "tags": []
   },
   "outputs": [],
   "source": [
    "#remove all the user handles --> strings starting with @\n",
    "df['tweet'].replace(r'@\\w+','',regex=True,inplace=True)"
   ]
  },
  {
   "cell_type": "markdown",
   "id": "a44ff651",
   "metadata": {
    "papermill": {
     "duration": 0.071502,
     "end_time": "2021-08-24T16:50:30.439800",
     "exception": false,
     "start_time": "2021-08-24T16:50:30.368298",
     "status": "completed"
    },
    "tags": []
   },
   "source": [
    "<a id='2-3'></a>\n",
    "### _Remove the urls_"
   ]
  },
  {
   "cell_type": "code",
   "execution_count": 10,
   "id": "5229ab2d",
   "metadata": {
    "papermill": {
     "duration": 0.081645,
     "end_time": "2021-08-24T16:50:30.592898",
     "exception": false,
     "start_time": "2021-08-24T16:50:30.511253",
     "status": "completed"
    },
    "tags": []
   },
   "outputs": [
    {
     "data": {
      "text/plain": [
       "['https://www.machinelearing.com', 'https://www.simple.com']"
      ]
     },
     "execution_count": 10,
     "metadata": {},
     "output_type": "execute_result"
    }
   ],
   "source": [
    "#test on a sample \n",
    "sample = \"https://www.machinelearing.com prakhar and https://www.simple.com\"\n",
    "pattern = re.compile(r'http\\S+')\n",
    "re.findall(pattern,sample)"
   ]
  },
  {
   "cell_type": "code",
   "execution_count": 11,
   "id": "96b41d5c",
   "metadata": {
    "papermill": {
     "duration": 0.139581,
     "end_time": "2021-08-24T16:50:30.803953",
     "exception": false,
     "start_time": "2021-08-24T16:50:30.664372",
     "status": "completed"
    },
    "tags": []
   },
   "outputs": [],
   "source": [
    "df['tweet'].replace(r'http\\S+','',regex=True,inplace=True)"
   ]
  },
  {
   "cell_type": "markdown",
   "id": "21d4b8c4",
   "metadata": {
    "papermill": {
     "duration": 0.071349,
     "end_time": "2021-08-24T16:50:30.948191",
     "exception": false,
     "start_time": "2021-08-24T16:50:30.876842",
     "status": "completed"
    },
    "tags": []
   },
   "source": [
    "<a id='2-4'></a>\n",
    "### _Tokenize using tweet tokenizer_"
   ]
  },
  {
   "cell_type": "code",
   "execution_count": 12,
   "id": "3d64d46a",
   "metadata": {
    "papermill": {
     "duration": 0.081139,
     "end_time": "2021-08-24T16:50:31.101997",
     "exception": false,
     "start_time": "2021-08-24T16:50:31.020858",
     "status": "completed"
    },
    "tags": []
   },
   "outputs": [
    {
     "data": {
      "text/plain": [
       "['wonderfl', ':-)', 'when', 'are', 'you', 'coming', 'for', '#party']"
      ]
     },
     "execution_count": 12,
     "metadata": {},
     "output_type": "execute_result"
    }
   ],
   "source": [
    "#test on a sample text\n",
    "sample = 'wonderfl :-)  when are you coming for #party'\n",
    "tweet_tokenize = TweetTokenizer(preserve_case=True)\n",
    "tweet_tokenize.tokenize(sample)"
   ]
  },
  {
   "cell_type": "code",
   "execution_count": 13,
   "id": "ae048d21",
   "metadata": {
    "papermill": {
     "duration": 2.76637,
     "end_time": "2021-08-24T16:50:33.941139",
     "exception": false,
     "start_time": "2021-08-24T16:50:31.174769",
     "status": "completed"
    },
    "tags": []
   },
   "outputs": [],
   "source": [
    "#tokenize the tweets in the dataframe using TweetTokenizer\n",
    "tokenizer = TweetTokenizer(preserve_case=True)\n",
    "df['tweet'] = df['tweet'].apply(tokenizer.tokenize)"
   ]
  },
  {
   "cell_type": "code",
   "execution_count": 14,
   "id": "89768755",
   "metadata": {
    "papermill": {
     "duration": 0.087701,
     "end_time": "2021-08-24T16:50:34.102419",
     "exception": false,
     "start_time": "2021-08-24T16:50:34.014718",
     "status": "completed"
    },
    "tags": []
   },
   "outputs": [
    {
     "data": {
      "text/html": [
       "<div>\n",
       "<style scoped>\n",
       "    .dataframe tbody tr th:only-of-type {\n",
       "        vertical-align: middle;\n",
       "    }\n",
       "\n",
       "    .dataframe tbody tr th {\n",
       "        vertical-align: top;\n",
       "    }\n",
       "\n",
       "    .dataframe thead th {\n",
       "        text-align: right;\n",
       "    }\n",
       "</style>\n",
       "<table border=\"1\" class=\"dataframe\">\n",
       "  <thead>\n",
       "    <tr style=\"text-align: right;\">\n",
       "      <th></th>\n",
       "      <th>label</th>\n",
       "      <th>tweet</th>\n",
       "    </tr>\n",
       "  </thead>\n",
       "  <tbody>\n",
       "    <tr>\n",
       "      <th>0</th>\n",
       "      <td>0</td>\n",
       "      <td>[when, a, father, is, dysfunctional, and, is, ...</td>\n",
       "    </tr>\n",
       "    <tr>\n",
       "      <th>1</th>\n",
       "      <td>0</td>\n",
       "      <td>[thanks, for, #lyft, credit, i, can't, use, ca...</td>\n",
       "    </tr>\n",
       "    <tr>\n",
       "      <th>2</th>\n",
       "      <td>0</td>\n",
       "      <td>[bihday, your, majesty]</td>\n",
       "    </tr>\n",
       "  </tbody>\n",
       "</table>\n",
       "</div>"
      ],
      "text/plain": [
       "   label                                              tweet\n",
       "0      0  [when, a, father, is, dysfunctional, and, is, ...\n",
       "1      0  [thanks, for, #lyft, credit, i, can't, use, ca...\n",
       "2      0                            [bihday, your, majesty]"
      ]
     },
     "execution_count": 14,
     "metadata": {},
     "output_type": "execute_result"
    }
   ],
   "source": [
    "#view the tokenized tweets\n",
    "df.head(3)"
   ]
  },
  {
   "cell_type": "markdown",
   "id": "ad7140fa",
   "metadata": {
    "papermill": {
     "duration": 0.074059,
     "end_time": "2021-08-24T16:50:34.250340",
     "exception": false,
     "start_time": "2021-08-24T16:50:34.176281",
     "status": "completed"
    },
    "tags": []
   },
   "source": [
    "<a id='2-5'></a>\n",
    "### _Remove Stopwords_\n",
    "_Append more words to be removed from the text - example rt and amp which occur very frequently_"
   ]
  },
  {
   "cell_type": "code",
   "execution_count": 15,
   "id": "208d0161",
   "metadata": {
    "papermill": {
     "duration": 0.085337,
     "end_time": "2021-08-24T16:50:34.407790",
     "exception": false,
     "start_time": "2021-08-24T16:50:34.322453",
     "status": "completed"
    },
    "tags": []
   },
   "outputs": [],
   "source": [
    "stop_words = stopwords.words('english')\n",
    "\n",
    "#add additional stop words to be removed from the text\n",
    "additional_list = ['amp','rt','u',\"can't\",'ur']\n",
    "\n",
    "for words in additional_list:\n",
    "    stop_words.append(words)"
   ]
  },
  {
   "cell_type": "code",
   "execution_count": 16,
   "id": "2af15fb8",
   "metadata": {
    "papermill": {
     "duration": 0.081262,
     "end_time": "2021-08-24T16:50:34.561692",
     "exception": false,
     "start_time": "2021-08-24T16:50:34.480430",
     "status": "completed"
    },
    "tags": []
   },
   "outputs": [
    {
     "data": {
      "text/plain": [
       "[\"weren't\",\n",
       " 'won',\n",
       " \"won't\",\n",
       " 'wouldn',\n",
       " \"wouldn't\",\n",
       " 'amp',\n",
       " 'rt',\n",
       " 'u',\n",
       " \"can't\",\n",
       " 'ur']"
      ]
     },
     "execution_count": 16,
     "metadata": {},
     "output_type": "execute_result"
    }
   ],
   "source": [
    "stop_words[-10:]"
   ]
  },
  {
   "cell_type": "code",
   "execution_count": 17,
   "id": "a2603596",
   "metadata": {
    "papermill": {
     "duration": 0.081115,
     "end_time": "2021-08-24T16:50:34.715240",
     "exception": false,
     "start_time": "2021-08-24T16:50:34.634125",
     "status": "completed"
    },
    "tags": []
   },
   "outputs": [],
   "source": [
    "#remove stop words\n",
    "def remove_stopwords(text):\n",
    "    '''Function to remove the stop words from the text corpus'''\n",
    "    clean_text = [word for word in text if not word in stop_words]\n",
    "    return clean_text    "
   ]
  },
  {
   "cell_type": "code",
   "execution_count": 18,
   "id": "e27d98b2",
   "metadata": {
    "papermill": {
     "duration": 1.245277,
     "end_time": "2021-08-24T16:50:36.033402",
     "exception": false,
     "start_time": "2021-08-24T16:50:34.788125",
     "status": "completed"
    },
    "tags": []
   },
   "outputs": [],
   "source": [
    "#remove the stop words from the tweets\n",
    "df['tweet'] = df['tweet'].apply(remove_stopwords)"
   ]
  },
  {
   "cell_type": "code",
   "execution_count": 19,
   "id": "579e78b6",
   "metadata": {
    "papermill": {
     "duration": 0.084018,
     "end_time": "2021-08-24T16:50:36.190234",
     "exception": false,
     "start_time": "2021-08-24T16:50:36.106216",
     "status": "completed"
    },
    "tags": []
   },
   "outputs": [
    {
     "data": {
      "text/plain": [
       "0    [father, dysfunctional, selfish, drags, kids, ...\n",
       "1    [thanks, #lyft, credit, use, cause, offer, whe...\n",
       "2                                    [bihday, majesty]\n",
       "3                  [#model, love, take, time, !, !, !]\n",
       "4                [factsguide, :, society, #motivation]\n",
       "Name: tweet, dtype: object"
      ]
     },
     "execution_count": 19,
     "metadata": {},
     "output_type": "execute_result"
    }
   ],
   "source": [
    "df['tweet'].head()"
   ]
  },
  {
   "cell_type": "markdown",
   "id": "090fa1fb",
   "metadata": {
    "papermill": {
     "duration": 0.073043,
     "end_time": "2021-08-24T16:50:36.337549",
     "exception": false,
     "start_time": "2021-08-24T16:50:36.264506",
     "status": "completed"
    },
    "tags": []
   },
   "source": [
    "<a id='2-6'></a>\n",
    "### _Spelling corrections_"
   ]
  },
  {
   "cell_type": "code",
   "execution_count": 20,
   "id": "ab4548e1",
   "metadata": {
    "papermill": {
     "duration": 0.200959,
     "end_time": "2021-08-24T16:50:36.611780",
     "exception": false,
     "start_time": "2021-08-24T16:50:36.410821",
     "status": "completed"
    },
    "tags": []
   },
   "outputs": [
    {
     "name": "stdout",
     "output_type": "stream",
     "text": [
      "amazing man you did it finally\n"
     ]
    }
   ],
   "source": [
    "#apply spelling correction on a sample text\n",
    "from textblob import TextBlob\n",
    "sample = 'amazng man you did it finallyy'\n",
    "txtblob = TextBlob(sample)\n",
    "corrected_text = txtblob.correct()\n",
    "print(corrected_text)"
   ]
  },
  {
   "cell_type": "code",
   "execution_count": 21,
   "id": "91cacd7a",
   "metadata": {
    "papermill": {
     "duration": 0.080837,
     "end_time": "2021-08-24T16:50:36.765669",
     "exception": false,
     "start_time": "2021-08-24T16:50:36.684832",
     "status": "completed"
    },
    "tags": []
   },
   "outputs": [],
   "source": [
    "#textblob expect a string to be passed and not a list of strings\n",
    "from textblob import TextBlob\n",
    "\n",
    "def spell_check(text):\n",
    "    '''Function to do spelling correction using '''\n",
    "    txtblob = TextBlob(text)\n",
    "    corrected_text = txtblob.correct()\n",
    "    return corrected_text\n",
    "    "
   ]
  },
  {
   "cell_type": "markdown",
   "id": "2cb4ef5e",
   "metadata": {
    "papermill": {
     "duration": 0.075536,
     "end_time": "2021-08-24T16:50:36.914738",
     "exception": false,
     "start_time": "2021-08-24T16:50:36.839202",
     "status": "completed"
    },
    "tags": []
   },
   "source": [
    "<a id='2-7'></a>\n",
    "### _Remove # symbols while retaining the text_"
   ]
  },
  {
   "cell_type": "code",
   "execution_count": 22,
   "id": "60e1f972",
   "metadata": {
    "papermill": {
     "duration": 0.084471,
     "end_time": "2021-08-24T16:50:37.073067",
     "exception": false,
     "start_time": "2021-08-24T16:50:36.988596",
     "status": "completed"
    },
    "tags": []
   },
   "outputs": [
    {
     "data": {
      "text/plain": [
       "'winner machine i am learning'"
      ]
     },
     "execution_count": 22,
     "metadata": {},
     "output_type": "execute_result"
    }
   ],
   "source": [
    "#try tremoving # symbols from a sample text\n",
    "sample = '#winner #machine i am learning'\n",
    "pattern = re.compile(r'#')\n",
    "re.sub(pattern,'',sample)"
   ]
  },
  {
   "cell_type": "code",
   "execution_count": 23,
   "id": "4d532b76",
   "metadata": {
    "papermill": {
     "duration": 0.083906,
     "end_time": "2021-08-24T16:50:37.231306",
     "exception": false,
     "start_time": "2021-08-24T16:50:37.147400",
     "status": "completed"
    },
    "tags": []
   },
   "outputs": [],
   "source": [
    "def remove_hashsymbols(text):\n",
    "    '''Function to remove the hashtag symbol from the text'''\n",
    "    pattern = re.compile(r'#')\n",
    "    text = ' '.join(text)\n",
    "    clean_text = re.sub(pattern,'',text)\n",
    "    return tokenizer.tokenize(clean_text)    "
   ]
  },
  {
   "cell_type": "code",
   "execution_count": 24,
   "id": "3ca864aa",
   "metadata": {
    "papermill": {
     "duration": 2.362664,
     "end_time": "2021-08-24T16:50:39.668415",
     "exception": false,
     "start_time": "2021-08-24T16:50:37.305751",
     "status": "completed"
    },
    "tags": []
   },
   "outputs": [],
   "source": [
    "df['tweet'] = df['tweet'].apply(remove_hashsymbols)"
   ]
  },
  {
   "cell_type": "code",
   "execution_count": 25,
   "id": "a9ff19bf",
   "metadata": {
    "papermill": {
     "duration": 0.087036,
     "end_time": "2021-08-24T16:50:39.829195",
     "exception": false,
     "start_time": "2021-08-24T16:50:39.742159",
     "status": "completed"
    },
    "tags": []
   },
   "outputs": [
    {
     "data": {
      "text/html": [
       "<div>\n",
       "<style scoped>\n",
       "    .dataframe tbody tr th:only-of-type {\n",
       "        vertical-align: middle;\n",
       "    }\n",
       "\n",
       "    .dataframe tbody tr th {\n",
       "        vertical-align: top;\n",
       "    }\n",
       "\n",
       "    .dataframe thead th {\n",
       "        text-align: right;\n",
       "    }\n",
       "</style>\n",
       "<table border=\"1\" class=\"dataframe\">\n",
       "  <thead>\n",
       "    <tr style=\"text-align: right;\">\n",
       "      <th></th>\n",
       "      <th>label</th>\n",
       "      <th>tweet</th>\n",
       "    </tr>\n",
       "  </thead>\n",
       "  <tbody>\n",
       "    <tr>\n",
       "      <th>0</th>\n",
       "      <td>0</td>\n",
       "      <td>[father, dysfunctional, selfish, drags, kids, ...</td>\n",
       "    </tr>\n",
       "    <tr>\n",
       "      <th>1</th>\n",
       "      <td>0</td>\n",
       "      <td>[thanks, lyft, credit, use, cause, offer, whee...</td>\n",
       "    </tr>\n",
       "    <tr>\n",
       "      <th>2</th>\n",
       "      <td>0</td>\n",
       "      <td>[bihday, majesty]</td>\n",
       "    </tr>\n",
       "  </tbody>\n",
       "</table>\n",
       "</div>"
      ],
      "text/plain": [
       "   label                                              tweet\n",
       "0      0  [father, dysfunctional, selfish, drags, kids, ...\n",
       "1      0  [thanks, lyft, credit, use, cause, offer, whee...\n",
       "2      0                                  [bihday, majesty]"
      ]
     },
     "execution_count": 25,
     "metadata": {},
     "output_type": "execute_result"
    }
   ],
   "source": [
    "df.head(3)"
   ]
  },
  {
   "cell_type": "markdown",
   "id": "5d7bb51f",
   "metadata": {
    "papermill": {
     "duration": 0.075124,
     "end_time": "2021-08-24T16:50:39.978933",
     "exception": false,
     "start_time": "2021-08-24T16:50:39.903809",
     "status": "completed"
    },
    "tags": []
   },
   "source": [
    "<a id='2-8'></a>\n",
    "### _Remove single and double length characters_"
   ]
  },
  {
   "cell_type": "code",
   "execution_count": 26,
   "id": "e42121e4",
   "metadata": {
    "papermill": {
     "duration": 0.082598,
     "end_time": "2021-08-24T16:50:40.137348",
     "exception": false,
     "start_time": "2021-08-24T16:50:40.054750",
     "status": "completed"
    },
    "tags": []
   },
   "outputs": [],
   "source": [
    "def rem_shortwords(text):\n",
    "    '''Function to remove the short words of length 1 and 2 characters'''\n",
    "    '''Arguments: \n",
    "       text: string\n",
    "       returns: string without containing words of length 1 and 2'''\n",
    "    lengths = [1,2]\n",
    "    new_text = ' '.join(text)\n",
    "    for word in text:\n",
    "        text = [word for word in tokenizer.tokenize(new_text) if not len(word) in lengths]\n",
    "        \n",
    "    return new_text       \n",
    "    "
   ]
  },
  {
   "cell_type": "code",
   "execution_count": 27,
   "id": "f866207d",
   "metadata": {
    "papermill": {
     "duration": 23.699106,
     "end_time": "2021-08-24T16:51:03.912321",
     "exception": false,
     "start_time": "2021-08-24T16:50:40.213215",
     "status": "completed"
    },
    "tags": []
   },
   "outputs": [],
   "source": [
    "df['tweet'] = df['tweet'].apply(rem_shortwords)"
   ]
  },
  {
   "cell_type": "code",
   "execution_count": 28,
   "id": "9b00df8b",
   "metadata": {
    "papermill": {
     "duration": 0.087213,
     "end_time": "2021-08-24T16:51:04.074468",
     "exception": false,
     "start_time": "2021-08-24T16:51:03.987255",
     "status": "completed"
    },
    "tags": []
   },
   "outputs": [
    {
     "data": {
      "text/html": [
       "<div>\n",
       "<style scoped>\n",
       "    .dataframe tbody tr th:only-of-type {\n",
       "        vertical-align: middle;\n",
       "    }\n",
       "\n",
       "    .dataframe tbody tr th {\n",
       "        vertical-align: top;\n",
       "    }\n",
       "\n",
       "    .dataframe thead th {\n",
       "        text-align: right;\n",
       "    }\n",
       "</style>\n",
       "<table border=\"1\" class=\"dataframe\">\n",
       "  <thead>\n",
       "    <tr style=\"text-align: right;\">\n",
       "      <th></th>\n",
       "      <th>label</th>\n",
       "      <th>tweet</th>\n",
       "    </tr>\n",
       "  </thead>\n",
       "  <tbody>\n",
       "    <tr>\n",
       "      <th>0</th>\n",
       "      <td>0</td>\n",
       "      <td>father dysfunctional selfish drags kids dysfun...</td>\n",
       "    </tr>\n",
       "    <tr>\n",
       "      <th>1</th>\n",
       "      <td>0</td>\n",
       "      <td>thanks lyft credit use cause offer wheelchair ...</td>\n",
       "    </tr>\n",
       "  </tbody>\n",
       "</table>\n",
       "</div>"
      ],
      "text/plain": [
       "   label                                              tweet\n",
       "0      0  father dysfunctional selfish drags kids dysfun...\n",
       "1      0  thanks lyft credit use cause offer wheelchair ..."
      ]
     },
     "execution_count": 28,
     "metadata": {},
     "output_type": "execute_result"
    }
   ],
   "source": [
    "df.head(2)"
   ]
  },
  {
   "cell_type": "code",
   "execution_count": 29,
   "id": "5b2c9e76",
   "metadata": {
    "papermill": {
     "duration": 2.182811,
     "end_time": "2021-08-24T16:51:06.332758",
     "exception": false,
     "start_time": "2021-08-24T16:51:04.149947",
     "status": "completed"
    },
    "tags": []
   },
   "outputs": [],
   "source": [
    "df['tweet'] = df['tweet'].apply(tokenizer.tokenize)"
   ]
  },
  {
   "cell_type": "code",
   "execution_count": 30,
   "id": "5aa4c015",
   "metadata": {
    "papermill": {
     "duration": 0.08829,
     "end_time": "2021-08-24T16:51:06.496938",
     "exception": false,
     "start_time": "2021-08-24T16:51:06.408648",
     "status": "completed"
    },
    "tags": []
   },
   "outputs": [
    {
     "data": {
      "text/html": [
       "<div>\n",
       "<style scoped>\n",
       "    .dataframe tbody tr th:only-of-type {\n",
       "        vertical-align: middle;\n",
       "    }\n",
       "\n",
       "    .dataframe tbody tr th {\n",
       "        vertical-align: top;\n",
       "    }\n",
       "\n",
       "    .dataframe thead th {\n",
       "        text-align: right;\n",
       "    }\n",
       "</style>\n",
       "<table border=\"1\" class=\"dataframe\">\n",
       "  <thead>\n",
       "    <tr style=\"text-align: right;\">\n",
       "      <th></th>\n",
       "      <th>label</th>\n",
       "      <th>tweet</th>\n",
       "    </tr>\n",
       "  </thead>\n",
       "  <tbody>\n",
       "    <tr>\n",
       "      <th>0</th>\n",
       "      <td>0</td>\n",
       "      <td>[father, dysfunctional, selfish, drags, kids, ...</td>\n",
       "    </tr>\n",
       "    <tr>\n",
       "      <th>1</th>\n",
       "      <td>0</td>\n",
       "      <td>[thanks, lyft, credit, use, cause, offer, whee...</td>\n",
       "    </tr>\n",
       "    <tr>\n",
       "      <th>2</th>\n",
       "      <td>0</td>\n",
       "      <td>[bihday, majesty]</td>\n",
       "    </tr>\n",
       "  </tbody>\n",
       "</table>\n",
       "</div>"
      ],
      "text/plain": [
       "   label                                              tweet\n",
       "0      0  [father, dysfunctional, selfish, drags, kids, ...\n",
       "1      0  [thanks, lyft, credit, use, cause, offer, whee...\n",
       "2      0                                  [bihday, majesty]"
      ]
     },
     "execution_count": 30,
     "metadata": {},
     "output_type": "execute_result"
    }
   ],
   "source": [
    "df.head(3)"
   ]
  },
  {
   "cell_type": "markdown",
   "id": "65582eca",
   "metadata": {
    "papermill": {
     "duration": 0.07526,
     "end_time": "2021-08-24T16:51:06.648794",
     "exception": false,
     "start_time": "2021-08-24T16:51:06.573534",
     "status": "completed"
    },
    "tags": []
   },
   "source": [
    "<a id='2-9'></a>\n",
    "### _Remove digits_"
   ]
  },
  {
   "cell_type": "code",
   "execution_count": 31,
   "id": "c9e32b89",
   "metadata": {
    "papermill": {
     "duration": 0.082942,
     "end_time": "2021-08-24T16:51:06.808674",
     "exception": false,
     "start_time": "2021-08-24T16:51:06.725732",
     "status": "completed"
    },
    "tags": []
   },
   "outputs": [],
   "source": [
    "def rem_digits(text):\n",
    "    '''Function to remove the digits from the list of strings'''\n",
    "    no_digits = []\n",
    "    for word in text:\n",
    "        no_digits.append(re.sub(r'\\d','',word))\n",
    "    return ' '.join(no_digits)   "
   ]
  },
  {
   "cell_type": "code",
   "execution_count": 32,
   "id": "a4a30aff",
   "metadata": {
    "papermill": {
     "duration": 0.581293,
     "end_time": "2021-08-24T16:51:07.466001",
     "exception": false,
     "start_time": "2021-08-24T16:51:06.884708",
     "status": "completed"
    },
    "tags": []
   },
   "outputs": [],
   "source": [
    "df['tweet'] = df['tweet'].apply(rem_digits)"
   ]
  },
  {
   "cell_type": "code",
   "execution_count": 33,
   "id": "e4117b1e",
   "metadata": {
    "papermill": {
     "duration": 2.284917,
     "end_time": "2021-08-24T16:51:09.826515",
     "exception": false,
     "start_time": "2021-08-24T16:51:07.541598",
     "status": "completed"
    },
    "tags": []
   },
   "outputs": [],
   "source": [
    "df['tweet'] = df['tweet'].apply(tokenizer.tokenize)"
   ]
  },
  {
   "cell_type": "code",
   "execution_count": 34,
   "id": "a82da3c8",
   "metadata": {
    "papermill": {
     "duration": 0.095072,
     "end_time": "2021-08-24T16:51:10.003332",
     "exception": false,
     "start_time": "2021-08-24T16:51:09.908260",
     "status": "completed"
    },
    "tags": []
   },
   "outputs": [
    {
     "data": {
      "text/html": [
       "<div>\n",
       "<style scoped>\n",
       "    .dataframe tbody tr th:only-of-type {\n",
       "        vertical-align: middle;\n",
       "    }\n",
       "\n",
       "    .dataframe tbody tr th {\n",
       "        vertical-align: top;\n",
       "    }\n",
       "\n",
       "    .dataframe thead th {\n",
       "        text-align: right;\n",
       "    }\n",
       "</style>\n",
       "<table border=\"1\" class=\"dataframe\">\n",
       "  <thead>\n",
       "    <tr style=\"text-align: right;\">\n",
       "      <th></th>\n",
       "      <th>label</th>\n",
       "      <th>tweet</th>\n",
       "    </tr>\n",
       "  </thead>\n",
       "  <tbody>\n",
       "    <tr>\n",
       "      <th>0</th>\n",
       "      <td>0</td>\n",
       "      <td>[father, dysfunctional, selfish, drags, kids, ...</td>\n",
       "    </tr>\n",
       "    <tr>\n",
       "      <th>1</th>\n",
       "      <td>0</td>\n",
       "      <td>[thanks, lyft, credit, use, cause, offer, whee...</td>\n",
       "    </tr>\n",
       "    <tr>\n",
       "      <th>2</th>\n",
       "      <td>0</td>\n",
       "      <td>[bihday, majesty]</td>\n",
       "    </tr>\n",
       "    <tr>\n",
       "      <th>3</th>\n",
       "      <td>0</td>\n",
       "      <td>[model, love, take, time, !, !, !]</td>\n",
       "    </tr>\n",
       "    <tr>\n",
       "      <th>4</th>\n",
       "      <td>0</td>\n",
       "      <td>[factsguide, :, society, motivation]</td>\n",
       "    </tr>\n",
       "  </tbody>\n",
       "</table>\n",
       "</div>"
      ],
      "text/plain": [
       "   label                                              tweet\n",
       "0      0  [father, dysfunctional, selfish, drags, kids, ...\n",
       "1      0  [thanks, lyft, credit, use, cause, offer, whee...\n",
       "2      0                                  [bihday, majesty]\n",
       "3      0                 [model, love, take, time, !, !, !]\n",
       "4      0               [factsguide, :, society, motivation]"
      ]
     },
     "execution_count": 34,
     "metadata": {},
     "output_type": "execute_result"
    }
   ],
   "source": [
    "df.head()"
   ]
  },
  {
   "cell_type": "markdown",
   "id": "d03dc445",
   "metadata": {
    "papermill": {
     "duration": 0.075123,
     "end_time": "2021-08-24T16:51:10.155463",
     "exception": false,
     "start_time": "2021-08-24T16:51:10.080340",
     "status": "completed"
    },
    "tags": []
   },
   "source": [
    "<a id='2-10'></a>\n",
    "### _Remove special characters_\n"
   ]
  },
  {
   "cell_type": "code",
   "execution_count": 35,
   "id": "2eb48c9f",
   "metadata": {
    "papermill": {
     "duration": 0.084811,
     "end_time": "2021-08-24T16:51:10.316218",
     "exception": false,
     "start_time": "2021-08-24T16:51:10.231407",
     "status": "completed"
    },
    "tags": []
   },
   "outputs": [],
   "source": [
    "def rem_nonalpha(text):\n",
    "    '''Function to remove the non-alphanumeric characters from the text'''\n",
    "    text = [word for word in text if word.isalpha()]\n",
    "    return text"
   ]
  },
  {
   "cell_type": "code",
   "execution_count": 36,
   "id": "703dc253",
   "metadata": {
    "papermill": {
     "duration": 0.159339,
     "end_time": "2021-08-24T16:51:10.552833",
     "exception": false,
     "start_time": "2021-08-24T16:51:10.393494",
     "status": "completed"
    },
    "tags": []
   },
   "outputs": [],
   "source": [
    "#remove the non alpha numeric characters from the tweet tokens\n",
    "df['tweet'] = df['tweet'].apply(rem_nonalpha)"
   ]
  },
  {
   "cell_type": "markdown",
   "id": "f7b25061",
   "metadata": {
    "papermill": {
     "duration": 0.075458,
     "end_time": "2021-08-24T16:51:10.704097",
     "exception": false,
     "start_time": "2021-08-24T16:51:10.628639",
     "status": "completed"
    },
    "tags": []
   },
   "source": [
    "<a id='3'></a>\n",
    "## _Exploratory Data Analysis - Broad Approach_"
   ]
  },
  {
   "cell_type": "markdown",
   "id": "04c98035",
   "metadata": {
    "papermill": {
     "duration": 0.076094,
     "end_time": "2021-08-24T16:51:10.856284",
     "exception": false,
     "start_time": "2021-08-24T16:51:10.780190",
     "status": "completed"
    },
    "tags": []
   },
   "source": [
    "<a id='3-1'></a>\n",
    "### _Check for data balance_"
   ]
  },
  {
   "cell_type": "code",
   "execution_count": 37,
   "id": "eb6cb636",
   "metadata": {
    "papermill": {
     "duration": 0.282011,
     "end_time": "2021-08-24T16:51:11.221573",
     "exception": false,
     "start_time": "2021-08-24T16:51:10.939562",
     "status": "completed"
    },
    "tags": []
   },
   "outputs": [
    {
     "data": {
      "image/png": "[encoded data removed]",
      "text/plain": [
       "<Figure size 864x360 with 1 Axes>"
      ]
     },
     "metadata": {
      "needs_background": "light"
     },
     "output_type": "display_data"
    }
   ],
   "source": [
    "#plot of the count of hate and non hate tweet\n",
    "sns.countplot(df['label'])\n",
    "plt.title('Count of Hate vs Non Hate Tweet')\n",
    "plt.grid()\n",
    "plt.show()"
   ]
  },
  {
   "cell_type": "markdown",
   "id": "436130d0",
   "metadata": {
    "papermill": {
     "duration": 0.07704,
     "end_time": "2021-08-24T16:51:11.376881",
     "exception": false,
     "start_time": "2021-08-24T16:51:11.299841",
     "status": "completed"
    },
    "tags": []
   },
   "source": [
    "_There are more non hatespeeches than the hatespeech in the dataset_"
   ]
  },
  {
   "cell_type": "markdown",
   "id": "55fa1ec0",
   "metadata": {
    "execution": {
     "iopub.execute_input": "2021-08-13T08:28:31.024391Z",
     "iopub.status.busy": "2021-08-13T08:28:31.023999Z",
     "iopub.status.idle": "2021-08-13T08:28:31.13622Z",
     "shell.execute_reply": "2021-08-13T08:28:31.135427Z",
     "shell.execute_reply.started": "2021-08-13T08:28:31.024358Z"
    },
    "papermill": {
     "duration": 0.077527,
     "end_time": "2021-08-24T16:51:11.532186",
     "exception": false,
     "start_time": "2021-08-24T16:51:11.454659",
     "status": "completed"
    },
    "tags": []
   },
   "source": [
    "<a id='3-2'></a>\n",
    "### _Check out the top terms in the tweets_"
   ]
  },
  {
   "cell_type": "code",
   "execution_count": 38,
   "id": "c42f9892",
   "metadata": {
    "papermill": {
     "duration": 0.217354,
     "end_time": "2021-08-24T16:51:11.828066",
     "exception": false,
     "start_time": "2021-08-24T16:51:11.610712",
     "status": "completed"
    },
    "tags": []
   },
   "outputs": [
    {
     "name": "stdout",
     "output_type": "stream",
     "text": [
      "[('love', 2762), ('day', 2319), ('happy', 1679), ('like', 1160), ('time', 1138), ('life', 1124), ('today', 1017), ('new', 994), ('thankful', 947), ('positive', 931)]\n"
     ]
    }
   ],
   "source": [
    "from collections import Counter\n",
    "results = Counter()\n",
    "df['tweet'].apply(results.update)\n",
    "#print the top 10 most common terms in the tweet \n",
    "print(results.most_common(10))"
   ]
  },
  {
   "cell_type": "code",
   "execution_count": 39,
   "id": "c7b2511b",
   "metadata": {
    "papermill": {
     "duration": 0.288146,
     "end_time": "2021-08-24T16:51:12.195457",
     "exception": false,
     "start_time": "2021-08-24T16:51:11.907311",
     "status": "completed"
    },
    "tags": []
   },
   "outputs": [
    {
     "data": {
      "image/png": "[encoded data removed]",
      "text/plain": [
       "<Figure size 864x360 with 1 Axes>"
      ]
     },
     "metadata": {
      "needs_background": "light"
     },
     "output_type": "display_data"
    }
   ],
   "source": [
    "#plot the cumulative frequency of the top 10 most common tokens \n",
    "frequency = nltk.FreqDist(results)\n",
    "plt.title('Top 10 Most Common Terms')\n",
    "frequency.plot(10,cumulative=True)\n",
    "plt.show()"
   ]
  },
  {
   "cell_type": "code",
   "execution_count": 40,
   "id": "816b3867",
   "metadata": {
    "papermill": {
     "duration": 0.300891,
     "end_time": "2021-08-24T16:51:12.577108",
     "exception": false,
     "start_time": "2021-08-24T16:51:12.276217",
     "status": "completed"
    },
    "tags": []
   },
   "outputs": [
    {
     "data": {
      "image/png": "[encoded data removed]",
      "text/plain": [
       "<Figure size 864x360 with 1 Axes>"
      ]
     },
     "metadata": {
      "needs_background": "light"
     },
     "output_type": "display_data"
    }
   ],
   "source": [
    "#plot the frequency of the top 10 most common tokens \n",
    "frequency = nltk.FreqDist(results)\n",
    "plt.title('Top 10 Most Common Terms')\n",
    "frequency.plot(10,cumulative=False)\n",
    "plt.show()"
   ]
  },
  {
   "cell_type": "markdown",
   "id": "6ff8b5a6",
   "metadata": {
    "papermill": {
     "duration": 0.082208,
     "end_time": "2021-08-24T16:51:12.740987",
     "exception": false,
     "start_time": "2021-08-24T16:51:12.658779",
     "status": "completed"
    },
    "tags": []
   },
   "source": [
    "_Love is the most frequently used word followed by day, happy etc. This is expected as there are more non hate tweets than hate tweets in the dataset_"
   ]
  },
  {
   "cell_type": "markdown",
   "id": "5bb2bdec",
   "metadata": {
    "papermill": {
     "duration": 0.082314,
     "end_time": "2021-08-24T16:51:12.905711",
     "exception": false,
     "start_time": "2021-08-24T16:51:12.823397",
     "status": "completed"
    },
    "tags": []
   },
   "source": [
    "<a id='4'></a>\n",
    "## _Predictive Modeling_"
   ]
  },
  {
   "cell_type": "markdown",
   "id": "4f7447ca",
   "metadata": {
    "papermill": {
     "duration": 0.083169,
     "end_time": "2021-08-24T16:51:13.071464",
     "exception": false,
     "start_time": "2021-08-24T16:51:12.988295",
     "status": "completed"
    },
    "tags": []
   },
   "source": [
    "### _Data Formatting for Predictive Modeling_"
   ]
  },
  {
   "cell_type": "code",
   "execution_count": 41,
   "id": "f44ca5d4",
   "metadata": {
    "papermill": {
     "duration": 0.098926,
     "end_time": "2021-08-24T16:51:13.252502",
     "exception": false,
     "start_time": "2021-08-24T16:51:13.153576",
     "status": "completed"
    },
    "tags": []
   },
   "outputs": [
    {
     "data": {
      "text/html": [
       "<div>\n",
       "<style scoped>\n",
       "    .dataframe tbody tr th:only-of-type {\n",
       "        vertical-align: middle;\n",
       "    }\n",
       "\n",
       "    .dataframe tbody tr th {\n",
       "        vertical-align: top;\n",
       "    }\n",
       "\n",
       "    .dataframe thead th {\n",
       "        text-align: right;\n",
       "    }\n",
       "</style>\n",
       "<table border=\"1\" class=\"dataframe\">\n",
       "  <thead>\n",
       "    <tr style=\"text-align: right;\">\n",
       "      <th></th>\n",
       "      <th>label</th>\n",
       "      <th>tweet</th>\n",
       "    </tr>\n",
       "  </thead>\n",
       "  <tbody>\n",
       "    <tr>\n",
       "      <th>0</th>\n",
       "      <td>0</td>\n",
       "      <td>[father, dysfunctional, selfish, drags, kids, ...</td>\n",
       "    </tr>\n",
       "    <tr>\n",
       "      <th>1</th>\n",
       "      <td>0</td>\n",
       "      <td>[thanks, lyft, credit, use, cause, offer, whee...</td>\n",
       "    </tr>\n",
       "    <tr>\n",
       "      <th>2</th>\n",
       "      <td>0</td>\n",
       "      <td>[bihday, majesty]</td>\n",
       "    </tr>\n",
       "    <tr>\n",
       "      <th>3</th>\n",
       "      <td>0</td>\n",
       "      <td>[model, love, take, time]</td>\n",
       "    </tr>\n",
       "    <tr>\n",
       "      <th>4</th>\n",
       "      <td>0</td>\n",
       "      <td>[factsguide, society, motivation]</td>\n",
       "    </tr>\n",
       "  </tbody>\n",
       "</table>\n",
       "</div>"
      ],
      "text/plain": [
       "   label                                              tweet\n",
       "0      0  [father, dysfunctional, selfish, drags, kids, ...\n",
       "1      0  [thanks, lyft, credit, use, cause, offer, whee...\n",
       "2      0                                  [bihday, majesty]\n",
       "3      0                          [model, love, take, time]\n",
       "4      0                  [factsguide, society, motivation]"
      ]
     },
     "execution_count": 41,
     "metadata": {},
     "output_type": "execute_result"
    }
   ],
   "source": [
    "df.head()"
   ]
  },
  {
   "cell_type": "code",
   "execution_count": 42,
   "id": "e86f6746",
   "metadata": {
    "papermill": {
     "duration": 0.09769,
     "end_time": "2021-08-24T16:51:13.433111",
     "exception": false,
     "start_time": "2021-08-24T16:51:13.335421",
     "status": "completed"
    },
    "tags": []
   },
   "outputs": [
    {
     "data": {
      "text/plain": [
       "label    0\n",
       "tweet    0\n",
       "dtype: int64"
      ]
     },
     "execution_count": 42,
     "metadata": {},
     "output_type": "execute_result"
    }
   ],
   "source": [
    "#check for the null values\n",
    "df.isnull().sum()"
   ]
  },
  {
   "cell_type": "code",
   "execution_count": 43,
   "id": "6d277753",
   "metadata": {
    "papermill": {
     "duration": 0.122495,
     "end_time": "2021-08-24T16:51:13.638221",
     "exception": false,
     "start_time": "2021-08-24T16:51:13.515726",
     "status": "completed"
    },
    "tags": []
   },
   "outputs": [],
   "source": [
    "#join the tokens back to form the string\n",
    "df['tweet'] = df['tweet'].apply(lambda x: ' '.join(x))"
   ]
  },
  {
   "cell_type": "code",
   "execution_count": 44,
   "id": "8e152162",
   "metadata": {
    "papermill": {
     "duration": 0.096785,
     "end_time": "2021-08-24T16:51:13.817330",
     "exception": false,
     "start_time": "2021-08-24T16:51:13.720545",
     "status": "completed"
    },
    "tags": []
   },
   "outputs": [
    {
     "data": {
      "text/html": [
       "<div>\n",
       "<style scoped>\n",
       "    .dataframe tbody tr th:only-of-type {\n",
       "        vertical-align: middle;\n",
       "    }\n",
       "\n",
       "    .dataframe tbody tr th {\n",
       "        vertical-align: top;\n",
       "    }\n",
       "\n",
       "    .dataframe thead th {\n",
       "        text-align: right;\n",
       "    }\n",
       "</style>\n",
       "<table border=\"1\" class=\"dataframe\">\n",
       "  <thead>\n",
       "    <tr style=\"text-align: right;\">\n",
       "      <th></th>\n",
       "      <th>label</th>\n",
       "      <th>tweet</th>\n",
       "    </tr>\n",
       "  </thead>\n",
       "  <tbody>\n",
       "    <tr>\n",
       "      <th>0</th>\n",
       "      <td>0</td>\n",
       "      <td>father dysfunctional selfish drags kids dysfun...</td>\n",
       "    </tr>\n",
       "    <tr>\n",
       "      <th>1</th>\n",
       "      <td>0</td>\n",
       "      <td>thanks lyft credit use cause offer wheelchair ...</td>\n",
       "    </tr>\n",
       "    <tr>\n",
       "      <th>2</th>\n",
       "      <td>0</td>\n",
       "      <td>bihday majesty</td>\n",
       "    </tr>\n",
       "  </tbody>\n",
       "</table>\n",
       "</div>"
      ],
      "text/plain": [
       "   label                                              tweet\n",
       "0      0  father dysfunctional selfish drags kids dysfun...\n",
       "1      0  thanks lyft credit use cause offer wheelchair ...\n",
       "2      0                                     bihday majesty"
      ]
     },
     "execution_count": 44,
     "metadata": {},
     "output_type": "execute_result"
    }
   ],
   "source": [
    "#check the top rows\n",
    "df.head(3)"
   ]
  },
  {
   "cell_type": "code",
   "execution_count": 45,
   "id": "f0e9a07b",
   "metadata": {
    "papermill": {
     "duration": 0.093661,
     "end_time": "2021-08-24T16:51:13.995971",
     "exception": false,
     "start_time": "2021-08-24T16:51:13.902310",
     "status": "completed"
    },
    "tags": []
   },
   "outputs": [],
   "source": [
    "#split the data into input X and output y\n",
    "X = df['tweet']\n",
    "y = df['label']"
   ]
  },
  {
   "cell_type": "code",
   "execution_count": 46,
   "id": "6d55481b",
   "metadata": {
    "papermill": {
     "duration": 0.122599,
     "end_time": "2021-08-24T16:51:14.203532",
     "exception": false,
     "start_time": "2021-08-24T16:51:14.080933",
     "status": "completed"
    },
    "tags": []
   },
   "outputs": [
    {
     "name": "stdout",
     "output_type": "stream",
     "text": [
      "(25569,) (6393,) (25569,) (6393,)\n"
     ]
    }
   ],
   "source": [
    "#split the data \n",
    "from sklearn.model_selection import train_test_split\n",
    "seed = 51\n",
    "test_size = 0.2 #20% of the data in the \n",
    "X_train,X_test,y_train,y_test = train_test_split(X,y,test_size=0.2,random_state=seed,stratify=df['label'])\n",
    "print(X_train.shape,X_test.shape,y_train.shape,y_test.shape)"
   ]
  },
  {
   "cell_type": "markdown",
   "id": "e699ef1b",
   "metadata": {
    "papermill": {
     "duration": 0.082018,
     "end_time": "2021-08-24T16:51:14.370235",
     "exception": false,
     "start_time": "2021-08-24T16:51:14.288217",
     "status": "completed"
    },
    "tags": []
   },
   "source": [
    "<a id='4-2'></a>\n",
    "### _Use tf-idf as a feature to get into the vector space model_\n"
   ]
  },
  {
   "cell_type": "code",
   "execution_count": 47,
   "id": "590e8ab8",
   "metadata": {
    "papermill": {
     "duration": 0.088048,
     "end_time": "2021-08-24T16:51:14.539504",
     "exception": false,
     "start_time": "2021-08-24T16:51:14.451456",
     "status": "completed"
    },
    "tags": []
   },
   "outputs": [],
   "source": [
    "#import tfidf vectorizer\n",
    "from sklearn.feature_extraction.text import TfidfVectorizer\n",
    "from sklearn.feature_extraction.text import TfidfTransformer"
   ]
  },
  {
   "cell_type": "code",
   "execution_count": 48,
   "id": "4ca6b0a7",
   "metadata": {
    "papermill": {
     "duration": 0.088383,
     "end_time": "2021-08-24T16:51:14.708858",
     "exception": false,
     "start_time": "2021-08-24T16:51:14.620475",
     "status": "completed"
    },
    "tags": []
   },
   "outputs": [],
   "source": [
    "#instantiate the vectorizer \n",
    "vectorizer = TfidfVectorizer(max_features=5000)"
   ]
  },
  {
   "cell_type": "code",
   "execution_count": 49,
   "id": "8a6a64fd",
   "metadata": {
    "papermill": {
     "duration": 0.662141,
     "end_time": "2021-08-24T16:51:15.452235",
     "exception": false,
     "start_time": "2021-08-24T16:51:14.790094",
     "status": "completed"
    },
    "tags": []
   },
   "outputs": [],
   "source": [
    "#fit on the training data\n",
    "X_train = vectorizer.fit_transform(X_train)\n",
    "#transform the test data\n",
    "X_test = vectorizer.transform(X_test)"
   ]
  },
  {
   "cell_type": "code",
   "execution_count": 50,
   "id": "00b66775",
   "metadata": {
    "papermill": {
     "duration": 0.089819,
     "end_time": "2021-08-24T16:51:15.623296",
     "exception": false,
     "start_time": "2021-08-24T16:51:15.533477",
     "status": "completed"
    },
    "tags": []
   },
   "outputs": [
    {
     "data": {
      "text/plain": [
       "((25569, 5000), (6393, 5000))"
      ]
     },
     "execution_count": 50,
     "metadata": {},
     "output_type": "execute_result"
    }
   ],
   "source": [
    "#check the shape\n",
    "X_train.shape, X_test.shape"
   ]
  },
  {
   "cell_type": "markdown",
   "id": "874076ae",
   "metadata": {
    "papermill": {
     "duration": 0.080812,
     "end_time": "2021-08-24T16:51:15.785277",
     "exception": false,
     "start_time": "2021-08-24T16:51:15.704465",
     "status": "completed"
    },
    "tags": []
   },
   "source": [
    "<a id='4-3'></a>\n",
    "### _Model building: Ordinary Logistic Regression_"
   ]
  },
  {
   "cell_type": "code",
   "execution_count": 51,
   "id": "e104fb1d",
   "metadata": {
    "papermill": {
     "duration": 0.092804,
     "end_time": "2021-08-24T16:51:15.959312",
     "exception": false,
     "start_time": "2021-08-24T16:51:15.866508",
     "status": "completed"
    },
    "tags": []
   },
   "outputs": [],
   "source": [
    "#import the models\n",
    "from sklearn.linear_model import LogisticRegression\n",
    "from sklearn.naive_bayes import MultinomialNB"
   ]
  },
  {
   "cell_type": "code",
   "execution_count": 52,
   "id": "2c083dd9",
   "metadata": {
    "papermill": {
     "duration": 0.46354,
     "end_time": "2021-08-24T16:51:16.555931",
     "exception": false,
     "start_time": "2021-08-24T16:51:16.092391",
     "status": "completed"
    },
    "tags": []
   },
   "outputs": [],
   "source": [
    "#instantiate the models with default hyper-parameters\n",
    "clf = LogisticRegression()\n",
    "clf.fit(X_train,y_train)\n",
    "train_predictions = clf.predict(X_train)\n",
    "test_predictions = clf.predict(X_test)"
   ]
  },
  {
   "cell_type": "markdown",
   "id": "0ec35843",
   "metadata": {
    "papermill": {
     "duration": 0.080899,
     "end_time": "2021-08-24T16:51:16.719831",
     "exception": false,
     "start_time": "2021-08-24T16:51:16.638932",
     "status": "completed"
    },
    "tags": []
   },
   "source": [
    "<a id='4-4'></a>\n",
    "### _Model evaluation_\n",
    "\n"
   ]
  },
  {
   "cell_type": "code",
   "execution_count": 53,
   "id": "45b08a2f",
   "metadata": {
    "papermill": {
     "duration": 0.090418,
     "end_time": "2021-08-24T16:51:16.892349",
     "exception": false,
     "start_time": "2021-08-24T16:51:16.801931",
     "status": "completed"
    },
    "tags": []
   },
   "outputs": [],
   "source": [
    "#import the metrics\n",
    "from sklearn.metrics import accuracy_score\n",
    "from sklearn.metrics import f1_score\n",
    "from sklearn.metrics import classification_report\n",
    "from sklearn.metrics import confusion_matrix"
   ]
  },
  {
   "cell_type": "code",
   "execution_count": 54,
   "id": "e75bbcaa",
   "metadata": {
    "papermill": {
     "duration": 0.094822,
     "end_time": "2021-08-24T16:51:17.068991",
     "exception": false,
     "start_time": "2021-08-24T16:51:16.974169",
     "status": "completed"
    },
    "tags": []
   },
   "outputs": [
    {
     "name": "stdout",
     "output_type": "stream",
     "text": [
      "Accuracy Score on training set 0.95569\n",
      "Accuracy Score on test set 0.94791\n"
     ]
    }
   ],
   "source": [
    "#get the model accuracy on the training and the test set\n",
    "print('Accuracy Score on training set %.5f' %accuracy_score(y_train,train_predictions))\n",
    "print('Accuracy Score on test set %.5f' %accuracy_score(y_test,test_predictions))"
   ]
  },
  {
   "cell_type": "markdown",
   "id": "f5029499",
   "metadata": {
    "papermill": {
     "duration": 0.083697,
     "end_time": "2021-08-24T16:51:17.236714",
     "exception": false,
     "start_time": "2021-08-24T16:51:17.153017",
     "status": "completed"
    },
    "tags": []
   },
   "source": [
    "_Accuracy is never a good metric for an imbalanced dataset as in this case. This can be highighted using the f1 score. A low f1-score for a label indicate poor performance of the model._"
   ]
  },
  {
   "cell_type": "code",
   "execution_count": 55,
   "id": "9268e574",
   "metadata": {
    "papermill": {
     "duration": 0.131435,
     "end_time": "2021-08-24T16:51:17.452859",
     "exception": false,
     "start_time": "2021-08-24T16:51:17.321424",
     "status": "completed"
    },
    "tags": []
   },
   "outputs": [
    {
     "name": "stdout",
     "output_type": "stream",
     "text": [
      "Classification Report Training set\n",
      "\n",
      "\n",
      "              precision    recall  f1-score   support\n",
      "\n",
      "           0       0.96      1.00      0.98     23775\n",
      "           1       0.95      0.39      0.55      1794\n",
      "\n",
      "    accuracy                           0.96     25569\n",
      "   macro avg       0.95      0.69      0.76     25569\n",
      "weighted avg       0.96      0.96      0.95     25569\n",
      "\n"
     ]
    }
   ],
   "source": [
    "print('Classification Report Training set')\n",
    "print('\\n')\n",
    "print(classification_report(y_train,train_predictions))"
   ]
  },
  {
   "cell_type": "code",
   "execution_count": 56,
   "id": "d920dd96",
   "metadata": {
    "papermill": {
     "duration": 0.102872,
     "end_time": "2021-08-24T16:51:17.638650",
     "exception": false,
     "start_time": "2021-08-24T16:51:17.535778",
     "status": "completed"
    },
    "tags": []
   },
   "outputs": [
    {
     "name": "stdout",
     "output_type": "stream",
     "text": [
      "Classification Report Testing set\n",
      "\n",
      "\n",
      "              precision    recall  f1-score   support\n",
      "\n",
      "           0       0.95      1.00      0.97      5945\n",
      "           1       0.90      0.29      0.44       448\n",
      "\n",
      "    accuracy                           0.95      6393\n",
      "   macro avg       0.93      0.64      0.70      6393\n",
      "weighted avg       0.95      0.95      0.94      6393\n",
      "\n"
     ]
    }
   ],
   "source": [
    "print('Classification Report Testing set')\n",
    "print('\\n')\n",
    "print(classification_report(y_test,test_predictions))"
   ]
  },
  {
   "cell_type": "markdown",
   "id": "4bd88786",
   "metadata": {
    "papermill": {
     "duration": 0.082282,
     "end_time": "2021-08-24T16:51:17.803525",
     "exception": false,
     "start_time": "2021-08-24T16:51:17.721243",
     "status": "completed"
    },
    "tags": []
   },
   "source": [
    "_The model's f1-score is low for label 1 which indicates the hate text in the twitter_"
   ]
  },
  {
   "cell_type": "markdown",
   "id": "3b94030b",
   "metadata": {
    "execution": {
     "iopub.execute_input": "2021-08-16T05:09:08.477534Z",
     "iopub.status.busy": "2021-08-16T05:09:08.4771Z",
     "iopub.status.idle": "2021-08-16T05:09:08.481666Z",
     "shell.execute_reply": "2021-08-16T05:09:08.480758Z",
     "shell.execute_reply.started": "2021-08-16T05:09:08.477502Z"
    },
    "papermill": {
     "duration": 0.081974,
     "end_time": "2021-08-24T16:51:17.967977",
     "exception": false,
     "start_time": "2021-08-24T16:51:17.886003",
     "status": "completed"
    },
    "tags": []
   },
   "source": [
    "<a id='4-5'></a>\n",
    "### _Weighted Logistic Regression Or Cost Sensitive Logistic Regression_\n"
   ]
  },
  {
   "cell_type": "code",
   "execution_count": 57,
   "id": "cb9b1b3b",
   "metadata": {
    "papermill": {
     "duration": 0.095786,
     "end_time": "2021-08-24T16:51:18.146003",
     "exception": false,
     "start_time": "2021-08-24T16:51:18.050217",
     "status": "completed"
    },
    "tags": []
   },
   "outputs": [
    {
     "data": {
      "text/plain": [
       "0    29720\n",
       "1     2242\n",
       "Name: label, dtype: int64"
      ]
     },
     "execution_count": 57,
     "metadata": {},
     "output_type": "execute_result"
    }
   ],
   "source": [
    "df['label'].value_counts()"
   ]
  },
  {
   "cell_type": "markdown",
   "id": "8ec8d227",
   "metadata": {
    "papermill": {
     "duration": 0.083839,
     "end_time": "2021-08-24T16:51:18.314895",
     "exception": false,
     "start_time": "2021-08-24T16:51:18.231056",
     "status": "completed"
    },
    "tags": []
   },
   "source": [
    "_The minority to majority class ratio is 1:13_ "
   ]
  },
  {
   "cell_type": "code",
   "execution_count": 58,
   "id": "d4d5d6b8",
   "metadata": {
    "papermill": {
     "duration": 0.66907,
     "end_time": "2021-08-24T16:51:19.067118",
     "exception": false,
     "start_time": "2021-08-24T16:51:18.398048",
     "status": "completed"
    },
    "tags": []
   },
   "outputs": [
    {
     "name": "stdout",
     "output_type": "stream",
     "text": [
      "Classification Report Training set\n",
      "------------------------------------\n",
      "\n",
      "\n",
      "              precision    recall  f1-score   support\n",
      "\n",
      "           0       1.00      0.95      0.97     23775\n",
      "           1       0.60      0.98      0.74      1794\n",
      "\n",
      "    accuracy                           0.95     25569\n",
      "   macro avg       0.80      0.96      0.86     25569\n",
      "weighted avg       0.97      0.95      0.96     25569\n",
      "\n",
      "\n",
      "\n",
      "Classification Report Testing set\n",
      "------------------------------------\n",
      "\n",
      "\n",
      "              precision    recall  f1-score   support\n",
      "\n",
      "           0       0.98      0.94      0.96      5945\n",
      "           1       0.48      0.75      0.58       448\n",
      "\n",
      "    accuracy                           0.92      6393\n",
      "   macro avg       0.73      0.84      0.77      6393\n",
      "weighted avg       0.94      0.92      0.93      6393\n",
      "\n"
     ]
    }
   ],
   "source": [
    "#define the weight of the class labels using inverse ratio\n",
    "weights = {0:1.0,1:13.0}\n",
    "\n",
    "#instantiate the logistic regression model and account for the weights to be applied for model coefficients update magnitude\n",
    "clf = LogisticRegression(solver='lbfgs',class_weight=weights)\n",
    "\n",
    "#fit and predict\n",
    "clf.fit(X_train,y_train)\n",
    "train_predictions = clf.predict(X_train)\n",
    "test_predictions = clf.predict(X_test)\n",
    "\n",
    "#classification report\n",
    "print('Classification Report Training set')\n",
    "print('------------------------------------')\n",
    "print('\\n')\n",
    "print(classification_report(y_train,train_predictions))\n",
    "print('\\n')\n",
    "\n",
    "print('Classification Report Testing set')\n",
    "print('------------------------------------')\n",
    "print('\\n')\n",
    "print(classification_report(y_test,test_predictions))"
   ]
  },
  {
   "cell_type": "markdown",
   "id": "c681a6d1",
   "metadata": {
    "papermill": {
     "duration": 0.084404,
     "end_time": "2021-08-24T16:51:19.238556",
     "exception": false,
     "start_time": "2021-08-24T16:51:19.154152",
     "status": "completed"
    },
    "tags": []
   },
   "source": [
    "_The f1 score of both the training and testing set has improved compared to the plain vanilla Logistic Regression model. There is still more opportunity to improve the score using better models or even handling the data imbalance by adding synthetic data_"
   ]
  },
  {
   "cell_type": "markdown",
   "id": "b679d1e8",
   "metadata": {
    "papermill": {
     "duration": 0.089639,
     "end_time": "2021-08-24T16:51:19.415106",
     "exception": false,
     "start_time": "2021-08-24T16:51:19.325467",
     "status": "completed"
    },
    "tags": []
   },
   "source": [
    "<a id='4-6'></a>\n",
    "### _Regularization and Hyperparameter tuning:_"
   ]
  },
  {
   "cell_type": "code",
   "execution_count": 59,
   "id": "062e09ab",
   "metadata": {
    "papermill": {
     "duration": 0.091766,
     "end_time": "2021-08-24T16:51:19.590589",
     "exception": false,
     "start_time": "2021-08-24T16:51:19.498823",
     "status": "completed"
    },
    "tags": []
   },
   "outputs": [],
   "source": [
    "#import the required libraries for grid search\n",
    "from sklearn.model_selection import RandomizedSearchCV\n",
    "from sklearn.model_selection import StratifiedKFold\n",
    "from sklearn.model_selection import cross_val_score"
   ]
  },
  {
   "cell_type": "code",
   "execution_count": 60,
   "id": "3899bb7f",
   "metadata": {
    "papermill": {
     "duration": 0.091565,
     "end_time": "2021-08-24T16:51:19.764996",
     "exception": false,
     "start_time": "2021-08-24T16:51:19.673431",
     "status": "completed"
    },
    "tags": []
   },
   "outputs": [],
   "source": [
    "# define search space\n",
    "from scipy.stats import loguniform\n",
    "space = dict()\n",
    "space['solver'] = ['newton-cg', 'lbfgs', 'liblinear']\n",
    "space['penalty'] = ['l1', 'l2', 'elasticnet']\n",
    "space['C'] = loguniform(1e-5, 100)"
   ]
  },
  {
   "cell_type": "code",
   "execution_count": 61,
   "id": "9c32b2aa",
   "metadata": {
    "papermill": {
     "duration": 0.091763,
     "end_time": "2021-08-24T16:51:19.939813",
     "exception": false,
     "start_time": "2021-08-24T16:51:19.848050",
     "status": "completed"
    },
    "tags": []
   },
   "outputs": [
    {
     "name": "stdout",
     "output_type": "stream",
     "text": [
      "{'solver': ['newton-cg', 'lbfgs', 'liblinear'], 'penalty': ['l1', 'l2', 'elasticnet'], 'C': <scipy.stats._distn_infrastructure.rv_frozen object at 0x7f95c7d3f490>}\n"
     ]
    }
   ],
   "source": [
    "#check the search space \n",
    "print(space)"
   ]
  },
  {
   "cell_type": "markdown",
   "id": "f971e78a",
   "metadata": {
    "papermill": {
     "duration": 0.083518,
     "end_time": "2021-08-24T16:51:20.107863",
     "exception": false,
     "start_time": "2021-08-24T16:51:20.024345",
     "status": "completed"
    },
    "tags": []
   },
   "source": [
    "<a id='4-7'></a>\n",
    "### _Fine tuned Model with Balanced Class Weights_"
   ]
  },
  {
   "cell_type": "code",
   "execution_count": 62,
   "id": "17414e2e",
   "metadata": {
    "papermill": {
     "duration": 9.805455,
     "end_time": "2021-08-24T16:51:29.997487",
     "exception": false,
     "start_time": "2021-08-24T16:51:20.192032",
     "status": "completed"
    },
    "tags": []
   },
   "outputs": [
    {
     "name": "stderr",
     "output_type": "stream",
     "text": [
      "/usr/local/lib/python3.7/site-packages/sklearn/model_selection/_search.py:925: UserWarning: One or more of the test scores are non-finite: [0.19733336        nan 0.         0.                nan        nan\n",
      "        nan 0.                nan        nan        nan 0.\n",
      " 0.51894463 0.                nan 0.         0.37571091        nan\n",
      " 0.57468357 0.56018707        nan 0.58749975 0.18729866        nan\n",
      "        nan 0.                nan        nan 0.         0.\n",
      "        nan 0.51058404        nan        nan        nan        nan\n",
      "        nan        nan 0.         0.         0.                nan\n",
      " 0.                nan        nan        nan        nan        nan\n",
      "        nan        nan        nan        nan 0.1984544         nan\n",
      "        nan        nan        nan 0.                nan        nan\n",
      " 0.52952991        nan 0.         0.         0.                nan\n",
      "        nan        nan        nan        nan 0.59865425        nan\n",
      "        nan        nan        nan 0.         0.00334697 0.\n",
      "        nan 0.29990629        nan 0.29544325        nan        nan\n",
      "        nan        nan        nan 0.04013259        nan        nan\n",
      "        nan 0.47881577 0.                nan        nan        nan\n",
      "        nan        nan 0.59809994 0.55070792]\n",
      "  category=UserWarning\n"
     ]
    }
   ],
   "source": [
    "#define the model with balanced class weights\n",
    "weights = {0:1.0,1:1.0}\n",
    "clf = LogisticRegression(class_weight=weights)\n",
    "#define the number of folds \n",
    "folds = StratifiedKFold(n_splits=4,random_state=None)\n",
    "# define search\n",
    "grid_search = RandomizedSearchCV(estimator=clf,param_distributions=space, n_iter=100, scoring='recall',\n",
    "                            n_jobs=-1, cv=folds, random_state=seed)\n",
    "#fit grid search on the train data\n",
    "grid_result = grid_search.fit(X_train,y_train)"
   ]
  },
  {
   "cell_type": "code",
   "execution_count": 63,
   "id": "b0d8a7ae",
   "metadata": {
    "papermill": {
     "duration": 0.095608,
     "end_time": "2021-08-24T16:51:30.176249",
     "exception": false,
     "start_time": "2021-08-24T16:51:30.080641",
     "status": "completed"
    },
    "tags": []
   },
   "outputs": [
    {
     "data": {
      "text/plain": [
       "LogisticRegression(C=23.871926754399514, class_weight={0: 1.0, 1: 1.0},\n",
       "                   penalty='l1', solver='liblinear')"
      ]
     },
     "execution_count": 63,
     "metadata": {},
     "output_type": "execute_result"
    }
   ],
   "source": [
    "#retrieve the best model \n",
    "grid_result.best_estimator_"
   ]
  },
  {
   "cell_type": "code",
   "execution_count": 64,
   "id": "ca01a2c6",
   "metadata": {
    "papermill": {
     "duration": 0.092091,
     "end_time": "2021-08-24T16:51:30.352148",
     "exception": false,
     "start_time": "2021-08-24T16:51:30.260057",
     "status": "completed"
    },
    "tags": []
   },
   "outputs": [],
   "source": [
    "#instantiate the best model\n",
    "clf = LogisticRegression(C=23.871926754399514,penalty='l1',solver='liblinear',class_weight=weights)"
   ]
  },
  {
   "cell_type": "code",
   "execution_count": 65,
   "id": "05444b10",
   "metadata": {
    "papermill": {
     "duration": 0.374279,
     "end_time": "2021-08-24T16:51:30.810233",
     "exception": false,
     "start_time": "2021-08-24T16:51:30.435954",
     "status": "completed"
    },
    "tags": []
   },
   "outputs": [
    {
     "name": "stdout",
     "output_type": "stream",
     "text": [
      "Classification Report Training set\n",
      "------------------------------------\n",
      "\n",
      "\n",
      "              precision    recall  f1-score   support\n",
      "\n",
      "           0       0.99      1.00      1.00     23775\n",
      "           1       0.98      0.93      0.95      1794\n",
      "\n",
      "    accuracy                           0.99     25569\n",
      "   macro avg       0.99      0.96      0.97     25569\n",
      "weighted avg       0.99      0.99      0.99     25569\n",
      "\n",
      "\n",
      "\n",
      "Classification Report Testing set\n",
      "------------------------------------\n",
      "\n",
      "\n",
      "              precision    recall  f1-score   support\n",
      "\n",
      "           0       0.97      0.97      0.97      5945\n",
      "           1       0.62      0.56      0.59       448\n",
      "\n",
      "    accuracy                           0.94      6393\n",
      "   macro avg       0.79      0.77      0.78      6393\n",
      "weighted avg       0.94      0.94      0.94      6393\n",
      "\n"
     ]
    }
   ],
   "source": [
    "#fit and predict\n",
    "clf.fit(X_train,y_train)\n",
    "train_predictions = clf.predict(X_train)\n",
    "test_predictions = clf.predict(X_test)\n",
    "\n",
    "#classification report\n",
    "print('Classification Report Training set')\n",
    "print('------------------------------------')\n",
    "print('\\n')\n",
    "print(classification_report(y_train,train_predictions))\n",
    "print('\\n')\n",
    "\n",
    "print('Classification Report Testing set')\n",
    "print('------------------------------------')\n",
    "print('\\n')\n",
    "print(classification_report(y_test,test_predictions))"
   ]
  },
  {
   "cell_type": "markdown",
   "id": "484dce3e",
   "metadata": {
    "papermill": {
     "duration": 0.091413,
     "end_time": "2021-08-24T16:51:30.985355",
     "exception": false,
     "start_time": "2021-08-24T16:51:30.893942",
     "status": "completed"
    },
    "tags": []
   },
   "source": [
    "<a id='4-8'></a>\n",
    "### _Fine tuned model with class weights proportional to the class imbalance_"
   ]
  },
  {
   "cell_type": "code",
   "execution_count": 66,
   "id": "1371c1fe",
   "metadata": {
    "papermill": {
     "duration": 19.10622,
     "end_time": "2021-08-24T16:51:50.177192",
     "exception": false,
     "start_time": "2021-08-24T16:51:31.070972",
     "status": "completed"
    },
    "tags": []
   },
   "outputs": [
    {
     "name": "stderr",
     "output_type": "stream",
     "text": [
      "/usr/local/lib/python3.7/site-packages/sklearn/model_selection/_search.py:925: UserWarning: One or more of the test scores are non-finite: [0.759202          nan 0.47771834 0.05129081        nan        nan\n",
      "        nan 0.68172452        nan        nan        nan 0.20234822\n",
      " 0.7062321  0.5379079         nan 0.         0.7469364         nan\n",
      " 0.68728375 0.68895412        nan 0.68839236 0.76087238        nan\n",
      "        nan 0.49722474        nan        nan 0.19677532 0.08472946\n",
      "        nan 0.71125194        nan        nan        nan        nan\n",
      "        nan        nan 0.49833956 0.38407647 0.734114          nan\n",
      " 0.44428343        nan        nan        nan        nan        nan\n",
      "        nan        nan        nan        nan 0.73187565        nan\n",
      "        nan        nan        nan 0.                nan        nan\n",
      " 0.69953816        nan 0.33168201 0.11261384 0.                nan\n",
      "        nan        nan        nan        nan 0.67613422        nan\n",
      "        nan        nan        nan 0.         0.59196404 0.67782075\n",
      "        nan 0.75306982        nan 0.75306982        nan        nan\n",
      "        nan        nan        nan 0.76476993        nan        nan\n",
      "        nan 0.72630896 0.18057986        nan        nan        nan\n",
      "        nan        nan 0.67948119 0.69118502]\n",
      "  category=UserWarning\n"
     ]
    },
    {
     "data": {
      "text/plain": [
       "LogisticRegression(C=0.16731783677034165, class_weight={0: 1.0, 1: 13},\n",
       "                   solver='liblinear')"
      ]
     },
     "execution_count": 66,
     "metadata": {},
     "output_type": "execute_result"
    }
   ],
   "source": [
    "#use the class weights to handle the imbalance in the labels\n",
    "weights = {0:1.0,1:13}\n",
    "\n",
    "clf = LogisticRegression(class_weight=weights)\n",
    "#define the number of folds \n",
    "folds = StratifiedKFold(n_splits=4,random_state=None)\n",
    "# define search\n",
    "grid_search = RandomizedSearchCV(estimator=clf,param_distributions=space, n_iter=100, scoring='recall',\n",
    "                            n_jobs=-1, cv=folds, random_state=seed)\n",
    "#fit grid search on the train data\n",
    "grid_result = grid_search.fit(X_train,y_train)\n",
    "\n",
    "#retrieve the best model \n",
    "grid_result.best_estimator_"
   ]
  },
  {
   "cell_type": "code",
   "execution_count": 67,
   "id": "45491e29",
   "metadata": {
    "papermill": {
     "duration": 0.220015,
     "end_time": "2021-08-24T16:51:50.483129",
     "exception": false,
     "start_time": "2021-08-24T16:51:50.263114",
     "status": "completed"
    },
    "tags": []
   },
   "outputs": [
    {
     "name": "stdout",
     "output_type": "stream",
     "text": [
      "Classification Report Training set\n",
      "------------------------------------\n",
      "\n",
      "\n",
      "              precision    recall  f1-score   support\n",
      "\n",
      "           0       0.99      0.94      0.97     23775\n",
      "           1       0.53      0.93      0.68      1794\n",
      "\n",
      "    accuracy                           0.94     25569\n",
      "   macro avg       0.76      0.93      0.82     25569\n",
      "weighted avg       0.96      0.94      0.95     25569\n",
      "\n",
      "\n",
      "\n",
      "Classification Report Testing set\n",
      "------------------------------------\n",
      "\n",
      "\n",
      "              precision    recall  f1-score   support\n",
      "\n",
      "           0       0.98      0.93      0.96      5945\n",
      "           1       0.46      0.77      0.58       448\n",
      "\n",
      "    accuracy                           0.92      6393\n",
      "   macro avg       0.72      0.85      0.77      6393\n",
      "weighted avg       0.95      0.92      0.93      6393\n",
      "\n"
     ]
    }
   ],
   "source": [
    "#instantiate the best model\n",
    "clf = LogisticRegression(C=0.16731783677034165,penalty='l2',solver='liblinear',class_weight=weights)\n",
    "\n",
    "#fit and predict\n",
    "clf.fit(X_train,y_train)\n",
    "train_predictions = clf.predict(X_train)\n",
    "test_predictions = clf.predict(X_test)\n",
    "\n",
    "#classification report\n",
    "print('Classification Report Training set')\n",
    "print('------------------------------------')\n",
    "print('\\n')\n",
    "print(classification_report(y_train,train_predictions))\n",
    "print('\\n')\n",
    "\n",
    "print('Classification Report Testing set')\n",
    "print('------------------------------------')\n",
    "print('\\n')\n",
    "print(classification_report(y_test,test_predictions))\n"
   ]
  },
  {
   "cell_type": "code",
   "execution_count": 68,
   "id": "007fd285",
   "metadata": {
    "papermill": {
     "duration": 0.294715,
     "end_time": "2021-08-24T16:51:50.862147",
     "exception": false,
     "start_time": "2021-08-24T16:51:50.567432",
     "status": "completed"
    },
    "tags": []
   },
   "outputs": [
    {
     "data": {
      "image/png": "[encoded data removed]",
      "text/plain": [
       "<Figure size 864x360 with 2 Axes>"
      ]
     },
     "metadata": {
      "needs_background": "light"
     },
     "output_type": "display_data"
    }
   ],
   "source": [
    "from sklearn.metrics import plot_confusion_matrix\n",
    "plot_confusion_matrix(clf,X_test,y_test,cmap='summer')\n",
    "plt.title('Confusion Matrix Test Set')\n",
    "plt.show()"
   ]
  },
  {
   "cell_type": "markdown",
   "id": "fcd28d69",
   "metadata": {
    "papermill": {
     "duration": 0.084966,
     "end_time": "2021-08-24T16:51:51.032466",
     "exception": false,
     "start_time": "2021-08-24T16:51:50.947500",
     "status": "completed"
    },
    "tags": []
   },
   "source": [
    "<a id='5'></a>\n",
    "## _Summary_\n",
    "\n",
    "- Logistic Regression with default paramaters recall = 29%\n",
    "- Logistic Regression with class weights in proportion to the data imbalance recall = 75%\n",
    "- Logistic Regression fine tuned with grid search and balanced class weights recall = 56%\n",
    "- Logistic Regression fine tuned with grid search and class weights in proportion to data imbalance recall = 77%\n"
   ]
  }
 ],
 "metadata": {
  "kernelspec": {
   "display_name": "Python 3 (ipykernel)",
   "language": "python",
   "name": "python3"
  },
  "language_info": {
   "codemirror_mode": {
    "name": "ipython",
    "version": 3
   },
   "file_extension": ".py",
   "mimetype": "text/x-python",
   "name": "python",
   "nbconvert_exporter": "python",
   "pygments_lexer": "ipython3",
   "version": "3.9.7"
  },
  "papermill": {
   "default_parameters": {},
   "duration": 94.922338,
   "end_time": "2021-08-24T16:51:52.203071",
   "environment_variables": {},
   "exception": null,
   "input_path": "__notebook__.ipynb",
   "output_path": "__notebook__.ipynb",
   "parameters": {},
   "start_time": "2021-08-24T16:50:17.280733",
   "version": "2.3.3"
  }
 },
 "nbformat": 4,
 "nbformat_minor": 5
}
