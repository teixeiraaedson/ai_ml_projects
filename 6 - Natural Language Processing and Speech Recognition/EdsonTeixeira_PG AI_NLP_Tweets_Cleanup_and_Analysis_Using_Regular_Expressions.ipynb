{
 "cells": [
  {
   "cell_type": "code",
   "execution_count": null,
   "metadata": {},
   "outputs": [],
   "source": []
  },
  {
   "cell_type": "markdown",
   "metadata": {},
   "source": [
    "<img src=\"http://cfs22.simplicdn.net/ice9/new_logo.svgz \"/>\n",
    "\n",
    "# PG AI - Natural Language Processing and Speech Recognition\n",
    "# Assisted Practice: Implement Text Processing Using Stemming and Regular Expression after Noise Removal and Convert It into List of Phrases\n",
    "\n",
    "DESCRIPTION\n",
    "\n",
    "Use regular expressions to work with messy tweets data: clean up the data, extract hashtags, analyze the most popular hashtags that occur along with a target hashtag (#economy).<br>\n",
    "Problem Statement: Social media is a gold mine of information. Brands, governments, or anyone  can leverage their business with the help of the information contained. It can be information on the sentiments for a brand, or the themes being spoken about , or the associated trends for a particular hashtag. In this project, we   will work on the tweets on Twitter.<br>\n",
    "We will find  other hashtags that occur frequently with our target hashtag. This will give us an understanding of which  other topics people are associating this hashtag with.<br>\n",
    "\n",
    "### Domain: Social media\n",
    "### Analysis to be done: Cleanup tweets and analyze top hashtags\n",
    "### Content: \n",
    "### Dataset: ‘raw_tweets_economy.txt’\n",
    "\n",
    "Dataset has no header. For each row, it has an index and then the tweet text.\n",
    "\n",
    "Steps to perform:\n",
    "\n",
    "Tweets data is generally very ill-formatted and contains URLs, user handles, retweet markers, etc. The data is not clean and it is difficult to extract the desired information. We will use regular expressions to clean up the tweets and then, use it to extract hashtags from the data. We will eliminate the target hashtag #economy, which is effectively a contextual stop word in this case. <br>\n",
    "\n",
    "#### Tasks: \n",
    "\n",
    "    1. Load the tweets file using read_csv function from Pandas package. (Hint: provide the appropriate separator)\n",
    "    2. Drop the column ‘Unnamed: 0’ and rename the column containing the text to ‘tweet’.\n",
    "    3. Get the tweets into a list for easy text cleanup and manipulation.\n",
    "    4. Normalize the case by  converting all text into lower case and assigning new variables. See first five tweets to confirm if we got the desired result.\n",
    "    5. Using regular expressions, remove user handles. These begin with '@’.\n",
    "        1. First, try removing user handle from the test string ‘@Rahim this course rocks! https://linkedin.com/in/rahim-baig’.\n",
    "        2. Then, cleanup all the tweets once the function or pattern is decided. Check first five items to confirm we got the desired result.\n",
    "\n",
    "    6. Using regular expressions, remove URLs:\n",
    "        1. First, try removing URLs from the test string ‘@Rahim this course rocks! https://linkedin.com/in/rahim-baig’.\n",
    "        2. Then, clean up all the tweets once the function or pattern is decided. Check first five items to confirm we got the desired result.\n",
    "\n",
    "    7. Using regular expressions, extract only the hashtags from the tweets.  Remember, we have to analyze the most common hashtags in tweets.\n",
    "        1. Extract hashtags from the sample string, ‘@Rahim, #food is #love’.\n",
    "        2. Then, extract from all the tweets once the pattern is decided. Check the first five records to confirm the result.\n",
    "\n",
    "    8. Counting the most common hashtags:\n",
    "        1. First, collate all the tags into one single list to conveniently pass on to a counter.\n",
    "        2. Remove the contextual stop word i.e. ‘#economy’. This will  be dominant, as this is the target hashtag. We need to analyze the other hashtags.\n",
    "        3. Use a counter to count the most common hashtags in the data.\n",
    "        4. Get top 10 hashtags.\n",
    "\n",
    "    9. Plot the top 10 hashtags in a horizontal bar chart.\n",
    "    \n",
    "\n",
    "## Objective: \n",
    "Analyse tweets on a subject (economy) to identify -   \n",
    "- the top hashtags associated with a target hashtag ('economy')\n",
    "\n",
    "We'll need to perform a lot of clean up during the process. We will - \n",
    "- Normalize case\n",
    "- Tokenize with specific rules\n",
    "- Contextual stop word removal\n",
    "- Cleanup - removal of URLs, User handles\n",
    "\n",
    "Finally, we'll plot the top 10 hashtags that occurred along with '#economy' on a horizontal bar chart\n",
    "\n",
    "By Edson Teixeira<br>\n",
    "teixeiraedson252@gmail.com <br>\n",
    "December 29th 2021"
   ]
  },
  {
   "cell_type": "code",
   "execution_count": 1,
   "metadata": {},
   "outputs": [],
   "source": [
    "import pandas as pd"
   ]
  },
  {
   "cell_type": "code",
   "execution_count": 2,
   "metadata": {},
   "outputs": [
    {
     "data": {
      "text/html": [
       "<div>\n",
       "<style scoped>\n",
       "    .dataframe tbody tr th:only-of-type {\n",
       "        vertical-align: middle;\n",
       "    }\n",
       "\n",
       "    .dataframe tbody tr th {\n",
       "        vertical-align: top;\n",
       "    }\n",
       "\n",
       "    .dataframe thead th {\n",
       "        text-align: right;\n",
       "    }\n",
       "</style>\n",
       "<table border=\"1\" class=\"dataframe\">\n",
       "  <thead>\n",
       "    <tr style=\"text-align: right;\">\n",
       "      <th></th>\n",
       "      <th>Unnamed: 0</th>\n",
       "      <th>0</th>\n",
       "    </tr>\n",
       "  </thead>\n",
       "  <tbody>\n",
       "    <tr>\n",
       "      <th>0</th>\n",
       "      <td>0</td>\n",
       "      <td>Stocks losses deepen as a key recession warnin...</td>\n",
       "    </tr>\n",
       "    <tr>\n",
       "      <th>1</th>\n",
       "      <td>1</td>\n",
       "      <td>RT @CallMeAhmjusAyn: The #economy.\\r\\n@FoxNews...</td>\n",
       "    </tr>\n",
       "    <tr>\n",
       "      <th>2</th>\n",
       "      <td>2</td>\n",
       "      <td>AP Explains: Is the US economy nearing a reces...</td>\n",
       "    </tr>\n",
       "    <tr>\n",
       "      <th>3</th>\n",
       "      <td>3</td>\n",
       "      <td>A @JobCreatorsUSA / https://t.co/JXEt7hQU4k su...</td>\n",
       "    </tr>\n",
       "    <tr>\n",
       "      <th>4</th>\n",
       "      <td>4</td>\n",
       "      <td>Who will stop mr. Mario Draghi and the ECB wit...</td>\n",
       "    </tr>\n",
       "  </tbody>\n",
       "</table>\n",
       "</div>"
      ],
      "text/plain": [
       "   Unnamed: 0                                                  0\n",
       "0           0  Stocks losses deepen as a key recession warnin...\n",
       "1           1  RT @CallMeAhmjusAyn: The #economy.\\r\\n@FoxNews...\n",
       "2           2  AP Explains: Is the US economy nearing a reces...\n",
       "3           3  A @JobCreatorsUSA / https://t.co/JXEt7hQU4k su...\n",
       "4           4  Who will stop mr. Mario Draghi and the ECB wit..."
      ]
     },
     "execution_count": 2,
     "metadata": {},
     "output_type": "execute_result"
    }
   ],
   "source": [
    "inp_tweets0 = pd.read_csv(\"raw_tweets_economy.txt\", sep=\"\\t\")\n",
    "inp_tweets0.head()"
   ]
  },
  {
   "cell_type": "markdown",
   "metadata": {},
   "source": [
    "#### Drop the column '0', rename column '1' to 'tweet'"
   ]
  },
  {
   "cell_type": "code",
   "execution_count": 3,
   "metadata": {},
   "outputs": [],
   "source": [
    "inp_tweets0.drop('Unnamed: 0', inplace=True, axis=1)"
   ]
  },
  {
   "cell_type": "code",
   "execution_count": 4,
   "metadata": {},
   "outputs": [
    {
     "data": {
      "text/plain": [
       "(500, 1)"
      ]
     },
     "execution_count": 4,
     "metadata": {},
     "output_type": "execute_result"
    }
   ],
   "source": [
    "inp_tweets0.shape"
   ]
  },
  {
   "cell_type": "code",
   "execution_count": 5,
   "metadata": {},
   "outputs": [
    {
     "data": {
      "text/html": [
       "<div>\n",
       "<style scoped>\n",
       "    .dataframe tbody tr th:only-of-type {\n",
       "        vertical-align: middle;\n",
       "    }\n",
       "\n",
       "    .dataframe tbody tr th {\n",
       "        vertical-align: top;\n",
       "    }\n",
       "\n",
       "    .dataframe thead th {\n",
       "        text-align: right;\n",
       "    }\n",
       "</style>\n",
       "<table border=\"1\" class=\"dataframe\">\n",
       "  <thead>\n",
       "    <tr style=\"text-align: right;\">\n",
       "      <th></th>\n",
       "      <th>0</th>\n",
       "    </tr>\n",
       "  </thead>\n",
       "  <tbody>\n",
       "    <tr>\n",
       "      <th>0</th>\n",
       "      <td>Stocks losses deepen as a key recession warnin...</td>\n",
       "    </tr>\n",
       "    <tr>\n",
       "      <th>1</th>\n",
       "      <td>RT @CallMeAhmjusAyn: The #economy.\\r\\n@FoxNews...</td>\n",
       "    </tr>\n",
       "    <tr>\n",
       "      <th>2</th>\n",
       "      <td>AP Explains: Is the US economy nearing a reces...</td>\n",
       "    </tr>\n",
       "    <tr>\n",
       "      <th>3</th>\n",
       "      <td>A @JobCreatorsUSA / https://t.co/JXEt7hQU4k su...</td>\n",
       "    </tr>\n",
       "    <tr>\n",
       "      <th>4</th>\n",
       "      <td>Who will stop mr. Mario Draghi and the ECB wit...</td>\n",
       "    </tr>\n",
       "  </tbody>\n",
       "</table>\n",
       "</div>"
      ],
      "text/plain": [
       "                                                   0\n",
       "0  Stocks losses deepen as a key recession warnin...\n",
       "1  RT @CallMeAhmjusAyn: The #economy.\\r\\n@FoxNews...\n",
       "2  AP Explains: Is the US economy nearing a reces...\n",
       "3  A @JobCreatorsUSA / https://t.co/JXEt7hQU4k su...\n",
       "4  Who will stop mr. Mario Draghi and the ECB wit..."
      ]
     },
     "execution_count": 5,
     "metadata": {},
     "output_type": "execute_result"
    }
   ],
   "source": [
    "inp_tweets0.head()"
   ]
  },
  {
   "cell_type": "markdown",
   "metadata": {},
   "source": [
    "Renaming the column"
   ]
  },
  {
   "cell_type": "code",
   "execution_count": 6,
   "metadata": {},
   "outputs": [
    {
     "data": {
      "text/html": [
       "<div>\n",
       "<style scoped>\n",
       "    .dataframe tbody tr th:only-of-type {\n",
       "        vertical-align: middle;\n",
       "    }\n",
       "\n",
       "    .dataframe tbody tr th {\n",
       "        vertical-align: top;\n",
       "    }\n",
       "\n",
       "    .dataframe thead th {\n",
       "        text-align: right;\n",
       "    }\n",
       "</style>\n",
       "<table border=\"1\" class=\"dataframe\">\n",
       "  <thead>\n",
       "    <tr style=\"text-align: right;\">\n",
       "      <th></th>\n",
       "      <th>tweet</th>\n",
       "    </tr>\n",
       "  </thead>\n",
       "  <tbody>\n",
       "    <tr>\n",
       "      <th>0</th>\n",
       "      <td>Stocks losses deepen as a key recession warnin...</td>\n",
       "    </tr>\n",
       "    <tr>\n",
       "      <th>1</th>\n",
       "      <td>RT @CallMeAhmjusAyn: The #economy.\\r\\n@FoxNews...</td>\n",
       "    </tr>\n",
       "    <tr>\n",
       "      <th>2</th>\n",
       "      <td>AP Explains: Is the US economy nearing a reces...</td>\n",
       "    </tr>\n",
       "    <tr>\n",
       "      <th>3</th>\n",
       "      <td>A @JobCreatorsUSA / https://t.co/JXEt7hQU4k su...</td>\n",
       "    </tr>\n",
       "    <tr>\n",
       "      <th>4</th>\n",
       "      <td>Who will stop mr. Mario Draghi and the ECB wit...</td>\n",
       "    </tr>\n",
       "  </tbody>\n",
       "</table>\n",
       "</div>"
      ],
      "text/plain": [
       "                                               tweet\n",
       "0  Stocks losses deepen as a key recession warnin...\n",
       "1  RT @CallMeAhmjusAyn: The #economy.\\r\\n@FoxNews...\n",
       "2  AP Explains: Is the US economy nearing a reces...\n",
       "3  A @JobCreatorsUSA / https://t.co/JXEt7hQU4k su...\n",
       "4  Who will stop mr. Mario Draghi and the ECB wit..."
      ]
     },
     "execution_count": 6,
     "metadata": {},
     "output_type": "execute_result"
    }
   ],
   "source": [
    "inp_tweets0 = inp_tweets0.rename({'0':'tweet'}, axis=1)\n",
    "inp_tweets0.head()"
   ]
  },
  {
   "cell_type": "code",
   "execution_count": 7,
   "metadata": {},
   "outputs": [
    {
     "data": {
      "text/plain": [
       "array(['RT @CrownPlatform: Who runs #Crown?\\r\\n\\r\\n$Crown isn’t run by any one party. Our self-regulated #economy is governed by every user with a stake…'],\n",
       "      dtype=object)"
      ]
     },
     "execution_count": 7,
     "metadata": {},
     "output_type": "execute_result"
    }
   ],
   "source": [
    "inp_tweets0.tweet.sample().values"
   ]
  },
  {
   "cell_type": "markdown",
   "metadata": {},
   "source": [
    "#### Get the tweets into a list, for easy text clean up and manipulation"
   ]
  },
  {
   "cell_type": "code",
   "execution_count": 8,
   "metadata": {},
   "outputs": [],
   "source": [
    "tweets0 = inp_tweets0.tweet.values"
   ]
  },
  {
   "cell_type": "code",
   "execution_count": 9,
   "metadata": {},
   "outputs": [
    {
     "data": {
      "text/plain": [
       "500"
      ]
     },
     "execution_count": 9,
     "metadata": {},
     "output_type": "execute_result"
    }
   ],
   "source": [
    "len(tweets0)"
   ]
  },
  {
   "cell_type": "code",
   "execution_count": 10,
   "metadata": {
    "scrolled": true
   },
   "outputs": [
    {
     "data": {
      "text/plain": [
       "array(['Stocks losses deepen as a key recession warning surfaces @GOP #economy #fail #collapse #recession #gop #greed… https://t.co/F8kazAixUk',\n",
       "       \"RT @CallMeAhmjusAyn: The #economy.\\r\\n@FoxNews @realDonaldTrump \\r\\n#Trump is an ejit.\\r\\n#maga #TrumpTrain2020 #sheeple are idiot's.\\r\\n#farming #Trad…\",\n",
       "       'AP Explains: Is the US economy nearing a recession? \\r\\n#Business\\r\\n#Economy\\r\\n#Recession\\r\\n#TradeWar\\r\\n#China\\r\\n#EU… https://t.co/0jtsR2kSxi',\n",
       "       'A @JobCreatorsUSA / https://t.co/JXEt7hQU4k survey completed Tuesday, 56% rated the #economy as good or excellent,… https://t.co/j1XMiptADx',\n",
       "       'Who will stop mr. Mario Draghi and the ECB with this counterproductive course of money dumping / zero interests? It… https://t.co/eweIrVuOK0'],\n",
       "      dtype=object)"
      ]
     },
     "execution_count": 10,
     "metadata": {},
     "output_type": "execute_result"
    }
   ],
   "source": [
    "tweets0[:5]"
   ]
  },
  {
   "cell_type": "markdown",
   "metadata": {},
   "source": [
    "The tweets contain - \n",
    "1. URLs\n",
    "2. Hashtags\n",
    "3. User handles\n",
    "4. 'RT'"
   ]
  },
  {
   "cell_type": "markdown",
   "metadata": {},
   "source": [
    "## Cleanup "
   ]
  },
  {
   "cell_type": "markdown",
   "metadata": {},
   "source": [
    "#### Normalizing case"
   ]
  },
  {
   "cell_type": "code",
   "execution_count": 11,
   "metadata": {},
   "outputs": [],
   "source": [
    "tweets_lower = [twt.lower() for twt in tweets0]"
   ]
  },
  {
   "cell_type": "code",
   "execution_count": 12,
   "metadata": {},
   "outputs": [
    {
     "data": {
      "text/plain": [
       "['stocks losses deepen as a key recession warning surfaces @gop #economy #fail #collapse #recession #gop #greed… https://t.co/f8kazaixuk',\n",
       " \"rt @callmeahmjusayn: the #economy.\\r\\n@foxnews @realdonaldtrump \\r\\n#trump is an ejit.\\r\\n#maga #trumptrain2020 #sheeple are idiot's.\\r\\n#farming #trad…\",\n",
       " 'ap explains: is the us economy nearing a recession? \\r\\n#business\\r\\n#economy\\r\\n#recession\\r\\n#tradewar\\r\\n#china\\r\\n#eu… https://t.co/0jtsr2ksxi',\n",
       " 'a @jobcreatorsusa / https://t.co/jxet7hqu4k survey completed tuesday, 56% rated the #economy as good or excellent,… https://t.co/j1xmiptadx',\n",
       " 'who will stop mr. mario draghi and the ecb with this counterproductive course of money dumping / zero interests? it… https://t.co/eweirvuok0']"
      ]
     },
     "execution_count": 12,
     "metadata": {},
     "output_type": "execute_result"
    }
   ],
   "source": [
    "tweets_lower[:5]"
   ]
  },
  {
   "cell_type": "markdown",
   "metadata": {},
   "source": [
    "#### Remove user handles, begin with '@'"
   ]
  },
  {
   "cell_type": "code",
   "execution_count": 13,
   "metadata": {},
   "outputs": [],
   "source": [
    "import re"
   ]
  },
  {
   "cell_type": "code",
   "execution_count": 14,
   "metadata": {},
   "outputs": [
    {
     "data": {
      "text/plain": [
       "' this course rocks! http://rahimbaig.com/ai'"
      ]
     },
     "execution_count": 14,
     "metadata": {},
     "output_type": "execute_result"
    }
   ],
   "source": [
    "re.sub(\"@\\w+\",\"\", \"@Rahim this course rocks! http://rahimbaig.com/ai\")"
   ]
  },
  {
   "cell_type": "code",
   "execution_count": 15,
   "metadata": {},
   "outputs": [],
   "source": [
    "tweets_nouser = [re.sub(\"@\\w+\",\"\", twt) for twt in tweets_lower]"
   ]
  },
  {
   "cell_type": "code",
   "execution_count": 16,
   "metadata": {},
   "outputs": [
    {
     "data": {
      "text/plain": [
       "['stocks losses deepen as a key recession warning surfaces  #economy #fail #collapse #recession #gop #greed… https://t.co/f8kazaixuk',\n",
       " \"rt : the #economy.\\r\\n  \\r\\n#trump is an ejit.\\r\\n#maga #trumptrain2020 #sheeple are idiot's.\\r\\n#farming #trad…\",\n",
       " 'ap explains: is the us economy nearing a recession? \\r\\n#business\\r\\n#economy\\r\\n#recession\\r\\n#tradewar\\r\\n#china\\r\\n#eu… https://t.co/0jtsr2ksxi',\n",
       " 'a  / https://t.co/jxet7hqu4k survey completed tuesday, 56% rated the #economy as good or excellent,… https://t.co/j1xmiptadx',\n",
       " 'who will stop mr. mario draghi and the ecb with this counterproductive course of money dumping / zero interests? it… https://t.co/eweirvuok0']"
      ]
     },
     "execution_count": 16,
     "metadata": {},
     "output_type": "execute_result"
    }
   ],
   "source": [
    "tweets_nouser[:5]"
   ]
  },
  {
   "cell_type": "markdown",
   "metadata": {},
   "source": [
    "#### Remove URLs"
   ]
  },
  {
   "cell_type": "code",
   "execution_count": 17,
   "metadata": {},
   "outputs": [
    {
     "data": {
      "text/plain": [
       "'@Rahim this course rocks! '"
      ]
     },
     "execution_count": 17,
     "metadata": {},
     "output_type": "execute_result"
    }
   ],
   "source": [
    "re.sub(\"\\w+://\\S+\",\"\", \"@Rahim this course rocks! http://rahimbaig.com/ai\")"
   ]
  },
  {
   "cell_type": "code",
   "execution_count": 18,
   "metadata": {},
   "outputs": [],
   "source": [
    "tweets_nourl = [re.sub(\"\\w+://\\S+\",\"\", twt) for twt in tweets_nouser]"
   ]
  },
  {
   "cell_type": "code",
   "execution_count": 19,
   "metadata": {},
   "outputs": [
    {
     "data": {
      "text/plain": [
       "['stocks losses deepen as a key recession warning surfaces  #economy #fail #collapse #recession #gop #greed… ',\n",
       " \"rt : the #economy.\\r\\n  \\r\\n#trump is an ejit.\\r\\n#maga #trumptrain2020 #sheeple are idiot's.\\r\\n#farming #trad…\",\n",
       " 'ap explains: is the us economy nearing a recession? \\r\\n#business\\r\\n#economy\\r\\n#recession\\r\\n#tradewar\\r\\n#china\\r\\n#eu… ',\n",
       " 'a  /  survey completed tuesday, 56% rated the #economy as good or excellent,… ',\n",
       " 'who will stop mr. mario draghi and the ecb with this counterproductive course of money dumping / zero interests? it… ']"
      ]
     },
     "execution_count": 19,
     "metadata": {},
     "output_type": "execute_result"
    }
   ],
   "source": [
    "tweets_nourl[:5]"
   ]
  },
  {
   "cell_type": "code",
   "execution_count": 20,
   "metadata": {},
   "outputs": [
    {
     "data": {
      "text/plain": [
       "['rt : . has transformed (and expanded) the republican party, making it the party of blue collar working america…',\n",
       " 'rt : #lebanon #beirut #politics #economy #commerce #funny #daily #media #crazy #science #food\\r\\n',\n",
       " 'rt : . has transformed (and expanded) the republican party, making it the party of blue collar working america…',\n",
       " \"rt : rt.'s #facts #thread\\r\\n1). blames u.s. sanctions for #iran’s crumbling #economy. #blacklistirgc #corrupti…\",\n",
       " '#primeminister  commits to pumping 1.4$tr into the #economy of #india via #infrastructure projects .… ']"
      ]
     },
     "execution_count": 20,
     "metadata": {},
     "output_type": "execute_result"
    }
   ],
   "source": [
    "tweets_nourl[-5:]"
   ]
  },
  {
   "cell_type": "markdown",
   "metadata": {},
   "source": [
    "#### Extracting only the hashtags from the tweets - remember, we want to analyse the most common hashtags in the tweets"
   ]
  },
  {
   "cell_type": "code",
   "execution_count": 21,
   "metadata": {},
   "outputs": [
    {
     "data": {
      "text/plain": [
       "['#love', '#life']"
      ]
     },
     "execution_count": 21,
     "metadata": {},
     "output_type": "execute_result"
    }
   ],
   "source": [
    "re.findall(\"#\\w+\",\"I love this #love #life and fun\")"
   ]
  },
  {
   "cell_type": "code",
   "execution_count": 22,
   "metadata": {},
   "outputs": [
    {
     "data": {
      "text/plain": [
       "['#food', '#love']"
      ]
     },
     "execution_count": 22,
     "metadata": {},
     "output_type": "execute_result"
    }
   ],
   "source": [
    "re.findall(\"#\\w+\",\"@Rahim #food is #love\")"
   ]
  },
  {
   "cell_type": "code",
   "execution_count": 23,
   "metadata": {},
   "outputs": [],
   "source": [
    "hashtags0 = [re.findall('#\\w+',twt) for twt in tweets_nourl]"
   ]
  },
  {
   "cell_type": "code",
   "execution_count": 24,
   "metadata": {},
   "outputs": [
    {
     "data": {
      "text/plain": [
       "[['#economy', '#fail', '#collapse', '#recession', '#gop', '#greed'],\n",
       " ['#economy',\n",
       "  '#trump',\n",
       "  '#maga',\n",
       "  '#trumptrain2020',\n",
       "  '#sheeple',\n",
       "  '#farming',\n",
       "  '#trad'],\n",
       " ['#business', '#economy', '#recession', '#tradewar', '#china', '#eu'],\n",
       " ['#economy'],\n",
       " []]"
      ]
     },
     "execution_count": 24,
     "metadata": {},
     "output_type": "execute_result"
    }
   ],
   "source": [
    "hashtags0[:5]"
   ]
  },
  {
   "cell_type": "markdown",
   "metadata": {},
   "source": [
    "### Finding out the most common hashtags and plotting them"
   ]
  },
  {
   "cell_type": "markdown",
   "metadata": {},
   "source": [
    "#### First, combining all the individuals lists into a single list, which can easily be passed to a counter"
   ]
  },
  {
   "cell_type": "code",
   "execution_count": 25,
   "metadata": {},
   "outputs": [],
   "source": [
    "#Declaring an empty list which will later contain all the hashtags\n",
    "all_hashtags = []"
   ]
  },
  {
   "cell_type": "code",
   "execution_count": 26,
   "metadata": {},
   "outputs": [],
   "source": [
    "for twt in hashtags0:\n",
    "    all_hashtags.extend(twt)"
   ]
  },
  {
   "cell_type": "code",
   "execution_count": 27,
   "metadata": {},
   "outputs": [
    {
     "data": {
      "text/plain": [
       "['#economy', '#fail', '#collapse', '#recession', '#gop']"
      ]
     },
     "execution_count": 27,
     "metadata": {},
     "output_type": "execute_result"
    }
   ],
   "source": [
    "all_hashtags[:5]"
   ]
  },
  {
   "cell_type": "code",
   "execution_count": 28,
   "metadata": {},
   "outputs": [
    {
     "data": {
      "text/plain": [
       "1061"
      ]
     },
     "execution_count": 28,
     "metadata": {},
     "output_type": "execute_result"
    }
   ],
   "source": [
    "len(all_hashtags)"
   ]
  },
  {
   "cell_type": "markdown",
   "metadata": {},
   "source": [
    "#### Removing '#economy' from the data, as this is what the tweets are about"
   ]
  },
  {
   "cell_type": "code",
   "execution_count": 29,
   "metadata": {},
   "outputs": [],
   "source": [
    "stop_contextual = ['#economy']"
   ]
  },
  {
   "cell_type": "markdown",
   "metadata": {},
   "source": [
    "#### Removing the contextual stopwords"
   ]
  },
  {
   "cell_type": "code",
   "execution_count": 30,
   "metadata": {},
   "outputs": [],
   "source": [
    "all_hashtags = [tag for tag in all_hashtags if tag not in stop_contextual]"
   ]
  },
  {
   "cell_type": "code",
   "execution_count": 31,
   "metadata": {},
   "outputs": [
    {
     "data": {
      "text/plain": [
       "815"
      ]
     },
     "execution_count": 31,
     "metadata": {},
     "output_type": "execute_result"
    }
   ],
   "source": [
    "len(all_hashtags)"
   ]
  },
  {
   "cell_type": "code",
   "execution_count": 32,
   "metadata": {},
   "outputs": [
    {
     "data": {
      "text/plain": [
       "['#fail', '#collapse', '#recession', '#gop', '#greed']"
      ]
     },
     "execution_count": 32,
     "metadata": {},
     "output_type": "execute_result"
    }
   ],
   "source": [
    "all_hashtags[:5]"
   ]
  },
  {
   "cell_type": "markdown",
   "metadata": {},
   "source": [
    "#### Using a counter to get the top hashtags"
   ]
  },
  {
   "cell_type": "code",
   "execution_count": 33,
   "metadata": {},
   "outputs": [],
   "source": [
    "from collections import Counter"
   ]
  },
  {
   "cell_type": "code",
   "execution_count": 34,
   "metadata": {},
   "outputs": [],
   "source": [
    "counts_hashtags = Counter(all_hashtags)"
   ]
  },
  {
   "cell_type": "code",
   "execution_count": 35,
   "metadata": {
    "scrolled": true
   },
   "outputs": [
    {
     "data": {
      "text/plain": [
       "[('#recession', 24),\n",
       " ('#india', 20),\n",
       " ('#business', 18),\n",
       " ('#hongkong', 17),\n",
       " ('#bloomberg', 15),\n",
       " ('#china', 12),\n",
       " ('#trump', 10),\n",
       " ('#markets', 9),\n",
       " ('#economics', 9),\n",
       " ('#infrastructure', 9)]"
      ]
     },
     "execution_count": 35,
     "metadata": {},
     "output_type": "execute_result"
    }
   ],
   "source": [
    "counts_hashtags.most_common(10)"
   ]
  },
  {
   "cell_type": "markdown",
   "metadata": {},
   "source": [
    "#### Plotting the top 10 hashtags"
   ]
  },
  {
   "cell_type": "code",
   "execution_count": 36,
   "metadata": {},
   "outputs": [],
   "source": [
    "import matplotlib.pyplot as plt"
   ]
  },
  {
   "cell_type": "code",
   "execution_count": 37,
   "metadata": {},
   "outputs": [],
   "source": [
    "res = counts_hashtags.most_common(10)"
   ]
  },
  {
   "cell_type": "code",
   "execution_count": 38,
   "metadata": {},
   "outputs": [],
   "source": [
    "res2 = {term:cnt for term, cnt in res}"
   ]
  },
  {
   "cell_type": "code",
   "execution_count": 39,
   "metadata": {},
   "outputs": [
    {
     "data": {
      "text/plain": [
       "['#recession',\n",
       " '#india',\n",
       " '#business',\n",
       " '#hongkong',\n",
       " '#bloomberg',\n",
       " '#china',\n",
       " '#trump',\n",
       " '#markets',\n",
       " '#economics',\n",
       " '#infrastructure']"
      ]
     },
     "execution_count": 39,
     "metadata": {},
     "output_type": "execute_result"
    }
   ],
   "source": [
    "list(res2.keys())"
   ]
  },
  {
   "cell_type": "code",
   "execution_count": 40,
   "metadata": {},
   "outputs": [
    {
     "data": {
      "text/plain": [
       "[24, 20, 18, 17, 15, 12, 10, 9, 9, 9]"
      ]
     },
     "execution_count": 40,
     "metadata": {},
     "output_type": "execute_result"
    }
   ],
   "source": [
    "list(res2.values())"
   ]
  },
  {
   "cell_type": "code",
   "execution_count": 41,
   "metadata": {},
   "outputs": [
    {
     "data": {
      "image/png": "[encoded data removed]",
      "text/plain": [
       "<Figure size 432x288 with 1 Axes>"
      ]
     },
     "metadata": {
      "needs_background": "light"
     },
     "output_type": "display_data"
    }
   ],
   "source": [
    "plt.barh(list(res2.keys()), list(res2.values()), color=\"teal\")\n",
    "plt.show()"
   ]
  }
 ],
 "metadata": {
  "kernelspec": {
   "display_name": "Python 3",
   "language": "python",
   "name": "python3"
  },
  "language_info": {
   "codemirror_mode": {
    "name": "ipython",
    "version": 3
   },
   "file_extension": ".py",
   "mimetype": "text/x-python",
   "name": "python",
   "nbconvert_exporter": "python",
   "pygments_lexer": "ipython3",
   "version": "3.7.6"
  }
 },
 "nbformat": 4,
 "nbformat_minor": 4
}
