{
 "cells": [
  {
   "cell_type": "markdown",
   "metadata": {},
   "source": [
    "# PG AI - Natural Language Processing and Speech Recognition\n",
    "# Implement Text Processing Using Stemming and Regular Expression after Noise Removal and Convert It into List of Phrases\n",
    "\n",
    "DESCRIPTION\n",
    "\n",
    "In this practice, we will show you how to implement text processing using stemming and regular expression after noise removal and convert it into a list of phrases using NLP.<br>     \n",
    "The goal of both stemming and regular expression is to reduce inflectional forms and sometimes, derivationally related forms of a word to a common base form. So, we will use stemming and regular expression as one of the important features of NLTK.<br>\n",
    "The Natural Language Toolkit, or NLTK for short, is a Python library written for modeling text and working model.<br>\n",
    "It provides good tools for loading and cleaning the text, that we can use to get our data ready for working with machine learning and deep learning algorithms<br>\n",
    "\n",
    "Steps to be followed:\n",
    "1. Import NLTK\n",
    "2. Split into Sentences\n",
    "3. Split into Words\n",
    "4. Filter Out Punctuation\n",
    "5. Filter out Stop Words (and Pipeline)\n",
    "6. Stem Words\n",
    "\n",
    "By Edson Teixeira<br>\n",
    "teixeiraedson252@gmail.com <br>\n",
    "December 29th 2021"
   ]
  },
  {
   "cell_type": "code",
   "execution_count": 1,
   "metadata": {},
   "outputs": [],
   "source": [
    "#  Step 1: Import NLTK \n",
    "import nltk"
   ]
  },
  {
   "cell_type": "code",
   "execution_count": 2,
   "metadata": {},
   "outputs": [
    {
     "name": "stdout",
     "output_type": "stream",
     "text": [
      "﻿This is financial Report of 2019-2020\n",
      "\n",
      "\n",
      "\n",
      "The share of large borrowers in Indian banks’ total loan portfolios stood at 53% as on March 2019\n",
      "\n",
      "The gross non-performing assets (NPAs) as a percentage of total loans stood at 9.3% as on March 2019\n",
      "\n",
      "Mumbai: Indian banks continue to see an improvement in asset quality with bad loans as a percentage of total loans expected to fall to 9% by March 2020, according to the Financial Stability Report released by the Reserve Bank of India (RBI) on Thursday.\n"
     ]
    }
   ],
   "source": [
    "# Step 2: Split into Sentences\n",
    "# Load data\n",
    "filename ='FP.txt'\n",
    "file = open(filename, 'rt')\n",
    "text = file.read()\n",
    "file.close()\n",
    "\n",
    "# Split into Sentences\n",
    "from nltk import sent_tokenize\n",
    "sentences = sent_tokenize(text)\n",
    "print(sentences[0])"
   ]
  },
  {
   "cell_type": "code",
   "execution_count": 3,
   "metadata": {},
   "outputs": [
    {
     "name": "stdout",
     "output_type": "stream",
     "text": [
      "['\\ufeffThis', 'is', 'financial', 'Report', 'of', '2019-2020', 'The', 'share', 'of', 'large', 'borrowers', 'in', 'Indian', 'banks', '’', 'total', 'loan', 'portfolios', 'stood', 'at', '53', '%', 'as', 'on', 'March', '2019', 'The', 'gross', 'non-performing', 'assets', '(', 'NPAs', ')', 'as', 'a', 'percentage', 'of', 'total', 'loans', 'stood', 'at', '9.3', '%', 'as', 'on', 'March', '2019', 'Mumbai', ':', 'Indian', 'banks', 'continue', 'to', 'see', 'an', 'improvement', 'in', 'asset', 'quality', 'with', 'bad', 'loans', 'as', 'a', 'percentage', 'of', 'total', 'loans', 'expected', 'to', 'fall', 'to', '9', '%', 'by', 'March', '2020', ',', 'according', 'to', 'the', 'Financial', 'Stability', 'Report', 'released', 'by', 'the', 'Reserve', 'Bank', 'of', 'India', '(', 'RBI', ')', 'on', 'Thursday', '.', 'The', 'gross', 'non-performing']\n"
     ]
    }
   ],
   "source": [
    "# Step 3: Split into Words\n",
    "from nltk.tokenize import word_tokenize\n",
    "tokens = word_tokenize(text)\n",
    "print(tokens[:100])"
   ]
  },
  {
   "cell_type": "code",
   "execution_count": 4,
   "metadata": {},
   "outputs": [
    {
     "name": "stdout",
     "output_type": "stream",
     "text": [
      "['is', 'financial', 'Report', 'of', 'The', 'share', 'of', 'large', 'borrowers', 'in', 'Indian', 'banks', 'total', 'loan', 'portfolios', 'stood', 'at', 'as', 'on', 'March', 'The', 'gross', 'assets', 'NPAs', 'as', 'a', 'percentage', 'of', 'total', 'loans', 'stood', 'at', 'as', 'on', 'March', 'Mumbai', 'Indian', 'banks', 'continue', 'to', 'see', 'an', 'improvement', 'in', 'asset', 'quality', 'with', 'bad', 'loans', 'as', 'a', 'percentage', 'of', 'total', 'loans', 'expected', 'to', 'fall', 'to', 'by', 'March', 'according', 'to', 'the', 'Financial', 'Stability', 'Report', 'released', 'by', 'the', 'Reserve', 'Bank', 'of', 'India', 'RBI', 'on', 'Thursday', 'The', 'gross', 'assets', 'NPAs', 'as', 'a', 'percentage', 'of', 'total', 'loans', 'stood', 'at', 'as', 'on', 'March', 'According', 'to', 'the', 'report', 'stress', 'tests', 'done', 'on']\n"
     ]
    }
   ],
   "source": [
    "# Step 4: Filter Out Punctuation\n",
    "# Remove all tokens that are not alphabetic\n",
    "words = [word for word in tokens if word.isalpha()]\n",
    "print(words[:100])"
   ]
  },
  {
   "cell_type": "code",
   "execution_count": 5,
   "metadata": {},
   "outputs": [
    {
     "name": "stdout",
     "output_type": "stream",
     "text": [
      "['i', 'me', 'my', 'myself', 'we', 'our', 'ours', 'ourselves', 'you', \"you're\", \"you've\", \"you'll\", \"you'd\", 'your', 'yours', 'yourself', 'yourselves', 'he', 'him', 'his', 'himself', 'she', \"she's\", 'her', 'hers', 'herself', 'it', \"it's\", 'its', 'itself', 'they', 'them', 'their', 'theirs', 'themselves', 'what', 'which', 'who', 'whom', 'this', 'that', \"that'll\", 'these', 'those', 'am', 'is', 'are', 'was', 'were', 'be', 'been', 'being', 'have', 'has', 'had', 'having', 'do', 'does', 'did', 'doing', 'a', 'an', 'the', 'and', 'but', 'if', 'or', 'because', 'as', 'until', 'while', 'of', 'at', 'by', 'for', 'with', 'about', 'against', 'between', 'into', 'through', 'during', 'before', 'after', 'above', 'below', 'to', 'from', 'up', 'down', 'in', 'out', 'on', 'off', 'over', 'under', 'again', 'further', 'then', 'once', 'here', 'there', 'when', 'where', 'why', 'how', 'all', 'any', 'both', 'each', 'few', 'more', 'most', 'other', 'some', 'such', 'no', 'nor', 'not', 'only', 'own', 'same', 'so', 'than', 'too', 'very', 's', 't', 'can', 'will', 'just', 'don', \"don't\", 'should', \"should've\", 'now', 'd', 'll', 'm', 'o', 're', 've', 'y', 'ain', 'aren', \"aren't\", 'couldn', \"couldn't\", 'didn', \"didn't\", 'doesn', \"doesn't\", 'hadn', \"hadn't\", 'hasn', \"hasn't\", 'haven', \"haven't\", 'isn', \"isn't\", 'ma', 'mightn', \"mightn't\", 'mustn', \"mustn't\", 'needn', \"needn't\", 'shan', \"shan't\", 'shouldn', \"shouldn't\", 'wasn', \"wasn't\", 'weren', \"weren't\", 'won', \"won't\", 'wouldn', \"wouldn't\"]\n"
     ]
    }
   ],
   "source": [
    "# Step 5: Filter out Stop Words (and Pipeline)\n",
    "from nltk.corpus import stopwords\n",
    "stop_words = stopwords.words('english')\n",
    "print(stop_words)"
   ]
  },
  {
   "cell_type": "code",
   "execution_count": 6,
   "metadata": {},
   "outputs": [
    {
     "name": "stdout",
     "output_type": "stream",
     "text": [
      "['\\ufeffthi', 'is', 'financi', 'report', 'of', '2019-2020', 'the', 'share', 'of', 'larg', 'borrow', 'in', 'indian', 'bank', '’', 'total', 'loan', 'portfolio', 'stood', 'at', '53', '%', 'as', 'on', 'march', '2019', 'the', 'gross', 'non-perform', 'asset', '(', 'npa', ')', 'as', 'a', 'percentag', 'of', 'total', 'loan', 'stood', 'at', '9.3', '%', 'as', 'on', 'march', '2019', 'mumbai', ':', 'indian', 'bank', 'continu', 'to', 'see', 'an', 'improv', 'in', 'asset', 'qualiti', 'with', 'bad', 'loan', 'as', 'a', 'percentag', 'of', 'total', 'loan', 'expect', 'to', 'fall', 'to', '9', '%', 'by', 'march', '2020', ',', 'accord', 'to', 'the', 'financi', 'stabil', 'report', 'releas', 'by', 'the', 'reserv', 'bank', 'of', 'india', '(', 'rbi', ')', 'on', 'thursday', '.', 'the', 'gross', 'non-perform']\n"
     ]
    }
   ],
   "source": [
    "# Step 6: Stem Words\n",
    "from nltk.stem.porter import PorterStemmer\n",
    "porter = PorterStemmer()\n",
    "stemmed = [porter.stem(word) for word in tokens]\n",
    "print(stemmed[:100])"
   ]
  }
 ],
 "metadata": {
  "kernelspec": {
   "display_name": "Python 3",
   "language": "python",
   "name": "python3"
  },
  "language_info": {
   "codemirror_mode": {
    "name": "ipython",
    "version": 3
   },
   "file_extension": ".py",
   "mimetype": "text/x-python",
   "name": "python",
   "nbconvert_exporter": "python",
   "pygments_lexer": "ipython3",
   "version": "3.7.6"
  }
 },
 "nbformat": 4,
 "nbformat_minor": 4
}
