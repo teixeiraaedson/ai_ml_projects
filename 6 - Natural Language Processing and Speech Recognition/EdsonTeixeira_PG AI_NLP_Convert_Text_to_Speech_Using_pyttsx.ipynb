{
 "cells": [
  {
   "cell_type": "markdown",
   "metadata": {},
   "source": [
    "# PG AI - Natural Language Processing and Speech Recognition\n",
    "# Project: Convert Text to Speech Using pyttsx\n",
    "\n",
    "#### DESCRIPTION\n",
    "You work in a content marketing business and convert the script to voice for video content using a cloud-based converter. Due to unavoidable reasons, the internet is not working. There is a lot of demand from the clients for the delivery to be made in time. You have to use a python library that works offline to convert text to speech.\n",
    "\n",
    "#### Objective: \n",
    "Convert text file and a line of text to speech using pyttsx python module.\n",
    "\n",
    "By Edson Teixeira<br>\n",
    "teixeiraedson252@gmail.com <br>\n",
    "December 29th 2021"
   ]
  },
  {
   "cell_type": "code",
   "execution_count": 1,
   "metadata": {},
   "outputs": [],
   "source": [
    "# Import the required module for text   \n",
    "# to speech conversion \n",
    "import pyttsx3 "
   ]
  },
  {
   "cell_type": "code",
   "execution_count": 2,
   "metadata": {},
   "outputs": [],
   "source": [
    "# init function to get an engine instance for the speech synthesis  \n",
    "engine = pyttsx3.init() "
   ]
  },
  {
   "cell_type": "code",
   "execution_count": 3,
   "metadata": {},
   "outputs": [],
   "source": [
    "# say method on the engine that passing input text to be spoken \n",
    "engine.say('Converting text to speech using p y t t s x') "
   ]
  },
  {
   "cell_type": "code",
   "execution_count": 4,
   "metadata": {},
   "outputs": [],
   "source": [
    "# run and wait method, it processes the voice commands.  \n",
    "engine.runAndWait() "
   ]
  }
 ],
 "metadata": {
  "kernelspec": {
   "display_name": "Python 3 (ipykernel)",
   "language": "python",
   "name": "python3"
  },
  "language_info": {
   "codemirror_mode": {
    "name": "ipython",
    "version": 3
   },
   "file_extension": ".py",
   "mimetype": "text/x-python",
   "name": "python",
   "nbconvert_exporter": "python",
   "pygments_lexer": "ipython3",
   "version": "3.9.7"
  }
 },
 "nbformat": 4,
 "nbformat_minor": 2
}
