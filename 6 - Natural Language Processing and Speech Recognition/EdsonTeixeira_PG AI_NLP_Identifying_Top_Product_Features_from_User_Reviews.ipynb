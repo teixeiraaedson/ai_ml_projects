{
 "cells": [
  {
   "cell_type": "markdown",
   "metadata": {},
   "source": [
    "# PG AI - Natural Language Processing and Speech Recognition\n",
    "# Project: Identifying Top Product Features from User Reviews\n",
    "\n",
    "DESCRIPTION\n",
    "\n",
    "Analyze the reviews of a product on Amazon to identify the features of the product that customers are talking about the most. Use POS tagging and extracting the right parts of speech to analyze.\n",
    "\n",
    "#### Problem Statement: \n",
    "\n",
    "Amazon Tap is a product made by Amazon. It is a portable Bluetooth and Wi-Fi-enabled speaker that gives you rich, full-range sound. Customers can use Alexa Voice Service that performs the role of a virtual assistant.<br>\n",
    "Amazon is planning to launch a new version of Tap but, need to understand what features of the products are important for the customers. Amazon wants to analyze the reviews gathered on the product so far, to assess which of the product’s features are most talked about  by the customers.<br>\n",
    "\n",
    "#### Domain: Amazon reviews\n",
    "\n",
    "#### Analysis to be done: Identification and plotting of the top product features mentioned in the reviews. \n",
    "\n",
    "#### Content: \n",
    "\n",
    "Dataset: ‘Tap Reviews.csv’\n",
    "Columns:\n",
    "asins: Amazon identifier for the product\n",
    "name: The name of the product\n",
    "reviews.numHelpful: number of votes saying this review was helpful\n",
    "reviews.rating: The rating for the product given in the review\n",
    "reviews.text: The main text of the review\n",
    "reviews.title: The title of the review \n",
    "\n",
    "#### Steps to perform:\n",
    "\n",
    "The product features are the keywords in the sentence. These keywords occur as nouns in the reviews. The reviews have to be broken into sentences, then words, then POS tagged, and then the target POS tags need to be analyzed. The top 15 features need to be plotted for a business presentation. You’ll also need to perform extensive cleanup.<br>\n",
    "\n",
    "#### Tasks:\n",
    "\n",
    "1. Using Pandas, read in the .csv file. Take a look at the top few reviews.\n",
    "2. The table has many columns. We’re interested in ‘review.text’. Get the review text into a list, for easy text cleanup and manipulation.\n",
    "3. We can see that each review has multiple sentences.  For any parts of speech tagger to work effectively, we need to separate the sentences.\n",
    "    1. Use sent_tokenize to separate the sentences.\n",
    "    2. Then, use word_tokenize to tokenize each resulting sentence into constituent words. Create a new list that contains all the tokenized sentences.\n",
    "4. Perform parts-of-speech tagging on each sentence using the NLTK POS tagger.\n",
    "5. We have tagged all the sentences. We are interested in the keywords which are typically nouns. Extract all the nouns from all the sentences into one large list.\n",
    "    1. The POS tags you need to get are NN, NNP, NNS, and NNPS.\n",
    "6. Perform cleanup on the data: \n",
    "    1. Normalize the casings \n",
    "    2. Remove regular stop words and punctuation\n",
    "    3. Remove contextual stop words\n",
    "7. Use counter to get the top 15 keywords from the reviews.\n",
    "9. Plot the top 15 on a horizontal bar chart.\n",
    "\n",
    "By Edson Teixeira<br>\n",
    "teixeiraedson252@gmail.com <br>\n",
    "December 30th 2021"
   ]
  },
  {
   "cell_type": "code",
   "execution_count": 1,
   "metadata": {},
   "outputs": [],
   "source": [
    "import numpy as np, pandas as pd\n",
    "import re, random, os\n",
    "\n",
    "import nltk\n",
    "from nltk.tokenize import word_tokenize, sent_tokenize"
   ]
  },
  {
   "cell_type": "markdown",
   "metadata": {},
   "source": [
    "### Reading in the reviews data file"
   ]
  },
  {
   "cell_type": "code",
   "execution_count": 2,
   "metadata": {},
   "outputs": [
    {
     "data": {
      "text/html": [
       "<div>\n",
       "<style scoped>\n",
       "    .dataframe tbody tr th:only-of-type {\n",
       "        vertical-align: middle;\n",
       "    }\n",
       "\n",
       "    .dataframe tbody tr th {\n",
       "        vertical-align: top;\n",
       "    }\n",
       "\n",
       "    .dataframe thead th {\n",
       "        text-align: right;\n",
       "    }\n",
       "</style>\n",
       "<table border=\"1\" class=\"dataframe\">\n",
       "  <thead>\n",
       "    <tr style=\"text-align: right;\">\n",
       "      <th></th>\n",
       "      <th>asins</th>\n",
       "      <th>name</th>\n",
       "      <th>reviews.numHelpful</th>\n",
       "      <th>reviews.rating</th>\n",
       "      <th>reviews.text</th>\n",
       "      <th>reviews.title</th>\n",
       "    </tr>\n",
       "  </thead>\n",
       "  <tbody>\n",
       "    <tr>\n",
       "      <th>0</th>\n",
       "      <td>B01BH83OOM</td>\n",
       "      <td>Amazon Tap - Alexa-Enabled Portable Bluetooth ...</td>\n",
       "      <td>806</td>\n",
       "      <td>5</td>\n",
       "      <td>IMPORTANT UPDATE (3/8/17): As you read my orig...</td>\n",
       "      <td>The Echo's Little Sister Is AMAZING!! 3,</td>\n",
       "    </tr>\n",
       "    <tr>\n",
       "      <th>1</th>\n",
       "      <td>B01BH83OOM</td>\n",
       "      <td>Amazon Tap - Alexa-Enabled Portable Bluetooth ...</td>\n",
       "      <td>426</td>\n",
       "      <td>5</td>\n",
       "      <td>It was just a few weeks ago that I was bemoani...</td>\n",
       "      <td>Tap Alexa on the go!</td>\n",
       "    </tr>\n",
       "    <tr>\n",
       "      <th>2</th>\n",
       "      <td>B01BH83OOM</td>\n",
       "      <td>Amazon Tap - Alexa-Enabled Portable Bluetooth ...</td>\n",
       "      <td>295</td>\n",
       "      <td>5</td>\n",
       "      <td>The Amazon Tap is a portable Bluetooth speaker...</td>\n",
       "      <td>Amazon Tap Review - Best Bluetooth Speaker in ...</td>\n",
       "    </tr>\n",
       "    <tr>\n",
       "      <th>3</th>\n",
       "      <td>B01BH83OOM</td>\n",
       "      <td>Amazon Tap - Alexa-Enabled Portable Bluetooth ...</td>\n",
       "      <td>0</td>\n",
       "      <td>5</td>\n",
       "      <td>Look at this product as a portable speaker fir...</td>\n",
       "      <td>Great for what it does</td>\n",
       "    </tr>\n",
       "    <tr>\n",
       "      <th>4</th>\n",
       "      <td>B01BH83OOM</td>\n",
       "      <td>Amazon Tap - Alexa-Enabled Portable Bluetooth ...</td>\n",
       "      <td>3</td>\n",
       "      <td>5</td>\n",
       "      <td>This Amazon tap is not only a great Bluetooth ...</td>\n",
       "      <td>Awesome, smart little portable speaker</td>\n",
       "    </tr>\n",
       "  </tbody>\n",
       "</table>\n",
       "</div>"
      ],
      "text/plain": [
       "        asins                                               name  \\\n",
       "0  B01BH83OOM  Amazon Tap - Alexa-Enabled Portable Bluetooth ...   \n",
       "1  B01BH83OOM  Amazon Tap - Alexa-Enabled Portable Bluetooth ...   \n",
       "2  B01BH83OOM  Amazon Tap - Alexa-Enabled Portable Bluetooth ...   \n",
       "3  B01BH83OOM  Amazon Tap - Alexa-Enabled Portable Bluetooth ...   \n",
       "4  B01BH83OOM  Amazon Tap - Alexa-Enabled Portable Bluetooth ...   \n",
       "\n",
       "   reviews.numHelpful  reviews.rating  \\\n",
       "0                 806               5   \n",
       "1                 426               5   \n",
       "2                 295               5   \n",
       "3                   0               5   \n",
       "4                   3               5   \n",
       "\n",
       "                                        reviews.text  \\\n",
       "0  IMPORTANT UPDATE (3/8/17): As you read my orig...   \n",
       "1  It was just a few weeks ago that I was bemoani...   \n",
       "2  The Amazon Tap is a portable Bluetooth speaker...   \n",
       "3  Look at this product as a portable speaker fir...   \n",
       "4  This Amazon tap is not only a great Bluetooth ...   \n",
       "\n",
       "                                       reviews.title  \n",
       "0           The Echo's Little Sister Is AMAZING!! 3,  \n",
       "1                               Tap Alexa on the go!  \n",
       "2  Amazon Tap Review - Best Bluetooth Speaker in ...  \n",
       "3                             Great for what it does  \n",
       "4             Awesome, smart little portable speaker  "
      ]
     },
     "execution_count": 2,
     "metadata": {},
     "output_type": "execute_result"
    }
   ],
   "source": [
    "inp0 = pd.read_csv('Tap Reviews.csv')\n",
    "inp0.head()"
   ]
  },
  {
   "cell_type": "code",
   "execution_count": 3,
   "metadata": {},
   "outputs": [
    {
     "data": {
      "text/plain": [
       "Index(['asins', 'name', 'reviews.numHelpful', 'reviews.rating', 'reviews.text',\n",
       "       'reviews.title'],\n",
       "      dtype='object')"
      ]
     },
     "execution_count": 3,
     "metadata": {},
     "output_type": "execute_result"
    }
   ],
   "source": [
    "inp0.columns"
   ]
  },
  {
   "cell_type": "markdown",
   "metadata": {},
   "source": [
    "#### This has a lot of extra columns - we are concerned only with the field reviews.text.  \n",
    "#### Store the review text into a list for easy manipulation."
   ]
  },
  {
   "cell_type": "code",
   "execution_count": 4,
   "metadata": {},
   "outputs": [],
   "source": [
    "reviews0 = inp0['reviews.text'].values"
   ]
  },
  {
   "cell_type": "code",
   "execution_count": 5,
   "metadata": {},
   "outputs": [
    {
     "data": {
      "text/plain": [
       "542"
      ]
     },
     "execution_count": 5,
     "metadata": {},
     "output_type": "execute_result"
    }
   ],
   "source": [
    "len(reviews0)"
   ]
  },
  {
   "cell_type": "code",
   "execution_count": 6,
   "metadata": {},
   "outputs": [
    {
     "data": {
      "text/plain": [
       "numpy.ndarray"
      ]
     },
     "execution_count": 6,
     "metadata": {},
     "output_type": "execute_result"
    }
   ],
   "source": [
    "type(reviews0)"
   ]
  },
  {
   "cell_type": "code",
   "execution_count": 7,
   "metadata": {
    "scrolled": true
   },
   "outputs": [
    {
     "data": {
      "text/plain": [
       "'Look at this product as a portable speaker first and an Echo replacement second. The big reason to buy this over standard Bluetooth speakers is this has WiFi streaming enabled. When you are at home you can stream music with ease to it. Voice recognition is top notch and it really shines when using it with other smart home accessories. The only problem is having to tap the microphone button for it to listen to your voice. If you want bigger sound and always listening features, spend the extra money on the Amazon Echo.'"
      ]
     },
     "execution_count": 7,
     "metadata": {},
     "output_type": "execute_result"
    }
   ],
   "source": [
    "reviews0[3]"
   ]
  },
  {
   "cell_type": "markdown",
   "metadata": {},
   "source": [
    "#### We can see that each review has multiple sentences.  \n",
    "#### For any Part of Speech tagger to work effectively, we need to separate the sentences.\n",
    "- We'll need to use sent_tokenize to separate the sentences, then use word_tokenize to tokenize each resulting sentence into constituent words\n",
    "- Let's first do this for a single sentence, and then make a function"
   ]
  },
  {
   "cell_type": "code",
   "execution_count": 8,
   "metadata": {},
   "outputs": [],
   "source": [
    "from nltk.tokenize import word_tokenize, sent_tokenize"
   ]
  },
  {
   "cell_type": "code",
   "execution_count": 9,
   "metadata": {},
   "outputs": [
    {
     "data": {
      "text/plain": [
       "['Look at this product as a portable speaker first and an Echo replacement second.',\n",
       " 'The big reason to buy this over standard Bluetooth speakers is this has WiFi streaming enabled.',\n",
       " 'When you are at home you can stream music with ease to it.',\n",
       " 'Voice recognition is top notch and it really shines when using it with other smart home accessories.',\n",
       " 'The only problem is having to tap the microphone button for it to listen to your voice.',\n",
       " 'If you want bigger sound and always listening features, spend the extra money on the Amazon Echo.']"
      ]
     },
     "execution_count": 9,
     "metadata": {},
     "output_type": "execute_result"
    }
   ],
   "source": [
    "sent_tokenize(reviews0[3])"
   ]
  },
  {
   "cell_type": "markdown",
   "metadata": {},
   "source": [
    "Doing this for all the reviews"
   ]
  },
  {
   "cell_type": "code",
   "execution_count": 10,
   "metadata": {},
   "outputs": [],
   "source": [
    "review_sents = [sent_tokenize(sent) for sent in reviews0]"
   ]
  },
  {
   "cell_type": "code",
   "execution_count": 11,
   "metadata": {},
   "outputs": [
    {
     "data": {
      "text/plain": [
       "542"
      ]
     },
     "execution_count": 11,
     "metadata": {},
     "output_type": "execute_result"
    }
   ],
   "source": [
    "len(review_sents)"
   ]
  },
  {
   "cell_type": "code",
   "execution_count": 12,
   "metadata": {},
   "outputs": [
    {
     "data": {
      "text/plain": [
       "['Look at this product as a portable speaker first and an Echo replacement second.',\n",
       " 'The big reason to buy this over standard Bluetooth speakers is this has WiFi streaming enabled.',\n",
       " 'When you are at home you can stream music with ease to it.',\n",
       " 'Voice recognition is top notch and it really shines when using it with other smart home accessories.',\n",
       " 'The only problem is having to tap the microphone button for it to listen to your voice.',\n",
       " 'If you want bigger sound and always listening features, spend the extra money on the Amazon Echo.']"
      ]
     },
     "execution_count": 12,
     "metadata": {},
     "output_type": "execute_result"
    }
   ],
   "source": [
    "review_sents[3]"
   ]
  },
  {
   "cell_type": "markdown",
   "metadata": {},
   "source": [
    "##### Each sentence has been broken into constituent sentences. We need to further break into individual words."
   ]
  },
  {
   "cell_type": "markdown",
   "metadata": {},
   "source": [
    "For a single sentence - "
   ]
  },
  {
   "cell_type": "code",
   "execution_count": 13,
   "metadata": {},
   "outputs": [
    {
     "data": {
      "text/plain": [
       "['The',\n",
       " 'Amazon',\n",
       " 'Tap',\n",
       " 'is',\n",
       " 'a',\n",
       " 'portable',\n",
       " 'Bluetooth',\n",
       " 'speaker',\n",
       " 'that',\n",
       " 'can',\n",
       " 'be',\n",
       " 'controlled',\n",
       " 'with',\n",
       " 'your',\n",
       " 'voice',\n",
       " '.']"
      ]
     },
     "execution_count": 13,
     "metadata": {},
     "output_type": "execute_result"
    }
   ],
   "source": [
    "word_tokenize(review_sents[2][0])"
   ]
  },
  {
   "cell_type": "markdown",
   "metadata": {},
   "source": [
    "#### Let's create a new list that contains all the tokenized sentences"
   ]
  },
  {
   "cell_type": "code",
   "execution_count": 14,
   "metadata": {},
   "outputs": [],
   "source": [
    "# Creating an empty list\n",
    "reviews_tokens = []"
   ]
  },
  {
   "cell_type": "code",
   "execution_count": 15,
   "metadata": {},
   "outputs": [],
   "source": [
    "for review in review_sents:\n",
    "    for sent in review:\n",
    "        reviews_tokens.append(word_tokenize(sent))"
   ]
  },
  {
   "cell_type": "code",
   "execution_count": 16,
   "metadata": {},
   "outputs": [
    {
     "data": {
      "text/plain": [
       "1627"
      ]
     },
     "execution_count": 16,
     "metadata": {},
     "output_type": "execute_result"
    }
   ],
   "source": [
    "len(reviews_tokens)"
   ]
  },
  {
   "cell_type": "markdown",
   "metadata": {},
   "source": [
    "We have 1627 sentences in the list, each is a list of tokens."
   ]
  },
  {
   "cell_type": "markdown",
   "metadata": {},
   "source": [
    "#### We have one large list with all the sentences separate.\n",
    "\n",
    "### We now need to perform POS tagging for each sentence"
   ]
  },
  {
   "cell_type": "code",
   "execution_count": 17,
   "metadata": {},
   "outputs": [
    {
     "data": {
      "text/plain": [
       "[('This', 'DT'),\n",
       " ('is', 'VBZ'),\n",
       " ('a', 'DT'),\n",
       " ('fabulous', 'JJ'),\n",
       " ('development', 'NN'),\n",
       " ('and', 'CC'),\n",
       " ('something', 'NN'),\n",
       " ('Tap', 'NNP'),\n",
       " ('owners', 'NNS'),\n",
       " ('have', 'VBP'),\n",
       " ('been', 'VBN'),\n",
       " ('hoping', 'VBG'),\n",
       " ('for', 'IN'),\n",
       " ('.', '.')]"
      ]
     },
     "execution_count": 17,
     "metadata": {},
     "output_type": "execute_result"
    }
   ],
   "source": [
    "nltk.pos_tag(reviews_tokens[2])"
   ]
  },
  {
   "cell_type": "code",
   "execution_count": 18,
   "metadata": {},
   "outputs": [],
   "source": [
    "# Empty list for POS tagged sentences\n",
    "reviews_pos = []"
   ]
  },
  {
   "cell_type": "code",
   "execution_count": 19,
   "metadata": {},
   "outputs": [],
   "source": [
    "for sent in reviews_tokens:\n",
    "    reviews_pos.append(nltk.pos_tag(sent))"
   ]
  },
  {
   "cell_type": "code",
   "execution_count": 20,
   "metadata": {},
   "outputs": [
    {
     "data": {
      "text/plain": [
       "1627"
      ]
     },
     "execution_count": 20,
     "metadata": {},
     "output_type": "execute_result"
    }
   ],
   "source": [
    "len(reviews_pos)"
   ]
  },
  {
   "cell_type": "code",
   "execution_count": 21,
   "metadata": {},
   "outputs": [
    {
     "data": {
      "text/plain": [
       "[('This', 'DT'),\n",
       " ('is', 'VBZ'),\n",
       " ('a', 'DT'),\n",
       " ('fabulous', 'JJ'),\n",
       " ('development', 'NN'),\n",
       " ('and', 'CC'),\n",
       " ('something', 'NN'),\n",
       " ('Tap', 'NNP'),\n",
       " ('owners', 'NNS'),\n",
       " ('have', 'VBP'),\n",
       " ('been', 'VBN'),\n",
       " ('hoping', 'VBG'),\n",
       " ('for', 'IN'),\n",
       " ('.', '.')]"
      ]
     },
     "execution_count": 21,
     "metadata": {},
     "output_type": "execute_result"
    }
   ],
   "source": [
    "reviews_pos[2]"
   ]
  },
  {
   "cell_type": "markdown",
   "metadata": {},
   "source": [
    "##### Cool, all the sentences from all the reviews have been POS tagged.\n",
    "\n",
    "### We are interested in the Nouns."
   ]
  },
  {
   "cell_type": "markdown",
   "metadata": {},
   "source": [
    "Extracting noun for a single tagged sentence.\n",
    " - All noun POS tags begin with NN"
   ]
  },
  {
   "cell_type": "code",
   "execution_count": 22,
   "metadata": {},
   "outputs": [
    {
     "data": {
      "text/plain": [
       "['tap',\n",
       " 'mode',\n",
       " 'Alexa',\n",
       " 'app',\n",
       " 'Tap',\n",
       " 'battery',\n",
       " 'life',\n",
       " 'convenience.',\n",
       " 'Amazon',\n",
       " 'Echo',\n",
       " 'device']"
      ]
     },
     "execution_count": 22,
     "metadata": {},
     "output_type": "execute_result"
    }
   ],
   "source": [
    "[term for term, pos in reviews_pos[5] if pos.startswith(\"NN\")]"
   ]
  },
  {
   "cell_type": "markdown",
   "metadata": {},
   "source": [
    "##### We want to make a big list of all the nouns. We'll then count their occurrence to see which of these are most important."
   ]
  },
  {
   "cell_type": "code",
   "execution_count": 23,
   "metadata": {},
   "outputs": [
    {
     "data": {
      "text/plain": [
       "[('But', 'CC'),\n",
       " ('since', 'IN'),\n",
       " ('you', 'PRP'),\n",
       " ('can', 'MD'),\n",
       " ('easily', 'RB'),\n",
       " ('toggle', 'VB'),\n",
       " ('between', 'IN'),\n",
       " ('hands-free', 'JJ'),\n",
       " ('or', 'CC'),\n",
       " ('regular', 'JJ'),\n",
       " ('tap', 'NN'),\n",
       " ('mode', 'NN'),\n",
       " ('using', 'VBG'),\n",
       " ('the', 'DT'),\n",
       " ('Alexa', 'NNP'),\n",
       " ('app', 'NN'),\n",
       " (',', ','),\n",
       " ('you', 'PRP'),\n",
       " ('can', 'MD'),\n",
       " ('pick', 'VB'),\n",
       " ('and', 'CC'),\n",
       " ('choose', 'VB'),\n",
       " ('how', 'WRB'),\n",
       " ('you', 'PRP'),\n",
       " ('want', 'VBP'),\n",
       " ('to', 'TO'),\n",
       " ('use', 'VB'),\n",
       " ('your', 'PRP$'),\n",
       " ('Tap', 'NNP'),\n",
       " ('for', 'IN'),\n",
       " ('maximum', 'JJ'),\n",
       " ('battery', 'NN'),\n",
       " ('life', 'NN'),\n",
       " ('and', 'CC'),\n",
       " ('convenience.', 'NN'),\n",
       " ('--', ':'),\n",
       " ('--', ':'),\n",
       " ('--', ':'),\n",
       " ('--', ':'),\n",
       " ('--', ':'),\n",
       " ('--', ':'),\n",
       " ('--', ':'),\n",
       " ('--', ':'),\n",
       " ('--', ':'),\n",
       " ('--', ':'),\n",
       " ('--', ':'),\n",
       " ('--', ':'),\n",
       " ('-I', 'JJ'),\n",
       " ('admit', 'VBP'),\n",
       " ('that', 'IN'),\n",
       " ('I', 'PRP'),\n",
       " ('was', 'VBD'),\n",
       " ('a', 'DT'),\n",
       " ('little', 'JJ'),\n",
       " ('skeptical', 'JJ'),\n",
       " ('when', 'WRB'),\n",
       " ('Amazon', 'NNP'),\n",
       " ('first', 'RB'),\n",
       " ('introduced', 'VBD'),\n",
       " ('its', 'PRP$'),\n",
       " ('Echo', 'NNP'),\n",
       " ('device', 'NN'),\n",
       " ('.', '.')]"
      ]
     },
     "execution_count": 23,
     "metadata": {},
     "output_type": "execute_result"
    }
   ],
   "source": [
    "reviews_pos[5]"
   ]
  },
  {
   "cell_type": "code",
   "execution_count": 24,
   "metadata": {},
   "outputs": [],
   "source": [
    "# Creating the empty list\n",
    "all_nouns = []"
   ]
  },
  {
   "cell_type": "code",
   "execution_count": 25,
   "metadata": {},
   "outputs": [],
   "source": [
    "for sent in reviews_pos:\n",
    "    res = [term for term, pos in sent if pos.startswith(\"NN\")]\n",
    "    all_nouns.extend(res)"
   ]
  },
  {
   "cell_type": "code",
   "execution_count": 26,
   "metadata": {},
   "outputs": [
    {
     "data": {
      "text/plain": [
       "4920"
      ]
     },
     "execution_count": 26,
     "metadata": {},
     "output_type": "execute_result"
    }
   ],
   "source": [
    "len(all_nouns)"
   ]
  },
  {
   "cell_type": "code",
   "execution_count": 27,
   "metadata": {
    "scrolled": true
   },
   "outputs": [
    {
     "name": "stdout",
     "output_type": "stream",
     "text": [
      "['Amazon', 'Echo', 'device', 'anyway', 'days', 'Echo', 'demand', 'risk', 'Today', 'music', 'listener', 'Echo', 'try.I', 'device', 'music', 'kitchen', 'Echos', 'voice', 'control', 'question', 'Echo.Read', 'weeks', 'fact', 'Echo', 'year', 'price', 'voice', 'remote', 'year', 'device', 'year', 'game', 'Echo', 'Tap', 'things', 'Echo', 'Alexa', 'devices', 'try.I', 'years', 'home', 'combination', 'Smartthings', 'IFTTT', 'Logitech', 'Harmony', 'home', 'Alexa', 'middle', 'ability']\n"
     ]
    }
   ],
   "source": [
    "print(all_nouns[50:100])"
   ]
  },
  {
   "cell_type": "markdown",
   "metadata": {},
   "source": [
    "### Looks like we need to do a little clean up - \n",
    "- normalize case\n",
    "- remove stop words\n",
    "- remove contextual stop words"
   ]
  },
  {
   "cell_type": "markdown",
   "metadata": {},
   "source": [
    "Getting stop word list - "
   ]
  },
  {
   "cell_type": "code",
   "execution_count": 28,
   "metadata": {},
   "outputs": [],
   "source": [
    "from nltk.corpus import stopwords\n",
    "from string import punctuation"
   ]
  },
  {
   "cell_type": "code",
   "execution_count": 29,
   "metadata": {},
   "outputs": [
    {
     "data": {
      "text/plain": [
       "211"
      ]
     },
     "execution_count": 29,
     "metadata": {},
     "output_type": "execute_result"
    }
   ],
   "source": [
    "stop_nltk = stopwords.words(\"english\")\n",
    "stop_punct = list(punctuation)\n",
    "stop_final = stop_nltk + stop_punct\n",
    "len(stop_final)"
   ]
  },
  {
   "cell_type": "markdown",
   "metadata": {},
   "source": [
    "Lowering case and removing stop words in one statement"
   ]
  },
  {
   "cell_type": "code",
   "execution_count": 30,
   "metadata": {},
   "outputs": [
    {
     "data": {
      "text/plain": [
       "'owners'"
      ]
     },
     "execution_count": 30,
     "metadata": {},
     "output_type": "execute_result"
    }
   ],
   "source": [
    "all_nouns[10]"
   ]
  },
  {
   "cell_type": "code",
   "execution_count": 31,
   "metadata": {},
   "outputs": [
    {
     "data": {
      "text/plain": [
       "4920"
      ]
     },
     "execution_count": 31,
     "metadata": {},
     "output_type": "execute_result"
    }
   ],
   "source": [
    "len(all_nouns)"
   ]
  },
  {
   "cell_type": "code",
   "execution_count": 32,
   "metadata": {},
   "outputs": [],
   "source": [
    "all_nouns_clean = [term.lower() for term in all_nouns if term.lower() not in stop_final]"
   ]
  },
  {
   "cell_type": "code",
   "execution_count": 33,
   "metadata": {},
   "outputs": [
    {
     "data": {
      "text/plain": [
       "4848"
      ]
     },
     "execution_count": 33,
     "metadata": {},
     "output_type": "execute_result"
    }
   ],
   "source": [
    "len(all_nouns_clean)"
   ]
  },
  {
   "cell_type": "code",
   "execution_count": 34,
   "metadata": {},
   "outputs": [
    {
     "data": {
      "text/plain": [
       "['february', 'firmware', 'update', 'amazon', 'tap']"
      ]
     },
     "execution_count": 34,
     "metadata": {},
     "output_type": "execute_result"
    }
   ],
   "source": [
    "all_nouns_clean[5:10]"
   ]
  },
  {
   "cell_type": "markdown",
   "metadata": {},
   "source": [
    "#### We need to remove contextual stop words as well"
   ]
  },
  {
   "cell_type": "code",
   "execution_count": 35,
   "metadata": {},
   "outputs": [],
   "source": [
    "stop_context = ['tap','amazon', 'device', 'speaker', 'product']"
   ]
  },
  {
   "cell_type": "code",
   "execution_count": 36,
   "metadata": {},
   "outputs": [],
   "source": [
    "all_nouns_clean = [term for term in all_nouns_clean if term not in stop_context]"
   ]
  },
  {
   "cell_type": "code",
   "execution_count": 37,
   "metadata": {},
   "outputs": [
    {
     "data": {
      "text/plain": [
       "4152"
      ]
     },
     "execution_count": 37,
     "metadata": {},
     "output_type": "execute_result"
    }
   ],
   "source": [
    "len(all_nouns_clean)"
   ]
  },
  {
   "cell_type": "markdown",
   "metadata": {},
   "source": [
    "### Use counter to get top nouns/keywords for all the reviews"
   ]
  },
  {
   "cell_type": "code",
   "execution_count": 38,
   "metadata": {},
   "outputs": [],
   "source": [
    "from collections import Counter"
   ]
  },
  {
   "cell_type": "code",
   "execution_count": 39,
   "metadata": {},
   "outputs": [],
   "source": [
    "term_counts = Counter(all_nouns_clean)"
   ]
  },
  {
   "cell_type": "code",
   "execution_count": 40,
   "metadata": {},
   "outputs": [
    {
     "data": {
      "text/plain": [
       "[('echo', 204),\n",
       " ('alexa', 170),\n",
       " ('music', 154),\n",
       " ('sound', 146),\n",
       " ('button', 69),\n",
       " ('quality', 69),\n",
       " ('bluetooth', 63),\n",
       " ('voice', 56),\n",
       " ('great', 53),\n",
       " ('battery', 49),\n",
       " ('time', 48),\n",
       " ('dot', 40),\n",
       " ('home', 38),\n",
       " ('phone', 37),\n",
       " ('portability', 37)]"
      ]
     },
     "execution_count": 40,
     "metadata": {},
     "output_type": "execute_result"
    }
   ],
   "source": [
    "term_counts.most_common(15)"
   ]
  },
  {
   "cell_type": "markdown",
   "metadata": {},
   "source": [
    "### Plotting the top features on a horizontal bar chart"
   ]
  },
  {
   "cell_type": "code",
   "execution_count": 41,
   "metadata": {},
   "outputs": [],
   "source": [
    "res = {term:cnt for term, cnt in term_counts.most_common(15)}"
   ]
  },
  {
   "cell_type": "code",
   "execution_count": 42,
   "metadata": {},
   "outputs": [],
   "source": [
    "import matplotlib.pyplot as plt"
   ]
  },
  {
   "cell_type": "code",
   "execution_count": 43,
   "metadata": {},
   "outputs": [
    {
     "data": {
      "image/png": "[encoded data removed]",
      "text/plain": [
       "<Figure size 720x432 with 1 Axes>"
      ]
     },
     "metadata": {
      "needs_background": "light"
     },
     "output_type": "display_data"
    }
   ],
   "source": [
    "plt.figure(figsize=[10,6])\n",
    "plt.barh(list(res.keys()), list(res.values()), color=\"teal\")\n",
    "plt.show()"
   ]
  }
 ],
 "metadata": {
  "kernelspec": {
   "display_name": "Python 3",
   "language": "python",
   "name": "python3"
  },
  "language_info": {
   "codemirror_mode": {
    "name": "ipython",
    "version": 3
   },
   "file_extension": ".py",
   "mimetype": "text/x-python",
   "name": "python",
   "nbconvert_exporter": "python",
   "pygments_lexer": "ipython3",
   "version": "3.7.6"
  }
 },
 "nbformat": 4,
 "nbformat_minor": 4
}
