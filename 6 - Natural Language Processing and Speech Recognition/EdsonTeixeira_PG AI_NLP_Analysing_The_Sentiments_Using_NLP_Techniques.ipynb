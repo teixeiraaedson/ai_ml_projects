{
 "cells": [
  {
   "cell_type": "markdown",
   "metadata": {},
   "source": [
    "<img src=\"http://cfs22.simplicdn.net/ice9/new_logo.svgz \"/>\n",
    "\n",
    "# PG AI - Natural Language Processing and Speech Recognition\n",
    "# Assisted Practice: Analyzing the Sentiments\n",
    "\n",
    "DESCRIPTION\n",
    "\n",
    "In this demo, we will develop a simple application of sentiment analysis using natural language processing techniques.<br>\n",
    "Sentiment analysis is one of the most common applications in natural language processing. With sentiment analysis, we can decide with what emotion a text is written. <br>\n",
    "With the widespread use of social media, the need to analyze the content that people share over social media is increasing day by day. Considering the volume of data coming through social media, it is quite difficult to do this with mere  manpower. Therefore, the need for applications that can quickly detect and respond to the positive or negative comments that people write is increasing.<br>\n",
    "\n",
    "By Edson Teixeira<br>\n",
    "teixeiraedson252@gmail.com <br>\n",
    "December 29th 2021"
   ]
  },
  {
   "cell_type": "code",
   "execution_count": 1,
   "metadata": {},
   "outputs": [],
   "source": [
    "# Step 1: Import the libraries\n",
    "import pandas as pd\n",
    "import numpy as np\n",
    "import pickle\n",
    "import sys\n",
    "import os\n",
    "import io\n",
    "import re\n",
    "from sys import path\n",
    "import numpy as np\n",
    "import pickle\n",
    "from sklearn.feature_extraction.text import CountVectorizer\n",
    "from sklearn.naive_bayes import MultinomialNB\n",
    "from sklearn.model_selection import train_test_split\n",
    "from sklearn.preprocessing import LabelBinarizer\n",
    "import matplotlib.pyplot as plt\n",
    "from string import punctuation, digits\n",
    "from IPython.core.display import display, HTML\n",
    "from nltk.corpus import stopwords\n",
    "from nltk.corpus import stopwords\n",
    "from nltk.tokenize import word_tokenize\n",
    "from nltk.tokenize import RegexpTokenizer"
   ]
  },
  {
   "cell_type": "code",
   "execution_count": 2,
   "metadata": {},
   "outputs": [],
   "source": [
    "# Step 2: Dataset\n",
    "# Amazon Data\n",
    "input_file = \"amazon_cells_labelled.txt\"\n",
    "amazon = pd.read_csv(input_file,delimiter='\\t',header=None)\n",
    "amazon.columns = ['Sentence','Class']\n",
    "# Yelp Data\n",
    "input_file = \"yelp_labelled.txt\"\n",
    "yelp = pd.read_csv(input_file,delimiter='\\t',header=None)\n",
    "yelp.columns = ['Sentence','Class']\n",
    "# Imdb Data\n",
    "input_file = \"imdb_labelled.txt\"\n",
    "imdb = pd.read_csv(input_file,delimiter='\\t',header=None)\n",
    "imdb.columns = ['Sentence','Class']"
   ]
  },
  {
   "cell_type": "code",
   "execution_count": 3,
   "metadata": {},
   "outputs": [
    {
     "data": {
      "text/html": [
       "<div>\n",
       "<style scoped>\n",
       "    .dataframe tbody tr th:only-of-type {\n",
       "        vertical-align: middle;\n",
       "    }\n",
       "\n",
       "    .dataframe tbody tr th {\n",
       "        vertical-align: top;\n",
       "    }\n",
       "\n",
       "    .dataframe thead th {\n",
       "        text-align: right;\n",
       "    }\n",
       "</style>\n",
       "<table border=\"1\" class=\"dataframe\">\n",
       "  <thead>\n",
       "    <tr style=\"text-align: right;\">\n",
       "      <th></th>\n",
       "      <th>Sentence</th>\n",
       "      <th>Class</th>\n",
       "      <th>index</th>\n",
       "    </tr>\n",
       "  </thead>\n",
       "  <tbody>\n",
       "    <tr>\n",
       "      <th>0</th>\n",
       "      <td>So there is no way for me to plug it in here i...</td>\n",
       "      <td>0</td>\n",
       "      <td>0</td>\n",
       "    </tr>\n",
       "    <tr>\n",
       "      <th>1</th>\n",
       "      <td>Good case, Excellent value.</td>\n",
       "      <td>1</td>\n",
       "      <td>1</td>\n",
       "    </tr>\n",
       "    <tr>\n",
       "      <th>2</th>\n",
       "      <td>Great for the jawbone.</td>\n",
       "      <td>1</td>\n",
       "      <td>2</td>\n",
       "    </tr>\n",
       "    <tr>\n",
       "      <th>3</th>\n",
       "      <td>Tied to charger for conversations lasting more...</td>\n",
       "      <td>0</td>\n",
       "      <td>3</td>\n",
       "    </tr>\n",
       "    <tr>\n",
       "      <th>4</th>\n",
       "      <td>The mic is great.</td>\n",
       "      <td>1</td>\n",
       "      <td>4</td>\n",
       "    </tr>\n",
       "    <tr>\n",
       "      <th>...</th>\n",
       "      <td>...</td>\n",
       "      <td>...</td>\n",
       "      <td>...</td>\n",
       "    </tr>\n",
       "    <tr>\n",
       "      <th>743</th>\n",
       "      <td>I just got bored watching Jessice Lange take h...</td>\n",
       "      <td>0</td>\n",
       "      <td>743</td>\n",
       "    </tr>\n",
       "    <tr>\n",
       "      <th>744</th>\n",
       "      <td>Unfortunately, any virtue in this film's produ...</td>\n",
       "      <td>0</td>\n",
       "      <td>744</td>\n",
       "    </tr>\n",
       "    <tr>\n",
       "      <th>745</th>\n",
       "      <td>In a word, it is embarrassing.</td>\n",
       "      <td>0</td>\n",
       "      <td>745</td>\n",
       "    </tr>\n",
       "    <tr>\n",
       "      <th>746</th>\n",
       "      <td>Exceptionally bad!</td>\n",
       "      <td>0</td>\n",
       "      <td>746</td>\n",
       "    </tr>\n",
       "    <tr>\n",
       "      <th>747</th>\n",
       "      <td>All in all its an insult to one's intelligence...</td>\n",
       "      <td>0</td>\n",
       "      <td>747</td>\n",
       "    </tr>\n",
       "  </tbody>\n",
       "</table>\n",
       "<p>2748 rows × 3 columns</p>\n",
       "</div>"
      ],
      "text/plain": [
       "                                              Sentence  Class  index\n",
       "0    So there is no way for me to plug it in here i...      0      0\n",
       "1                          Good case, Excellent value.      1      1\n",
       "2                               Great for the jawbone.      1      2\n",
       "3    Tied to charger for conversations lasting more...      0      3\n",
       "4                                    The mic is great.      1      4\n",
       "..                                                 ...    ...    ...\n",
       "743  I just got bored watching Jessice Lange take h...      0    743\n",
       "744  Unfortunately, any virtue in this film's produ...      0    744\n",
       "745                   In a word, it is embarrassing.        0    745\n",
       "746                               Exceptionally bad!        0    746\n",
       "747  All in all its an insult to one's intelligence...      0    747\n",
       "\n",
       "[2748 rows x 3 columns]"
      ]
     },
     "execution_count": 3,
     "metadata": {},
     "output_type": "execute_result"
    }
   ],
   "source": [
    "# Step 3: Combine all datasets \n",
    "data = pd.DataFrame()\n",
    "data = pd.concat([amazon, yelp, imdb])\n",
    "data['index'] = data.index\n",
    "data"
   ]
  },
  {
   "cell_type": "code",
   "execution_count": 4,
   "metadata": {},
   "outputs": [
    {
     "name": "stdout",
     "output_type": "stream",
     "text": [
      "   Class  COUNT\n",
      "0      0    846\n",
      "1      1    827\n"
     ]
    },
    {
     "data": {
      "image/png": "[encoded data removed]",
      "text/plain": [
       "<Figure size 432x288 with 1 Axes>"
      ]
     },
     "metadata": {},
     "output_type": "display_data"
    }
   ],
   "source": [
    "# Step 4: Statistics\n",
    "pd.set_option('display.width', 4000)\n",
    "pd.set_option('display.max_rows', 1000)\n",
    "distOfDetails = data.groupby(by='Class', as_index=False).agg({'index': pd.Series.nunique}).sort_values(by='index', ascending=False)\n",
    "distOfDetails.columns =['Class', 'COUNT']\n",
    "print(distOfDetails)\n",
    "#Distribution of All Categories\n",
    "plt.pie(distOfDetails['COUNT'],autopct='%1.0f%%',shadow=True, startangle=360)\n",
    "plt.show()"
   ]
  },
  {
   "cell_type": "code",
   "execution_count": 5,
   "metadata": {},
   "outputs": [],
   "source": [
    "#  Step 5: Data Preprocessing\n",
    "columns = ['index','Class', 'Sentence']\n",
    "df_ = pd.DataFrame(columns=columns)\n",
    "#lower string\n",
    "data['Sentence'] = data['Sentence'].str.lower()\n",
    "#remove email adress\n",
    "data['Sentence'] = data['Sentence'].replace('[a-zA-Z0-9-_.]+@[a-zA-Z0-9-_.]+', '', regex=True)\n",
    "#remove IP address\n",
    "data['Sentence'] = data['Sentence'].replace('((25[0-5]|2[0-4][0-9]|[01]?[0-9][0-9]?)(\\.|$)){4}', '', regex=True)\n",
    "#remove punctaitions and special chracters\n",
    "data['Sentence'] = data['Sentence'].str.replace('[^\\w\\s]','')\n",
    "#remove numbers\n",
    "data['Sentence'] = data['Sentence'].replace('\\d', '', regex=True)\n",
    "#remove stop words\n",
    "for index, row in data.iterrows():\n",
    "    word_tokens = word_tokenize(row['Sentence'])\n",
    "    filtered_sentence = [w for w in word_tokens if not w in stopwords.words('english')]\n",
    "    df_ = df_.append({\"index\": row['index'], \"Class\":  row['Class'],\"Sentence\": \" \".join(filtered_sentence[0:])}, ignore_index=True)\n",
    "data = df_"
   ]
  },
  {
   "cell_type": "code",
   "execution_count": 6,
   "metadata": {},
   "outputs": [],
   "source": [
    "# Step 6: Data Split—Training vs. Test\n",
    "X_train, X_test, y_train, y_test = train_test_split(data['Sentence'].values.astype('U'),data['Class'].values.astype('int32'), test_size=0.10, random_state=0)\n",
    "classes  = data['Class'].unique()"
   ]
  },
  {
   "cell_type": "code",
   "execution_count": 7,
   "metadata": {},
   "outputs": [],
   "source": [
    "#  Step 7: Create a Model\n",
    "from sklearn.metrics import confusion_matrix\n",
    "from sklearn.model_selection import cross_val_score\n",
    "from sklearn.metrics import accuracy_score\n",
    "from sklearn.neural_network import MLPClassifier\n",
    "from sklearn.feature_extraction.text import TfidfVectorizer\n",
    "from sklearn.linear_model import SGDClassifier\n",
    "#grid search result\n",
    "vectorizer = TfidfVectorizer(analyzer='word',ngram_range=(1,2), max_features=50000,max_df=0.5,use_idf=True, norm='l2') \n",
    "counts = vectorizer.fit_transform(X_train)\n",
    "vocab = vectorizer.vocabulary_\n",
    "classifier = SGDClassifier(alpha=1e-05,max_iter=50,penalty='elasticnet')\n",
    "targets = y_train\n",
    "classifier = classifier.fit(counts, targets)\n",
    "example_counts = vectorizer.transform(X_test)\n",
    "predictions = classifier.predict(example_counts)"
   ]
  },
  {
   "cell_type": "code",
   "execution_count": 8,
   "metadata": {},
   "outputs": [
    {
     "name": "stdout",
     "output_type": "stream",
     "text": [
      "Model Accuracy:0.80\n",
      "              precision    recall  f1-score   support\n",
      "\n",
      "           0       0.79      0.83      0.81       139\n",
      "           1       0.81      0.77      0.79       136\n",
      "\n",
      "    accuracy                           0.80       275\n",
      "   macro avg       0.80      0.80      0.80       275\n",
      "weighted avg       0.80      0.80      0.80       275\n",
      "\n"
     ]
    }
   ],
   "source": [
    "# Step 8: Test a Model\n",
    "from sklearn.metrics import precision_score\n",
    "from sklearn.metrics import recall_score\n",
    "from sklearn.metrics import classification_report\n",
    "#Model Evaluation\n",
    "acc = accuracy_score(y_test, predictions, normalize=True)\n",
    "hit = precision_score(y_test, predictions, labels=classes)\n",
    "capture = recall_score(y_test, predictions, labels=classes)\n",
    "print('Model Accuracy:%.2f'%acc)\n",
    "print(classification_report(y_test, predictions))"
   ]
  }
 ],
 "metadata": {
  "kernelspec": {
   "display_name": "Python 3",
   "language": "python",
   "name": "python3"
  },
  "language_info": {
   "codemirror_mode": {
    "name": "ipython",
    "version": 3
   },
   "file_extension": ".py",
   "mimetype": "text/x-python",
   "name": "python",
   "nbconvert_exporter": "python",
   "pygments_lexer": "ipython3",
   "version": "3.7.6"
  }
 },
 "nbformat": 4,
 "nbformat_minor": 4
}
