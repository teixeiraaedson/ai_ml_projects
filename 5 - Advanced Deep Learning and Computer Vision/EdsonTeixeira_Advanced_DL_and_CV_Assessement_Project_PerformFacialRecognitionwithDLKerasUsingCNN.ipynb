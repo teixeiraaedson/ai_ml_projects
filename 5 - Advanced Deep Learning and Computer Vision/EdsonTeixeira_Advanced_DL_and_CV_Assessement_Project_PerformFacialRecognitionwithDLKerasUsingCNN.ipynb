{
 "cells": [
  {
   "cell_type": "code",
   "execution_count": null,
   "metadata": {
    "id": "qoUWPPw6aamq"
   },
   "outputs": [],
   "source": []
  },
  {
   "cell_type": "markdown",
   "metadata": {
    "id": "hn2MB73OeR9f"
   },
   "source": [
    "# PG AI - Advanced Deep Learning and Computer Vision\n",
    "# Assessement Project: Perform Facial Recognition with Deep Learning in Keras Using CNN\n",
    "\n",
    "DESCRIPTION\n",
    "\n",
    "Problem Statement:\n",
    "Facial recognition is a biometric alternative that measures unique characteristics of a human face.<br> \n",
    "Applications available today include flight check in, tagging friends and family members in photos, and “tailored” advertising.<br> \n",
    "You are a computer vision engineer who needs to develop a face recognition programme with deep convolutional neural networks.<br>\n",
    "Objective: Use a deep convolutional neural network to perform facial recognition using Keras.<br>\n",
    "\n",
    "### Dataset Details:\n",
    "ORL face database composed of 400 images of size 112 x 92. There are 40 people, 10 images\n",
    "per person. The images were taken at different times, lighting and facial expressions.<br>\n",
    "The faces are in an upright position in frontal view, with a slight left-right rotation.<br>\n",
    "\n",
    "### Link to the Dataset: https://www.dropbox.com/s/i7uzp5yxk7wruva/ORL_faces.npz?dl=0\n",
    "### Prerequisites:\n",
    "Keras\n",
    "Scikit Learn\n",
    "Steps to be followed:\n",
    "1. Input the required libraries\n",
    "2. Load the dataset after loading the dataset, you have to normalize every image.\n",
    "3. Split the dataset\n",
    "4. Transform the images to equal sizes to feed in CNN\n",
    "5. Build a CNN model that has 3 main layers:\n",
    "\n",
    "  i. Convolutional Layer<br>\n",
    "  ii. Pooling Layer<br>\n",
    "  iii. Fully Connected Layer<br>\n",
    "\n",
    "6. Train the model\n",
    "7. Plot the result\n",
    "8. Iterate the model until the accuracy is above 90%\n",
    "\n",
    "By Edson Teixeira<br>\n",
    "teixeiraedson252@gmail.com <br>\n",
    "November 25th 2021"
   ]
  },
  {
   "cell_type": "code",
   "execution_count": 1,
   "metadata": {
    "id": "66fQ_1RyejHn"
   },
   "outputs": [],
   "source": [
    "# data handling\n",
    "import os\n",
    "import sys\n",
    "import pandas as pd\n",
    "import numpy as np\n",
    "# visualization\n",
    "import matplotlib.pyplot as plt\n",
    "%matplotlib inline\n",
    "import cv2\n",
    "from pylab import rcParams\n",
    "rcParams['figure.figsize']= 12,5\n",
    "rcParams['xtick.labelsize']= 12\n",
    "rcParams['ytick.labelsize']= 12\n",
    "rcParams['axes.labelsize']= 12\n",
    "# warnings handling \n",
    "import warnings\n",
    "warnings.filterwarnings(action='ignore',category=DeprecationWarning)\n",
    "warnings.filterwarnings(action='ignore',category=FutureWarning)\n",
    "import tensorflow as tf"
   ]
  },
  {
   "cell_type": "code",
   "execution_count": 2,
   "metadata": {
    "id": "w7sgc-IeeyCM"
   },
   "outputs": [],
   "source": [
    "reco = np.load('/ORL_faces.npz')"
   ]
  },
  {
   "cell_type": "code",
   "execution_count": 3,
   "metadata": {
    "colab": {
     "base_uri": "https://localhost:8080/",
     "height": 0
    },
    "id": "STah-HJoe5oq",
    "outputId": "403b8ed8-2db3-49d8-823f-d416bca9378a"
   },
   "outputs": [
    {
     "data": {
      "text/plain": [
       "numpy.lib.npyio.NpzFile"
      ]
     },
     "execution_count": 3,
     "metadata": {},
     "output_type": "execute_result"
    }
   ],
   "source": [
    "type(reco)"
   ]
  },
  {
   "cell_type": "code",
   "execution_count": 4,
   "metadata": {
    "colab": {
     "base_uri": "https://localhost:8080/",
     "height": 0
    },
    "id": "RXZPbLAbfEpS",
    "outputId": "26cbefaa-2944-494e-d7a0-76f40c8dd9b4"
   },
   "outputs": [
    {
     "data": {
      "text/plain": [
       "['testX', 'testY', 'trainX', 'trainY']"
      ]
     },
     "execution_count": 4,
     "metadata": {},
     "output_type": "execute_result"
    }
   ],
   "source": [
    "sorted(reco.files)"
   ]
  },
  {
   "cell_type": "code",
   "execution_count": 5,
   "metadata": {
    "colab": {
     "base_uri": "https://localhost:8080/",
     "height": 0
    },
    "id": "RZ6n5h-ShXv2",
    "outputId": "e5915ebb-410a-43e4-d238-3df89222ea7e"
   },
   "outputs": [
    {
     "data": {
      "text/plain": [
       "array([[ 48.,  49.,  45., ...,  47.,  46.,  46.],\n",
       "       [ 60.,  60.,  62., ...,  32.,  34.,  34.],\n",
       "       [ 39.,  44.,  53., ...,  29.,  26.,  29.],\n",
       "       ...,\n",
       "       [114., 117., 114., ...,  98.,  96.,  98.],\n",
       "       [105., 105., 107., ...,  54.,  47.,  41.],\n",
       "       [116., 114., 117., ...,  95., 100., 101.]])"
      ]
     },
     "execution_count": 5,
     "metadata": {},
     "output_type": "execute_result"
    }
   ],
   "source": [
    "reco['trainX']"
   ]
  },
  {
   "cell_type": "code",
   "execution_count": 6,
   "metadata": {
    "colab": {
     "base_uri": "https://localhost:8080/",
     "height": 0
    },
    "id": "qB2as02DhXtX",
    "outputId": "ac2843f1-0b2a-40d7-d694-c03efc834ce2"
   },
   "outputs": [
    {
     "data": {
      "text/plain": [
       "array([ 0,  0,  0,  0,  0,  0,  0,  0,  0,  0,  0,  0,  1,  1,  1,  1,  1,\n",
       "        1,  1,  1,  1,  1,  1,  1,  2,  2,  2,  2,  2,  2,  2,  2,  2,  2,\n",
       "        2,  2,  3,  3,  3,  3,  3,  3,  3,  3,  3,  3,  3,  3,  4,  4,  4,\n",
       "        4,  4,  4,  4,  4,  4,  4,  4,  4,  5,  5,  5,  5,  5,  5,  5,  5,\n",
       "        5,  5,  5,  5,  6,  6,  6,  6,  6,  6,  6,  6,  6,  6,  6,  6,  7,\n",
       "        7,  7,  7,  7,  7,  7,  7,  7,  7,  7,  7,  8,  8,  8,  8,  8,  8,\n",
       "        8,  8,  8,  8,  8,  8,  9,  9,  9,  9,  9,  9,  9,  9,  9,  9,  9,\n",
       "        9, 10, 10, 10, 10, 10, 10, 10, 10, 10, 10, 10, 10, 11, 11, 11, 11,\n",
       "       11, 11, 11, 11, 11, 11, 11, 11, 12, 12, 12, 12, 12, 12, 12, 12, 12,\n",
       "       12, 12, 12, 13, 13, 13, 13, 13, 13, 13, 13, 13, 13, 13, 13, 14, 14,\n",
       "       14, 14, 14, 14, 14, 14, 14, 14, 14, 14, 15, 15, 15, 15, 15, 15, 15,\n",
       "       15, 15, 15, 15, 15, 16, 16, 16, 16, 16, 16, 16, 16, 16, 16, 16, 16,\n",
       "       17, 17, 17, 17, 17, 17, 17, 17, 17, 17, 17, 17, 18, 18, 18, 18, 18,\n",
       "       18, 18, 18, 18, 18, 18, 18, 19, 19, 19, 19, 19, 19, 19, 19, 19, 19,\n",
       "       19, 19], dtype=uint8)"
      ]
     },
     "execution_count": 6,
     "metadata": {},
     "output_type": "execute_result"
    }
   ],
   "source": [
    "reco['trainY']"
   ]
  },
  {
   "cell_type": "code",
   "execution_count": 7,
   "metadata": {
    "colab": {
     "base_uri": "https://localhost:8080/",
     "height": 0
    },
    "id": "CFNeAuvbhXrC",
    "outputId": "20fbd0b4-5790-40ab-c304-275ed1274c3c"
   },
   "outputs": [
    {
     "data": {
      "text/plain": [
       "(numpy.ndarray, numpy.ndarray)"
      ]
     },
     "execution_count": 7,
     "metadata": {},
     "output_type": "execute_result"
    }
   ],
   "source": [
    "type(reco['trainX']), type(reco['trainY'])"
   ]
  },
  {
   "cell_type": "code",
   "execution_count": 8,
   "metadata": {
    "colab": {
     "base_uri": "https://localhost:8080/",
     "height": 0
    },
    "id": "pwCDtl1mhXnn",
    "outputId": "a389000f-3520-44e1-b114-00d52b770039"
   },
   "outputs": [
    {
     "data": {
      "text/plain": [
       "((240, 10304), (240,))"
      ]
     },
     "execution_count": 8,
     "metadata": {},
     "output_type": "execute_result"
    }
   ],
   "source": [
    "reco['trainX'].shape, reco['trainY'].shape"
   ]
  },
  {
   "cell_type": "code",
   "execution_count": 9,
   "metadata": {
    "id": "j4B7Lak5hXkr"
   },
   "outputs": [],
   "source": [
    "r_rows = 112\n",
    "r_cols = 92\n",
    "r_channels = 1\n",
    "\n",
    "trainX =  np.reshape(reco['trainX'],newshape=(reco['trainX'].shape[0],r_rows,r_cols))\n",
    "testX =  np.reshape(reco['testX'],newshape=(reco['testX'].shape[0],r_rows,r_cols))\n",
    "\n",
    "trainX = np.array(list(map(lambda p: cv2.cvtColor(p, cv2.COLOR_GRAY2BGR), np.float32(trainX))))/255.\n",
    "testX = np.array(list(map(lambda p: cv2.cvtColor(p, cv2.COLOR_GRAY2BGR), np.float32(testX))))/255.\n",
    "\n",
    "\n",
    "trainY = reco['trainY']\n",
    "testY = reco['testY']"
   ]
  },
  {
   "cell_type": "code",
   "execution_count": 10,
   "metadata": {
    "colab": {
     "base_uri": "https://localhost:8080/",
     "height": 0
    },
    "id": "CqJtYdJJhXh1",
    "outputId": "ceb688db-de7f-4920-81d9-aa5bc199326b"
   },
   "outputs": [
    {
     "data": {
      "text/plain": [
       "((240, 112, 92, 3), (160, 112, 92, 3))"
      ]
     },
     "execution_count": 10,
     "metadata": {},
     "output_type": "execute_result"
    }
   ],
   "source": [
    "trainX.shape, testX.shape"
   ]
  },
  {
   "cell_type": "code",
   "execution_count": 11,
   "metadata": {
    "colab": {
     "base_uri": "https://localhost:8080/",
     "height": 273
    },
    "id": "Z6rlB0sNhXfN",
    "outputId": "d7e0e01f-3223-44ad-8cd5-9e3fd2ad2403"
   },
   "outputs": [
    {
     "data": {
      "image/png": "[encoded data removed]",
      "text/plain": [
       "<Figure size 432x288 with 4 Axes>"
      ]
     },
     "metadata": {
      "needs_background": "light"
     },
     "output_type": "display_data"
    }
   ],
   "source": [
    "# visualize random images\n",
    "d = 5\n",
    "g = np.random.randint(low=0,high=trainX.shape[0]- 2*d,dtype=int)\n",
    "\n",
    "#plot some faces \n",
    "plt.subplot(2,2,1)\n",
    "plt.imshow(trainX[g])\n",
    "plt.subplot(2,2,2)\n",
    "plt.imshow(trainX[g+d])\n",
    "plt.subplot(2,2,3)\n",
    "plt.imshow(trainX[g-d])\n",
    "plt.subplot(2,2,4)\n",
    "plt.imshow(trainX[g+d*2])\n",
    "plt.show()"
   ]
  },
  {
   "cell_type": "code",
   "execution_count": 12,
   "metadata": {
    "id": "2ghJEu66hXZS"
   },
   "outputs": [],
   "source": [
    "from sklearn.model_selection import train_test_split\n",
    "seed = 51\n",
    "test_size = 0.1\n",
    "X_train, X_valid, y_train, y_valid = train_test_split(trainX,trainY,random_state=seed,test_size=test_size)"
   ]
  },
  {
   "cell_type": "code",
   "execution_count": 13,
   "metadata": {
    "colab": {
     "base_uri": "https://localhost:8080/",
     "height": 0
    },
    "id": "WJuv2wTwhXWX",
    "outputId": "64318ff6-c886-4fd4-ee47-1672e4d2f6b7"
   },
   "outputs": [
    {
     "data": {
      "text/plain": [
       "((216, 112, 92, 3), (24, 112, 92, 3))"
      ]
     },
     "execution_count": 13,
     "metadata": {},
     "output_type": "execute_result"
    }
   ],
   "source": [
    "X_train.shape, X_valid.shape"
   ]
  },
  {
   "cell_type": "code",
   "execution_count": 14,
   "metadata": {
    "colab": {
     "base_uri": "https://localhost:8080/",
     "height": 0
    },
    "id": "28_JZJDohXTM",
    "outputId": "5ee88fa3-21ae-4bd6-963f-59eac1f9dfff"
   },
   "outputs": [
    {
     "data": {
      "text/plain": [
       "4"
      ]
     },
     "execution_count": 14,
     "metadata": {},
     "output_type": "execute_result"
    }
   ],
   "source": [
    "X_test = testX\n",
    "y_test = testY\n",
    "y_train[0]"
   ]
  },
  {
   "cell_type": "code",
   "execution_count": 15,
   "metadata": {
    "id": "2WQ6DzwVhXQF"
   },
   "outputs": [],
   "source": [
    "r_rows = 112\n",
    "r_cols = 92\n",
    "r_channels = 1\n",
    "\n",
    "trainX =  np.reshape(reco['trainX'],newshape=(reco['trainX'].shape[0],r_rows,r_cols,r_channels))\n",
    "testX =  np.reshape(reco['testX'],newshape=(reco['testX'].shape[0],r_rows,r_cols,r_channels))\n",
    "trainY = reco['trainY']\n",
    "testY = reco['testY']"
   ]
  },
  {
   "cell_type": "code",
   "execution_count": 16,
   "metadata": {
    "id": "UsFExcPMhXDq"
   },
   "outputs": [],
   "source": [
    "s_indices = np.random.permutation(len(trainX))\n",
    "X_train = trainX[s_indices]\n",
    "y_train = trainY[s_indices]"
   ]
  },
  {
   "cell_type": "code",
   "execution_count": 17,
   "metadata": {
    "id": "QAQobgoC1sYm"
   },
   "outputs": [],
   "source": [
    "X_test = testX\n",
    "y_test = testY"
   ]
  },
  {
   "cell_type": "code",
   "execution_count": 18,
   "metadata": {
    "id": "-TXW6STb1sWF"
   },
   "outputs": [],
   "source": [
    "def conv_model(input_shape,n_filters=8,kernel_size=4,strides=1,padding='same',units=1024,activation='relu',\n",
    "                        kernel_regularizer=tf.keras.regularizers.L1L2(l1=0.01, l2=0.01)):\n",
    "    \n",
    "    input_image = tf.keras.Input(shape=input_shape[1:])\n",
    "    #Conv2D layer\n",
    "    Z1 = tf.keras.layers.Conv2D(filters=n_filters,kernel_size=(kernel_size,kernel_size),strides=strides,padding=padding)(input_image)\n",
    "    ##ReLU activation layer\n",
    "    A1 = tf.keras.layers.Activation(activation)(Z1)\n",
    "    ##MAXPOOL\n",
    "    P1 = tf.keras.layers.MaxPool2D(pool_size=(n_filters,n_filters),strides=strides*8,padding=padding)(A1)\n",
    "    ##Conv2D\n",
    "    Z2 = tf.keras.layers.Conv2D(filters=n_filters*2,kernel_size=(int(kernel_size/2),int(kernel_size/2)),strides=strides,padding=padding)(P1)\n",
    "    ##ReLU\n",
    "    A2 = tf.keras.layers.Activation(activation)(Z2)\n",
    "    ##MAXPool\n",
    "    P2 = tf.keras.layers.MaxPool2D(pool_size=(int(n_filters/2)),strides=strides*4,padding=padding)(A2)\n",
    "    ##Flatten\n",
    "    F = tf.keras.layers.Flatten()(P2)\n",
    "    ##Dense layers\n",
    "    D1 = tf.keras.layers.Dense(units=units,activation=activation)(F)\n",
    "    D2 = tf.keras.layers.Dense(units=int(units/2),activation=activation,kernel_regularizer=kernel_regularizer)(D1)\n",
    "    D3 = tf.keras.layers.Dense(units=int(units/4),activation=activation,kernel_regularizer=kernel_regularizer)(D2)\n",
    "    ##output layer\n",
    "    outputs = tf.keras.layers.Dense(units=20,activation='softmax')(D3)\n",
    "    \n",
    "    #instantiate the model\n",
    "    model = tf.keras.Model(inputs=input_image,outputs=outputs)\n",
    "    return model    "
   ]
  },
  {
   "cell_type": "code",
   "execution_count": 19,
   "metadata": {
    "colab": {
     "base_uri": "https://localhost:8080/",
     "height": 0
    },
    "id": "ic6wSOjq1sTE",
    "outputId": "60684dfe-25f3-4613-b1fa-57ee02de92d3"
   },
   "outputs": [
    {
     "name": "stdout",
     "output_type": "stream",
     "text": [
      "Model: \"model\"\n",
      "_________________________________________________________________\n",
      " Layer (type)                Output Shape              Param #   \n",
      "=================================================================\n",
      " input_1 (InputLayer)        [(None, 112, 92, 1)]      0         \n",
      "                                                                 \n",
      " conv2d (Conv2D)             (None, 112, 92, 8)        136       \n",
      "                                                                 \n",
      " activation (Activation)     (None, 112, 92, 8)        0         \n",
      "                                                                 \n",
      " max_pooling2d (MaxPooling2D  (None, 14, 12, 8)        0         \n",
      " )                                                               \n",
      "                                                                 \n",
      " conv2d_1 (Conv2D)           (None, 14, 12, 16)        528       \n",
      "                                                                 \n",
      " activation_1 (Activation)   (None, 14, 12, 16)        0         \n",
      "                                                                 \n",
      " max_pooling2d_1 (MaxPooling  (None, 4, 3, 16)         0         \n",
      " 2D)                                                             \n",
      "                                                                 \n",
      " flatten (Flatten)           (None, 192)               0         \n",
      "                                                                 \n",
      " dense (Dense)               (None, 1024)              197632    \n",
      "                                                                 \n",
      " dense_1 (Dense)             (None, 512)               524800    \n",
      "                                                                 \n",
      " dense_2 (Dense)             (None, 256)               131328    \n",
      "                                                                 \n",
      " dense_3 (Dense)             (None, 20)                5140      \n",
      "                                                                 \n",
      "=================================================================\n",
      "Total params: 859,564\n",
      "Trainable params: 859,564\n",
      "Non-trainable params: 0\n",
      "_________________________________________________________________\n"
     ]
    }
   ],
   "source": [
    "INPUT_SHAPE = (X_train.shape[0],112,92,1)\n",
    "kernel_regularizer = tf.keras.regularizers.L2(l2=0.05)\n",
    "\n",
    "#call the convolutional model \n",
    "conv_model = conv_model(input_shape=INPUT_SHAPE,n_filters=8,kernel_size=4,strides=1,padding='same',units=1024,activation='relu', kernel_regularizer=kernel_regularizer)\n",
    "#compile the model\n",
    "conv_model.compile(optimizer='adam',\n",
    "                  loss='sparse_categorical_crossentropy',\n",
    "                  metrics=['accuracy'])\n",
    "conv_model.summary()"
   ]
  },
  {
   "cell_type": "code",
   "execution_count": 20,
   "metadata": {
    "id": "-NGKXxRs1sQf"
   },
   "outputs": [],
   "source": [
    "class Threshold(tf.keras.callbacks.Callback):\n",
    "    def __init__(self,cl):\n",
    "        super(Threshold, self).__init__()\n",
    "        self.cl = cl\n",
    "  \n",
    "    def epoch (self,epoch,logs=None):\n",
    "        testScore = logs['val_accuracy']\n",
    "        trainScore = logs['accuracy']\n",
    "\n",
    "        if testScore > self.cl:\n",
    "              self.model.stop_training=True"
   ]
  },
  {
   "cell_type": "code",
   "execution_count": 21,
   "metadata": {
    "colab": {
     "base_uri": "https://localhost:8080/",
     "height": 0
    },
    "id": "Y-YXoFy71sNz",
    "outputId": "3f2d3606-9acd-4c7d-8f4f-10ee7127cc45"
   },
   "outputs": [
    {
     "name": "stdout",
     "output_type": "stream",
     "text": [
      "Epoch 1/100\n",
      "8/8 - 2s - loss: 67.9855 - accuracy: 0.0500 - val_loss: 53.8101 - val_accuracy: 0.1000 - 2s/epoch - 299ms/step\n",
      "Epoch 2/100\n",
      "8/8 - 0s - loss: 46.5606 - accuracy: 0.1083 - val_loss: 38.6809 - val_accuracy: 0.1750 - 53ms/epoch - 7ms/step\n",
      "Epoch 3/100\n",
      "8/8 - 0s - loss: 35.5629 - accuracy: 0.1625 - val_loss: 31.8760 - val_accuracy: 0.3063 - 50ms/epoch - 6ms/step\n",
      "Epoch 4/100\n",
      "8/8 - 0s - loss: 29.8045 - accuracy: 0.3958 - val_loss: 27.3326 - val_accuracy: 0.3688 - 51ms/epoch - 6ms/step\n",
      "Epoch 5/100\n",
      "8/8 - 0s - loss: 25.7538 - accuracy: 0.5042 - val_loss: 23.9492 - val_accuracy: 0.5625 - 53ms/epoch - 7ms/step\n",
      "Epoch 6/100\n",
      "8/8 - 0s - loss: 22.6752 - accuracy: 0.7208 - val_loss: 21.3500 - val_accuracy: 0.7375 - 52ms/epoch - 7ms/step\n",
      "Epoch 7/100\n",
      "8/8 - 0s - loss: 20.3700 - accuracy: 0.7792 - val_loss: 19.4987 - val_accuracy: 0.6812 - 50ms/epoch - 6ms/step\n",
      "Epoch 8/100\n",
      "8/8 - 0s - loss: 18.5839 - accuracy: 0.8542 - val_loss: 17.8968 - val_accuracy: 0.8562 - 52ms/epoch - 7ms/step\n",
      "Epoch 9/100\n",
      "8/8 - 0s - loss: 17.1848 - accuracy: 0.9417 - val_loss: 16.8366 - val_accuracy: 0.8438 - 54ms/epoch - 7ms/step\n",
      "Epoch 10/100\n",
      "8/8 - 0s - loss: 16.0746 - accuracy: 0.9750 - val_loss: 15.8159 - val_accuracy: 0.8875 - 53ms/epoch - 7ms/step\n",
      "Epoch 11/100\n",
      "8/8 - 0s - loss: 15.2067 - accuracy: 0.9917 - val_loss: 15.0489 - val_accuracy: 0.8750 - 51ms/epoch - 6ms/step\n",
      "Epoch 12/100\n",
      "8/8 - 0s - loss: 14.4545 - accuracy: 0.9958 - val_loss: 14.2978 - val_accuracy: 0.9187 - 50ms/epoch - 6ms/step\n",
      "Epoch 13/100\n",
      "8/8 - 0s - loss: 13.8067 - accuracy: 1.0000 - val_loss: 13.7100 - val_accuracy: 0.9375 - 50ms/epoch - 6ms/step\n",
      "Epoch 14/100\n",
      "8/8 - 0s - loss: 13.2414 - accuracy: 0.9875 - val_loss: 13.1565 - val_accuracy: 0.9187 - 52ms/epoch - 7ms/step\n",
      "Epoch 15/100\n",
      "8/8 - 0s - loss: 12.7015 - accuracy: 1.0000 - val_loss: 12.6696 - val_accuracy: 0.9312 - 50ms/epoch - 6ms/step\n",
      "Epoch 16/100\n",
      "8/8 - 0s - loss: 12.2008 - accuracy: 1.0000 - val_loss: 12.1974 - val_accuracy: 0.9125 - 51ms/epoch - 6ms/step\n",
      "Epoch 17/100\n",
      "8/8 - 0s - loss: 11.7357 - accuracy: 1.0000 - val_loss: 11.7276 - val_accuracy: 0.9438 - 51ms/epoch - 6ms/step\n",
      "Epoch 18/100\n",
      "8/8 - 0s - loss: 11.3058 - accuracy: 1.0000 - val_loss: 11.3063 - val_accuracy: 0.9375 - 51ms/epoch - 6ms/step\n",
      "Epoch 19/100\n",
      "8/8 - 0s - loss: 10.9038 - accuracy: 1.0000 - val_loss: 10.9648 - val_accuracy: 0.8750 - 51ms/epoch - 6ms/step\n",
      "Epoch 20/100\n",
      "8/8 - 0s - loss: 10.5269 - accuracy: 1.0000 - val_loss: 10.5918 - val_accuracy: 0.9062 - 52ms/epoch - 6ms/step\n",
      "Epoch 21/100\n",
      "8/8 - 0s - loss: 10.1690 - accuracy: 1.0000 - val_loss: 10.2260 - val_accuracy: 0.9062 - 51ms/epoch - 6ms/step\n",
      "Epoch 22/100\n",
      "8/8 - 0s - loss: 9.8367 - accuracy: 0.9958 - val_loss: 10.0185 - val_accuracy: 0.8750 - 51ms/epoch - 6ms/step\n",
      "Epoch 23/100\n",
      "8/8 - 0s - loss: 9.5060 - accuracy: 1.0000 - val_loss: 9.5750 - val_accuracy: 0.9312 - 50ms/epoch - 6ms/step\n",
      "Epoch 24/100\n",
      "8/8 - 0s - loss: 9.1827 - accuracy: 1.0000 - val_loss: 9.2479 - val_accuracy: 0.9312 - 51ms/epoch - 6ms/step\n",
      "Epoch 25/100\n",
      "8/8 - 0s - loss: 8.8811 - accuracy: 1.0000 - val_loss: 8.9914 - val_accuracy: 0.9062 - 52ms/epoch - 6ms/step\n",
      "Epoch 26/100\n",
      "8/8 - 0s - loss: 8.5972 - accuracy: 1.0000 - val_loss: 8.7020 - val_accuracy: 0.9312 - 53ms/epoch - 7ms/step\n",
      "Epoch 27/100\n",
      "8/8 - 0s - loss: 8.3225 - accuracy: 1.0000 - val_loss: 8.4517 - val_accuracy: 0.9187 - 56ms/epoch - 7ms/step\n",
      "Epoch 28/100\n",
      "8/8 - 0s - loss: 8.0583 - accuracy: 1.0000 - val_loss: 8.1981 - val_accuracy: 0.8875 - 50ms/epoch - 6ms/step\n",
      "Epoch 29/100\n",
      "8/8 - 0s - loss: 7.8056 - accuracy: 1.0000 - val_loss: 7.9075 - val_accuracy: 0.9250 - 50ms/epoch - 6ms/step\n",
      "Epoch 30/100\n",
      "8/8 - 0s - loss: 7.5628 - accuracy: 1.0000 - val_loss: 7.7105 - val_accuracy: 0.9250 - 51ms/epoch - 6ms/step\n",
      "Epoch 31/100\n",
      "8/8 - 0s - loss: 7.3343 - accuracy: 1.0000 - val_loss: 7.4604 - val_accuracy: 0.9438 - 51ms/epoch - 6ms/step\n",
      "Epoch 32/100\n",
      "8/8 - 0s - loss: 7.1084 - accuracy: 1.0000 - val_loss: 7.2910 - val_accuracy: 0.9000 - 49ms/epoch - 6ms/step\n",
      "Epoch 33/100\n",
      "8/8 - 0s - loss: 6.8929 - accuracy: 1.0000 - val_loss: 7.0240 - val_accuracy: 0.9250 - 51ms/epoch - 6ms/step\n",
      "Epoch 34/100\n",
      "8/8 - 0s - loss: 6.6889 - accuracy: 1.0000 - val_loss: 6.8835 - val_accuracy: 0.9312 - 50ms/epoch - 6ms/step\n",
      "Epoch 35/100\n",
      "8/8 - 0s - loss: 6.4883 - accuracy: 1.0000 - val_loss: 6.6772 - val_accuracy: 0.9187 - 50ms/epoch - 6ms/step\n",
      "Epoch 36/100\n",
      "8/8 - 0s - loss: 6.2990 - accuracy: 1.0000 - val_loss: 6.4753 - val_accuracy: 0.9250 - 56ms/epoch - 7ms/step\n",
      "Epoch 37/100\n",
      "8/8 - 0s - loss: 6.1078 - accuracy: 1.0000 - val_loss: 6.2906 - val_accuracy: 0.9250 - 52ms/epoch - 6ms/step\n",
      "Epoch 38/100\n",
      "8/8 - 0s - loss: 5.9283 - accuracy: 1.0000 - val_loss: 6.1238 - val_accuracy: 0.9250 - 52ms/epoch - 6ms/step\n",
      "Epoch 39/100\n",
      "8/8 - 0s - loss: 5.7566 - accuracy: 1.0000 - val_loss: 5.9903 - val_accuracy: 0.8687 - 50ms/epoch - 6ms/step\n",
      "Epoch 40/100\n",
      "8/8 - 0s - loss: 5.5934 - accuracy: 1.0000 - val_loss: 5.7746 - val_accuracy: 0.9375 - 50ms/epoch - 6ms/step\n",
      "Epoch 41/100\n",
      "8/8 - 0s - loss: 5.4270 - accuracy: 1.0000 - val_loss: 5.6204 - val_accuracy: 0.9375 - 52ms/epoch - 6ms/step\n",
      "Epoch 42/100\n",
      "8/8 - 0s - loss: 5.2747 - accuracy: 1.0000 - val_loss: 5.4572 - val_accuracy: 0.9187 - 53ms/epoch - 7ms/step\n",
      "Epoch 43/100\n",
      "8/8 - 0s - loss: 5.1198 - accuracy: 1.0000 - val_loss: 5.3393 - val_accuracy: 0.9187 - 51ms/epoch - 6ms/step\n",
      "Epoch 44/100\n",
      "8/8 - 0s - loss: 4.9782 - accuracy: 1.0000 - val_loss: 5.1422 - val_accuracy: 0.9438 - 52ms/epoch - 6ms/step\n",
      "Epoch 45/100\n",
      "8/8 - 0s - loss: 4.8365 - accuracy: 1.0000 - val_loss: 5.0871 - val_accuracy: 0.9062 - 52ms/epoch - 7ms/step\n",
      "Epoch 46/100\n",
      "8/8 - 0s - loss: 4.7031 - accuracy: 1.0000 - val_loss: 4.9958 - val_accuracy: 0.9000 - 56ms/epoch - 7ms/step\n",
      "Epoch 47/100\n",
      "8/8 - 0s - loss: 4.5716 - accuracy: 1.0000 - val_loss: 4.7644 - val_accuracy: 0.9375 - 53ms/epoch - 7ms/step\n",
      "Epoch 48/100\n",
      "8/8 - 0s - loss: 4.4415 - accuracy: 1.0000 - val_loss: 4.6590 - val_accuracy: 0.9250 - 51ms/epoch - 6ms/step\n",
      "Epoch 49/100\n",
      "8/8 - 0s - loss: 4.3165 - accuracy: 1.0000 - val_loss: 4.5658 - val_accuracy: 0.9312 - 53ms/epoch - 7ms/step\n",
      "Epoch 50/100\n",
      "8/8 - 0s - loss: 4.1958 - accuracy: 1.0000 - val_loss: 4.4191 - val_accuracy: 0.9187 - 51ms/epoch - 6ms/step\n",
      "Epoch 51/100\n",
      "8/8 - 0s - loss: 4.0806 - accuracy: 1.0000 - val_loss: 4.3144 - val_accuracy: 0.9375 - 51ms/epoch - 6ms/step\n",
      "Epoch 52/100\n",
      "8/8 - 0s - loss: 3.9664 - accuracy: 1.0000 - val_loss: 4.1821 - val_accuracy: 0.9438 - 50ms/epoch - 6ms/step\n",
      "Epoch 53/100\n",
      "8/8 - 0s - loss: 3.8567 - accuracy: 1.0000 - val_loss: 4.0981 - val_accuracy: 0.9375 - 51ms/epoch - 6ms/step\n",
      "Epoch 54/100\n",
      "8/8 - 0s - loss: 3.7528 - accuracy: 1.0000 - val_loss: 3.9907 - val_accuracy: 0.9312 - 57ms/epoch - 7ms/step\n",
      "Epoch 55/100\n",
      "8/8 - 0s - loss: 3.6518 - accuracy: 1.0000 - val_loss: 3.8917 - val_accuracy: 0.9438 - 54ms/epoch - 7ms/step\n",
      "Epoch 56/100\n",
      "8/8 - 0s - loss: 3.5528 - accuracy: 1.0000 - val_loss: 3.7924 - val_accuracy: 0.9187 - 54ms/epoch - 7ms/step\n",
      "Epoch 57/100\n",
      "8/8 - 0s - loss: 3.4584 - accuracy: 1.0000 - val_loss: 3.7867 - val_accuracy: 0.9312 - 53ms/epoch - 7ms/step\n",
      "Epoch 58/100\n",
      "8/8 - 0s - loss: 3.3969 - accuracy: 0.9875 - val_loss: 3.6972 - val_accuracy: 0.9312 - 55ms/epoch - 7ms/step\n",
      "Epoch 59/100\n",
      "8/8 - 0s - loss: 3.2938 - accuracy: 1.0000 - val_loss: 3.5922 - val_accuracy: 0.9125 - 53ms/epoch - 7ms/step\n",
      "Epoch 60/100\n",
      "8/8 - 0s - loss: 3.2085 - accuracy: 1.0000 - val_loss: 3.5131 - val_accuracy: 0.9250 - 55ms/epoch - 7ms/step\n",
      "Epoch 61/100\n",
      "8/8 - 0s - loss: 3.1151 - accuracy: 1.0000 - val_loss: 3.3882 - val_accuracy: 0.9125 - 55ms/epoch - 7ms/step\n",
      "Epoch 62/100\n",
      "8/8 - 0s - loss: 3.0275 - accuracy: 1.0000 - val_loss: 3.2895 - val_accuracy: 0.9375 - 54ms/epoch - 7ms/step\n",
      "Epoch 63/100\n",
      "8/8 - 0s - loss: 2.9435 - accuracy: 1.0000 - val_loss: 3.2186 - val_accuracy: 0.9187 - 54ms/epoch - 7ms/step\n",
      "Epoch 64/100\n",
      "8/8 - 0s - loss: 2.8632 - accuracy: 1.0000 - val_loss: 3.1063 - val_accuracy: 0.9375 - 51ms/epoch - 6ms/step\n",
      "Epoch 65/100\n",
      "8/8 - 0s - loss: 2.7863 - accuracy: 1.0000 - val_loss: 3.0462 - val_accuracy: 0.9312 - 53ms/epoch - 7ms/step\n",
      "Epoch 66/100\n",
      "8/8 - 0s - loss: 2.7119 - accuracy: 1.0000 - val_loss: 2.9773 - val_accuracy: 0.9438 - 51ms/epoch - 6ms/step\n",
      "Epoch 67/100\n",
      "8/8 - 0s - loss: 2.6420 - accuracy: 1.0000 - val_loss: 2.9246 - val_accuracy: 0.9312 - 51ms/epoch - 6ms/step\n",
      "Epoch 68/100\n",
      "8/8 - 0s - loss: 2.5712 - accuracy: 1.0000 - val_loss: 2.8301 - val_accuracy: 0.9312 - 51ms/epoch - 6ms/step\n",
      "Epoch 69/100\n",
      "8/8 - 0s - loss: 2.5055 - accuracy: 1.0000 - val_loss: 2.8192 - val_accuracy: 0.8938 - 52ms/epoch - 6ms/step\n",
      "Epoch 70/100\n",
      "8/8 - 0s - loss: 2.4431 - accuracy: 1.0000 - val_loss: 2.6827 - val_accuracy: 0.9375 - 54ms/epoch - 7ms/step\n",
      "Epoch 71/100\n",
      "8/8 - 0s - loss: 2.3788 - accuracy: 1.0000 - val_loss: 2.7014 - val_accuracy: 0.9375 - 52ms/epoch - 7ms/step\n",
      "Epoch 72/100\n",
      "8/8 - 0s - loss: 2.3169 - accuracy: 1.0000 - val_loss: 2.6044 - val_accuracy: 0.9250 - 51ms/epoch - 6ms/step\n",
      "Epoch 73/100\n",
      "8/8 - 0s - loss: 2.2561 - accuracy: 1.0000 - val_loss: 2.5443 - val_accuracy: 0.9312 - 51ms/epoch - 6ms/step\n",
      "Epoch 74/100\n",
      "8/8 - 0s - loss: 2.1985 - accuracy: 1.0000 - val_loss: 2.4941 - val_accuracy: 0.9062 - 52ms/epoch - 6ms/step\n",
      "Epoch 75/100\n",
      "8/8 - 0s - loss: 2.1432 - accuracy: 1.0000 - val_loss: 2.4136 - val_accuracy: 0.9438 - 51ms/epoch - 6ms/step\n",
      "Epoch 76/100\n",
      "8/8 - 0s - loss: 2.0973 - accuracy: 1.0000 - val_loss: 2.4416 - val_accuracy: 0.8938 - 58ms/epoch - 7ms/step\n",
      "Epoch 77/100\n",
      "8/8 - 0s - loss: 2.0526 - accuracy: 1.0000 - val_loss: 2.3568 - val_accuracy: 0.9125 - 51ms/epoch - 6ms/step\n",
      "Epoch 78/100\n",
      "8/8 - 0s - loss: 2.0465 - accuracy: 0.9917 - val_loss: 2.3501 - val_accuracy: 0.8938 - 54ms/epoch - 7ms/step\n",
      "Epoch 79/100\n",
      "8/8 - 0s - loss: 2.0037 - accuracy: 0.9917 - val_loss: 2.2874 - val_accuracy: 0.9187 - 51ms/epoch - 6ms/step\n",
      "Epoch 80/100\n",
      "8/8 - 0s - loss: 1.9410 - accuracy: 1.0000 - val_loss: 2.4095 - val_accuracy: 0.8875 - 52ms/epoch - 6ms/step\n",
      "Epoch 81/100\n",
      "8/8 - 0s - loss: 1.8819 - accuracy: 1.0000 - val_loss: 2.1575 - val_accuracy: 0.9250 - 53ms/epoch - 7ms/step\n",
      "Epoch 82/100\n",
      "8/8 - 0s - loss: 1.8271 - accuracy: 1.0000 - val_loss: 2.1250 - val_accuracy: 0.9187 - 57ms/epoch - 7ms/step\n",
      "Epoch 83/100\n",
      "8/8 - 0s - loss: 1.7718 - accuracy: 1.0000 - val_loss: 2.0323 - val_accuracy: 0.9312 - 52ms/epoch - 7ms/step\n",
      "Epoch 84/100\n",
      "8/8 - 0s - loss: 1.7203 - accuracy: 1.0000 - val_loss: 1.9733 - val_accuracy: 0.9312 - 50ms/epoch - 6ms/step\n",
      "Epoch 85/100\n",
      "8/8 - 0s - loss: 1.6711 - accuracy: 1.0000 - val_loss: 1.9558 - val_accuracy: 0.9375 - 52ms/epoch - 7ms/step\n",
      "Epoch 86/100\n",
      "8/8 - 0s - loss: 1.6259 - accuracy: 1.0000 - val_loss: 1.8892 - val_accuracy: 0.9312 - 54ms/epoch - 7ms/step\n",
      "Epoch 87/100\n",
      "8/8 - 0s - loss: 1.5835 - accuracy: 1.0000 - val_loss: 1.8696 - val_accuracy: 0.9250 - 50ms/epoch - 6ms/step\n",
      "Epoch 88/100\n",
      "8/8 - 0s - loss: 1.5433 - accuracy: 1.0000 - val_loss: 1.8183 - val_accuracy: 0.9312 - 52ms/epoch - 7ms/step\n",
      "Epoch 89/100\n",
      "8/8 - 0s - loss: 1.5050 - accuracy: 1.0000 - val_loss: 1.7992 - val_accuracy: 0.9312 - 52ms/epoch - 6ms/step\n",
      "Epoch 90/100\n",
      "8/8 - 0s - loss: 1.4674 - accuracy: 1.0000 - val_loss: 1.7762 - val_accuracy: 0.9125 - 54ms/epoch - 7ms/step\n",
      "Epoch 91/100\n",
      "8/8 - 0s - loss: 1.4314 - accuracy: 1.0000 - val_loss: 1.7290 - val_accuracy: 0.9312 - 50ms/epoch - 6ms/step\n",
      "Epoch 92/100\n",
      "8/8 - 0s - loss: 1.3975 - accuracy: 1.0000 - val_loss: 1.6842 - val_accuracy: 0.9250 - 52ms/epoch - 7ms/step\n",
      "Epoch 93/100\n",
      "8/8 - 0s - loss: 1.3635 - accuracy: 1.0000 - val_loss: 1.7431 - val_accuracy: 0.9062 - 51ms/epoch - 6ms/step\n",
      "Epoch 94/100\n",
      "8/8 - 0s - loss: 1.3334 - accuracy: 1.0000 - val_loss: 1.6670 - val_accuracy: 0.9000 - 50ms/epoch - 6ms/step\n",
      "Epoch 95/100\n",
      "8/8 - 0s - loss: 1.3019 - accuracy: 1.0000 - val_loss: 1.5849 - val_accuracy: 0.9062 - 50ms/epoch - 6ms/step\n",
      "Epoch 96/100\n",
      "8/8 - 0s - loss: 1.2713 - accuracy: 1.0000 - val_loss: 1.5894 - val_accuracy: 0.9000 - 55ms/epoch - 7ms/step\n",
      "Epoch 97/100\n",
      "8/8 - 0s - loss: 1.2424 - accuracy: 1.0000 - val_loss: 1.6123 - val_accuracy: 0.9250 - 52ms/epoch - 6ms/step\n",
      "Epoch 98/100\n",
      "8/8 - 0s - loss: 1.2103 - accuracy: 1.0000 - val_loss: 1.4843 - val_accuracy: 0.9125 - 50ms/epoch - 6ms/step\n",
      "Epoch 99/100\n",
      "8/8 - 0s - loss: 1.1788 - accuracy: 1.0000 - val_loss: 1.4550 - val_accuracy: 0.9312 - 53ms/epoch - 7ms/step\n",
      "Epoch 100/100\n",
      "8/8 - 0s - loss: 1.1479 - accuracy: 1.0000 - val_loss: 1.4301 - val_accuracy: 0.9312 - 56ms/epoch - 7ms/step\n"
     ]
    }
   ],
   "source": [
    "history = conv_model.fit(X_train,y_train,epochs=100,validation_data=(X_test,y_test),verbose=2, callbacks=[Threshold(0.92)],batch_size=32)"
   ]
  },
  {
   "cell_type": "code",
   "execution_count": 22,
   "metadata": {
    "colab": {
     "base_uri": "https://localhost:8080/",
     "height": 206
    },
    "id": "cf1jO7zN1sLG",
    "outputId": "65af2cf7-c58a-46fb-eb3a-873c3a987b0a"
   },
   "outputs": [
    {
     "data": {
      "text/html": [
       "\n",
       "  <div id=\"df-418094c1-56d1-484b-8de0-b798f2d40554\">\n",
       "    <div class=\"colab-df-container\">\n",
       "      <div>\n",
       "<style scoped>\n",
       "    .dataframe tbody tr th:only-of-type {\n",
       "        vertical-align: middle;\n",
       "    }\n",
       "\n",
       "    .dataframe tbody tr th {\n",
       "        vertical-align: top;\n",
       "    }\n",
       "\n",
       "    .dataframe thead th {\n",
       "        text-align: right;\n",
       "    }\n",
       "</style>\n",
       "<table border=\"1\" class=\"dataframe\">\n",
       "  <thead>\n",
       "    <tr style=\"text-align: right;\">\n",
       "      <th></th>\n",
       "      <th>loss</th>\n",
       "      <th>accuracy</th>\n",
       "      <th>val_loss</th>\n",
       "      <th>val_accuracy</th>\n",
       "    </tr>\n",
       "  </thead>\n",
       "  <tbody>\n",
       "    <tr>\n",
       "      <th>0</th>\n",
       "      <td>67.985519</td>\n",
       "      <td>0.050000</td>\n",
       "      <td>53.810127</td>\n",
       "      <td>0.10000</td>\n",
       "    </tr>\n",
       "    <tr>\n",
       "      <th>1</th>\n",
       "      <td>46.560551</td>\n",
       "      <td>0.108333</td>\n",
       "      <td>38.680946</td>\n",
       "      <td>0.17500</td>\n",
       "    </tr>\n",
       "    <tr>\n",
       "      <th>2</th>\n",
       "      <td>35.562904</td>\n",
       "      <td>0.162500</td>\n",
       "      <td>31.875996</td>\n",
       "      <td>0.30625</td>\n",
       "    </tr>\n",
       "    <tr>\n",
       "      <th>3</th>\n",
       "      <td>29.804464</td>\n",
       "      <td>0.395833</td>\n",
       "      <td>27.332561</td>\n",
       "      <td>0.36875</td>\n",
       "    </tr>\n",
       "    <tr>\n",
       "      <th>4</th>\n",
       "      <td>25.753807</td>\n",
       "      <td>0.504167</td>\n",
       "      <td>23.949188</td>\n",
       "      <td>0.56250</td>\n",
       "    </tr>\n",
       "  </tbody>\n",
       "</table>\n",
       "</div>\n",
       "      <button class=\"colab-df-convert\" onclick=\"convertToInteractive('df-418094c1-56d1-484b-8de0-b798f2d40554')\"\n",
       "              title=\"Convert this dataframe to an interactive table.\"\n",
       "              style=\"display:none;\">\n",
       "        \n",
       "  <svg xmlns=\"http://www.w3.org/2000/svg\" height=\"24px\"viewBox=\"0 0 24 24\"\n",
       "       width=\"24px\">\n",
       "    <path d=\"M0 0h24v24H0V0z\" fill=\"none\"/>\n",
       "    <path d=\"M18.56 5.44l.94 2.06.94-2.06 2.06-.94-2.06-.94-.94-2.06-.94 2.06-2.06.94zm-11 1L8.5 8.5l.94-2.06 2.06-.94-2.06-.94L8.5 2.5l-.94 2.06-2.06.94zm10 10l.94 2.06.94-2.06 2.06-.94-2.06-.94-.94-2.06-.94 2.06-2.06.94z\"/><path d=\"M17.41 7.96l-1.37-1.37c-.4-.4-.92-.59-1.43-.59-.52 0-1.04.2-1.43.59L10.3 9.45l-7.72 7.72c-.78.78-.78 2.05 0 2.83L4 21.41c.39.39.9.59 1.41.59.51 0 1.02-.2 1.41-.59l7.78-7.78 2.81-2.81c.8-.78.8-2.07 0-2.86zM5.41 20L4 18.59l7.72-7.72 1.47 1.35L5.41 20z\"/>\n",
       "  </svg>\n",
       "      </button>\n",
       "      \n",
       "  <style>\n",
       "    .colab-df-container {\n",
       "      display:flex;\n",
       "      flex-wrap:wrap;\n",
       "      gap: 12px;\n",
       "    }\n",
       "\n",
       "    .colab-df-convert {\n",
       "      background-color: #E8F0FE;\n",
       "      border: none;\n",
       "      border-radius: 50%;\n",
       "      cursor: pointer;\n",
       "      display: none;\n",
       "      fill: #1967D2;\n",
       "      height: 32px;\n",
       "      padding: 0 0 0 0;\n",
       "      width: 32px;\n",
       "    }\n",
       "\n",
       "    .colab-df-convert:hover {\n",
       "      background-color: #E2EBFA;\n",
       "      box-shadow: 0px 1px 2px rgba(60, 64, 67, 0.3), 0px 1px 3px 1px rgba(60, 64, 67, 0.15);\n",
       "      fill: #174EA6;\n",
       "    }\n",
       "\n",
       "    [theme=dark] .colab-df-convert {\n",
       "      background-color: #3B4455;\n",
       "      fill: #D2E3FC;\n",
       "    }\n",
       "\n",
       "    [theme=dark] .colab-df-convert:hover {\n",
       "      background-color: #434B5C;\n",
       "      box-shadow: 0px 1px 3px 1px rgba(0, 0, 0, 0.15);\n",
       "      filter: drop-shadow(0px 1px 2px rgba(0, 0, 0, 0.3));\n",
       "      fill: #FFFFFF;\n",
       "    }\n",
       "  </style>\n",
       "\n",
       "      <script>\n",
       "        const buttonEl =\n",
       "          document.querySelector('#df-418094c1-56d1-484b-8de0-b798f2d40554 button.colab-df-convert');\n",
       "        buttonEl.style.display =\n",
       "          google.colab.kernel.accessAllowed ? 'block' : 'none';\n",
       "\n",
       "        async function convertToInteractive(key) {\n",
       "          const element = document.querySelector('#df-418094c1-56d1-484b-8de0-b798f2d40554');\n",
       "          const dataTable =\n",
       "            await google.colab.kernel.invokeFunction('convertToInteractive',\n",
       "                                                     [key], {});\n",
       "          if (!dataTable) return;\n",
       "\n",
       "          const docLinkHtml = 'Like what you see? Visit the ' +\n",
       "            '<a target=\"_blank\" href=https://colab.research.google.com/notebooks/data_table.ipynb>data table notebook</a>'\n",
       "            + ' to learn more about interactive tables.';\n",
       "          element.innerHTML = '';\n",
       "          dataTable['output_type'] = 'display_data';\n",
       "          await google.colab.output.renderOutput(dataTable, element);\n",
       "          const docLink = document.createElement('div');\n",
       "          docLink.innerHTML = docLinkHtml;\n",
       "          element.appendChild(docLink);\n",
       "        }\n",
       "      </script>\n",
       "    </div>\n",
       "  </div>\n",
       "  "
      ],
      "text/plain": [
       "        loss  accuracy   val_loss  val_accuracy\n",
       "0  67.985519  0.050000  53.810127       0.10000\n",
       "1  46.560551  0.108333  38.680946       0.17500\n",
       "2  35.562904  0.162500  31.875996       0.30625\n",
       "3  29.804464  0.395833  27.332561       0.36875\n",
       "4  25.753807  0.504167  23.949188       0.56250"
      ]
     },
     "execution_count": 22,
     "metadata": {},
     "output_type": "execute_result"
    }
   ],
   "source": [
    "results = pd.DataFrame(history.history)\n",
    "results.head()"
   ]
  },
  {
   "cell_type": "code",
   "execution_count": 23,
   "metadata": {
    "colab": {
     "base_uri": "https://localhost:8080/",
     "height": 301
    },
    "id": "RkItYRKV1sI0",
    "outputId": "7054a055-dfe2-475a-f1f2-5056c50d36c3"
   },
   "outputs": [
    {
     "data": {
      "image/png": "[encoded data removed]",
      "text/plain": [
       "<Figure size 432x288 with 1 Axes>"
      ]
     },
     "metadata": {
      "needs_background": "light"
     },
     "output_type": "display_data"
    }
   ],
   "source": [
    "results[['accuracy','val_accuracy']].plot()\n",
    "plt.title('Model Accuracy Plot')\n",
    "plt.xlabel('Epochs')\n",
    "plt.ylabel('Accuracy')\n",
    "plt.grid()\n",
    "plt.show()"
   ]
  },
  {
   "cell_type": "code",
   "execution_count": 24,
   "metadata": {
    "colab": {
     "base_uri": "https://localhost:8080/",
     "height": 301
    },
    "id": "f0jiaPcu1sGC",
    "outputId": "f504744a-8a2c-45a2-9a1f-a7f92b2c6e80"
   },
   "outputs": [
    {
     "data": {
      "image/png": "[encoded data removed]",
      "text/plain": [
       "<Figure size 432x288 with 1 Axes>"
      ]
     },
     "metadata": {
      "needs_background": "light"
     },
     "output_type": "display_data"
    }
   ],
   "source": [
    "results[['loss','val_loss']].plot()\n",
    "plt.title('Model Loss Plot')\n",
    "plt.xlabel('Epochs')\n",
    "plt.ylabel('Loss')\n",
    "plt.grid()\n",
    "plt.show()"
   ]
  }
 ],
 "metadata": {
  "accelerator": "GPU",
  "colab": {
   "machine_shape": "hm",
   "name": "EdsonTeixeira_Advanced_DL_and_CV_Assessement_Project_PerformFacialRecognitionwithDLKerasUsingCNN.ipynb",
   "provenance": []
  },
  "kernelspec": {
   "display_name": "Python 3 (ipykernel)",
   "language": "python",
   "name": "python3"
  },
  "language_info": {
   "codemirror_mode": {
    "name": "ipython",
    "version": 3
   },
   "file_extension": ".py",
   "mimetype": "text/x-python",
   "name": "python",
   "nbconvert_exporter": "python",
   "pygments_lexer": "ipython3",
   "version": "3.9.7"
  }
 },
 "nbformat": 4,
 "nbformat_minor": 1
}
